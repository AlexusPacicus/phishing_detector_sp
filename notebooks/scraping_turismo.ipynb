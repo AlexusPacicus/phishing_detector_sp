{
 "cells": [
  {
   "cell_type": "markdown",
   "id": "b8678128-3412-4e4f-ba10-d02c8f182816",
   "metadata": {},
   "source": [
    "# Viajes / Turismo: Scraping de URLs legítimas\n",
    "\n",
    "**Fecha de ejecución:** 22/07/2025  \n",
    "**Empresas objetivo:**  \n",
    "Booking.com, Airbnb, Iberia, Ryanair, Vueling, Renfe, Trivago, Logitravel\n",
    "\n",
    "---\n"
   ]
  },
  {
   "cell_type": "code",
   "execution_count": 1,
   "id": "77a6cc4e-a18a-488b-8f75-120100018838",
   "metadata": {},
   "outputs": [],
   "source": [
    "# Importamos las librerías necesarias para el scraping y el análisis de datos\n",
    "import requests                             # Para hacer peticiones HTTP a las webs\n",
    "from bs4 import BeautifulSoup               # Para parsear el HTML de la página web\n",
    "from urllib.parse import urlparse, urljoin  # Para trabajar con URLs y dominios\n",
    "import pandas as pd                         # Para almacenar y exportar los datos en DataFrame\n",
    "import time                                 # Para pausar entre peticiones y evitar bloqueos\n"
   ]
  },
  {
   "cell_type": "code",
   "execution_count": 2,
   "id": "614b5b25-c245-410f-9620-a0bd81e3631a",
   "metadata": {},
   "outputs": [],
   "source": [
    "def obtener_urls(base_url, delay=1):\n",
    "    \"\"\"\n",
    "    Descarga la página principal de una web y extrae todas las URLs internas.\n",
    "    Solo añade URLs que pertenezcan al dominio principal o subdominios de la empresa.\n",
    "    - base_url: URL principal de la empresa\n",
    "    - delay: segundos de espera tras cada request para evitar bloqueos\n",
    "    \"\"\"\n",
    "    try:\n",
    "        # Definimos un User-Agent \"realista\" para que el servidor no bloquee la petición por bot\n",
    "        headers = {\n",
    "            \"User-Agent\": (\n",
    "                \"Mozilla/5.0 (Windows NT 10.0; Win64; x64) \"\n",
    "                \"AppleWebKit/537.36 (KHTML, like Gecko) \"\n",
    "                \"Chrome/91.0.4472.124 Safari/537.36\"\n",
    "            )\n",
    "        }\n",
    "        # Hacemos la petición HTTP a la web (con timeout de 10 segundos)\n",
    "        response = requests.get(base_url, timeout=10, headers=headers)\n",
    "\n",
    "        # Parseamos el HTML recibido con BeautifulSoup\n",
    "        soup = BeautifulSoup(response.text, 'html.parser')\n",
    "\n",
    "        # Extraemos el dominio principal (ej: 'amazon.es' de 'www.amazon.es')\n",
    "        dominio_empresa = urlparse(base_url).netloc\n",
    "        if dominio_empresa.startswith('www.'):\n",
    "            dominio_base = dominio_empresa[4:]\n",
    "        else:\n",
    "            dominio_base = dominio_empresa\n",
    "\n",
    "        # Creamos un set para guardar solo URLs únicas\n",
    "        urls = set()\n",
    "\n",
    "        # Buscamos todos los enlaces <a> que tengan atributo href\n",
    "        for link in soup.find_all('a', href=True):\n",
    "            href = link['href']                  # Obtenemos el href\n",
    "            href = urljoin(base_url, href)       # Convertimos a URL absoluta\n",
    "            dominio_href = urlparse(href).netloc # Dominio del enlace\n",
    "\n",
    "            # Eliminamos 'www.' para comparar dominios correctamente\n",
    "            if dominio_href.startswith('www.'):\n",
    "                dominio_href_base = dominio_href[4:]\n",
    "            else:\n",
    "                dominio_href_base = dominio_href\n",
    "\n",
    "            # Añadimos solo si es del dominio principal o subdominio\n",
    "            if dominio_href_base == dominio_base or dominio_href_base.endswith('.' + dominio_base):\n",
    "                urls.add(href)\n",
    "\n",
    "        # Esperamos el tiempo indicado (para no ser bloqueados por el servidor)\n",
    "        time.sleep(delay)\n",
    "\n",
    "        # Devolvemos la lista de URLs y un estado \"OK\"\n",
    "        return list(urls), \"OK\"\n",
    "\n",
    "    except Exception as e:\n",
    "        # Si hay error, lo devolvemos como estado y lista vacía de URLs\n",
    "        return [], str(e)\n"
   ]
  },
  {
   "cell_type": "code",
   "execution_count": 4,
   "id": "e91bc53f-bb93-4ce0-aa89-0fccb915c7b5",
   "metadata": {},
   "outputs": [],
   "source": [
    "empresas_viajes = {\n",
    "    \"Booking.com\": \"https://www.booking.com\",\n",
    "    \"Airbnb\": \"https://www.airbnb.es\",\n",
    "    \"Iberia\": \"https://www.iberia.com\",\n",
    "    \"Ryanair\": \"https://www.ryanair.com\",\n",
    "    \"Vueling\": \"https://www.vueling.com\",\n",
    "    \"Renfe\": \"https://www.renfe.com\",\n",
    "    \"Trivago\": \"https://www.trivago.es\",\n",
    "    \"Logitravel\": \"https://www.logitravel.com\"\n",
    "}\n"
   ]
  },
  {
   "cell_type": "code",
   "execution_count": 5,
   "id": "4459a367-381d-477e-9bd3-a93cfde42ad8",
   "metadata": {
    "scrolled": true
   },
   "outputs": [
    {
     "name": "stdout",
     "output_type": "stream",
     "text": [
      "Scraping empresa: Booking.com\n",
      "Scraping empresa: Airbnb\n",
      "Scraping empresa: Iberia\n",
      "Scraping empresa: Ryanair\n",
      "Scraping empresa: Vueling\n",
      "Scraping empresa: Renfe\n",
      "Scraping empresa: Trivago\n",
      "Scraping empresa: Logitravel\n",
      "       empresa                                                url       fecha  \\\n",
      "0  Booking.com  https://www.booking.com/city/es/benidorm.es.ht...  22/07/2025   \n",
      "1  Booking.com  https://www.booking.com/country/th.es.html?lab...  22/07/2025   \n",
      "2  Booking.com  https://www.booking.com/city/es/cuenca.es.html...  22/07/2025   \n",
      "3  Booking.com  https://www.booking.com/searchresults.es.html?...  22/07/2025   \n",
      "4  Booking.com  https://www.booking.com/city/es/burgos.es.html...  22/07/2025   \n",
      "\n",
      "  estado  \n",
      "0     OK  \n",
      "1     OK  \n",
      "2     OK  \n",
      "3     OK  \n",
      "4     OK  \n"
     ]
    }
   ],
   "source": [
    "# Lista donde almacenaremos los resultados de todas las empresas\n",
    "resultados = []\n",
    "\n",
    "# Guardamos la fecha actual \n",
    "fecha = pd.Timestamp.today().strftime(\"%d/%m/%Y\")\n",
    "\n",
    "# Iteramos sobre cada empresa y su URL\n",
    "for nombre, url_base in empresas_viajes.items():\n",
    "    print(f'Scraping empresa: {nombre}')                # Log para saber el progreso\n",
    "    urls, estado = obtener_urls(url_base)               # Llamamos a la función de scraping\n",
    "    if urls:\n",
    "        # Si hay URLs, añadimos cada una como fila en los resultados\n",
    "        for url in urls:\n",
    "            resultados.append({\n",
    "                'empresa': nombre,\n",
    "                'url': url,\n",
    "                'fecha': fecha,\n",
    "                'estado': estado\n",
    "            })\n",
    "    else:\n",
    "        # Si falla o no hay URLs, registramos igualmente el intento\n",
    "        resultados.append({\n",
    "            'empresa': nombre,\n",
    "            'url': '',\n",
    "            'fecha': fecha,\n",
    "            'estado': estado\n",
    "        })\n",
    "\n",
    "# Convertimos la lista de resultados en un DataFrame de pandas\n",
    "df_scrap = pd.DataFrame(resultados)\n",
    "\n",
    "# Guardamos el DataFrame como CSV en la carpeta correspondiente (cambia el nombre por sector)\n",
    "df_scrap.to_csv('../data/raw/viajes_legitimas_crudo.csv', index=False)\n",
    "\n",
    "# Mostramos por pantalla las primeras filas del DataFrame para revisión rápida\n",
    "print(df_scrap.head())\n"
   ]
  },
  {
   "cell_type": "code",
   "execution_count": 6,
   "id": "ddbfa112-062a-4104-ad21-e5cac924d749",
   "metadata": {},
   "outputs": [
    {
     "name": "stdout",
     "output_type": "stream",
     "text": [
      "empresa\n",
      "Trivago        315\n",
      "Booking.com    216\n",
      "Vueling         15\n",
      "Airbnb          13\n",
      "Iberia           1\n",
      "Ryanair          1\n",
      "Renfe            1\n",
      "Logitravel       1\n",
      "Name: count, dtype: int64\n"
     ]
    }
   ],
   "source": [
    "print(df_scrap['empresa'].value_counts())\n",
    "\n",
    "\n"
   ]
  },
  {
   "cell_type": "markdown",
   "id": "ee2f7e80-7279-4075-98e7-ab162ae8b989",
   "metadata": {},
   "source": [
    "| Empresa      | URLs únicas | Fecha      | Estado / Observaciones                  |\n",
    "|--------------|------------|------------|-----------------------------------------|\n",
    "| Trivago      |   315      | 22/07/2025 | OK                                      |\n",
    "| Booking.com  |   216      | 22/07/2025 | OK                                      |\n",
    "| Vueling      |    15      | 22/07/2025 | OK                                      |\n",
    "| Airbnb       |    13      | 22/07/2025 | OK                                      |\n",
    "| Iberia       |     1      | 22/07/2025 | OK – Home muy básica/minimalista        |\n",
    "| Ryanair      |     1      | 22/07/2025 | OK – Home muy básica/minimalista        |\n",
    "| Renfe        |     1      | 22/07/2025 | OK – Home muy básica/minimalista        |\n",
    "| Logitravel   |     1      | 22/07/2025 | OK – Home muy básica/minimalista        |\n"
   ]
  }
 ],
 "metadata": {
  "kernelspec": {
   "display_name": "Python (phishing-env)",
   "language": "python",
   "name": "phishing-env"
  },
  "language_info": {
   "codemirror_mode": {
    "name": "ipython",
    "version": 3
   },
   "file_extension": ".py",
   "mimetype": "text/x-python",
   "name": "python",
   "nbconvert_exporter": "python",
   "pygments_lexer": "ipython3",
   "version": "3.10.18"
  }
 },
 "nbformat": 4,
 "nbformat_minor": 5
}
