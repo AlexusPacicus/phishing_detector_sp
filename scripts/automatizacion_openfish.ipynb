{
 "cells": [
  {
   "cell_type": "code",
   "execution_count": 1,
   "id": "05c90dda-41b6-42c1-b0ef-54373d9474d8",
   "metadata": {},
   "outputs": [
    {
     "ename": "NameError",
     "evalue": "name '__file__' is not defined",
     "output_type": "error",
     "traceback": [
      "\u001b[0;31m---------------------------------------------------------------------------\u001b[0m",
      "\u001b[0;31mNameError\u001b[0m                                 Traceback (most recent call last)",
      "Cell \u001b[0;32mIn[1], line 12\u001b[0m\n\u001b[1;32m      9\u001b[0m \u001b[38;5;28;01mimport\u001b[39;00m\u001b[38;5;250m \u001b[39m\u001b[38;5;21;01mlogging\u001b[39;00m\n\u001b[1;32m     11\u001b[0m  \u001b[38;5;66;03m# Usar __file__ para rutas absolutas\u001b[39;00m\n\u001b[0;32m---> 12\u001b[0m BASE_DIR \u001b[38;5;241m=\u001b[39m os\u001b[38;5;241m.\u001b[39mpath\u001b[38;5;241m.\u001b[39mdirname(os\u001b[38;5;241m.\u001b[39mpath\u001b[38;5;241m.\u001b[39mdirname(os\u001b[38;5;241m.\u001b[39mpath\u001b[38;5;241m.\u001b[39mabspath(\u001b[38;5;18;43m__file__\u001b[39;49m)))\n\u001b[1;32m     13\u001b[0m DATA_DIR \u001b[38;5;241m=\u001b[39m os\u001b[38;5;241m.\u001b[39mpath\u001b[38;5;241m.\u001b[39mjoin(BASE_DIR, \u001b[38;5;124m'\u001b[39m\u001b[38;5;124mdata\u001b[39m\u001b[38;5;124m'\u001b[39m, \u001b[38;5;124m'\u001b[39m\u001b[38;5;124mraw\u001b[39m\u001b[38;5;124m'\u001b[39m, \u001b[38;5;124m'\u001b[39m\u001b[38;5;124mphishing\u001b[39m\u001b[38;5;124m'\u001b[39m)\n\u001b[1;32m     14\u001b[0m LOGS_DIR \u001b[38;5;241m=\u001b[39m os\u001b[38;5;241m.\u001b[39mpath\u001b[38;5;241m.\u001b[39mjoin(BASE_DIR, \u001b[38;5;124m'\u001b[39m\u001b[38;5;124mlogs\u001b[39m\u001b[38;5;124m'\u001b[39m)\n",
      "\u001b[0;31mNameError\u001b[0m: name '__file__' is not defined"
     ]
    }
   ],
   "source": [
    "# recolector_phishing.py\n",
    "# Autor: Alexis Zapico Fernández\n",
    "# Objetivo: Descargar automáticamente URLs de phishing desde OpenPhish y guardarlas en data/raw/phishing\n",
    "\n",
    "import requests\n",
    "import pandas as pd\n",
    "from datetime import datetime\n",
    "import os\n",
    "import logging\n",
    "\n",
    " # Usar __file__ para rutas absolutas\n",
    "BASE_DIR = os.path.dirname(os.path.dirname(os.path.abspath(__file__)))\n",
    "DATA_DIR = os.path.join(BASE_DIR, 'data', 'raw', 'phishing')\n",
    "LOGS_DIR = os.path.join(BASE_DIR, 'logs')\n",
    "os.makedirs(DATA_DIR, exist_ok=True)\n",
    "os.makedirs(LOGS_DIR, exist_ok=True)\n",
    "\n",
    "logging.basicConfig(\n",
    "    filename=os.path.join(LOGS_DIR, 'recolector_phishing.log'),\n",
    "    level=logging.INFO,\n",
    "    format='%(asctime)s - %(levelname)s - %(message)s'\n",
    ")\n",
    "\n",
    "FEED_URL = \"https://openphish.com/feed.txt\"\n",
    "\n",
    "def obtener_datos_openphish(url=FEED_URL):\n",
    "    try:\n",
    "        response = requests.get(url, timeout=30)\n",
    "        response.raise_for_status()\n",
    "        urls = response.text.strip().split('\\n')\n",
    "        logging.info(f\"Descargadas {len(urls)} URLs de OpenPhish.\")\n",
    "        return urls\n",
    "    except Exception as e:\n",
    "        logging.error(f'Error descargando datos de OpenPhish: {e}')\n",
    "        return []\n",
    "\n",
    "def procesar_datos(urls):\n",
    "    fecha_hora = datetime.now().strftime(\"%Y%m%d_%H%M%S\")\n",
    "    datos = []\n",
    "    for url in urls:\n",
    "        datos.append({\n",
    "            'url': url,\n",
    "            'fecha_hora_recoleccion': fecha_hora,\n",
    "            'fuente': 'OpenPhish',\n",
    "            'observaciones': ''\n",
    "        })\n",
    "    return pd.DataFrame(datos)\n",
    "\n",
    "def guardar_datos(df):\n",
    "    fecha_hora = datetime.now().strftime(\"%Y%m%d_%H%M%S\")\n",
    "    nombre_archivo = f'openphish_{fecha_hora}.csv'\n",
    "    ruta_archivo = os.path.join(DATA_DIR, nombre_archivo)\n",
    "    df.to_csv(ruta_archivo, index=False)\n",
    "    logging.info(f\"Guardados {len(df)} registros en {ruta_archivo}.\")\n",
    "\n",
    "if __name__ == \"__main__\":\n",
    "    urls = obtener_datos_openphish()\n",
    "    if urls:\n",
    "        df = procesar_datos(urls)\n",
    "        guardar_datos(df)\n",
    "        print(f\"[INFO] Guardadas {len(df)} URLs en {DATA_DIR}\")\n",
    "    else:\n",
    "        print(\"[WARNING] No se han descargado datos de OpenPhish. Ver logs para más información.\")\n"
   ]
  }
 ],
 "metadata": {
  "kernelspec": {
   "display_name": "Python (phishing-env)",
   "language": "python",
   "name": "phishing-env"
  },
  "language_info": {
   "codemirror_mode": {
    "name": "ipython",
    "version": 3
   },
   "file_extension": ".py",
   "mimetype": "text/x-python",
   "name": "python",
   "nbconvert_exporter": "python",
   "pygments_lexer": "ipython3",
   "version": "3.10.18"
  }
 },
 "nbformat": 4,
 "nbformat_minor": 5
}
