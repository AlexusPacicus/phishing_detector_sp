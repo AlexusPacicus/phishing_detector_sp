{
 "cells": [
  {
   "cell_type": "markdown",
   "id": "cc10e3cc-7d9d-4736-b7d0-3f8cc090be64",
   "metadata": {},
   "source": [
    "En esta primera celda aglutinamos todos las librerías y herramientas que utilicemos"
   ]
  },
  {
   "cell_type": "code",
   "execution_count": 3,
   "id": "83f8de7d-a2e0-41ec-b515-556be8d03170",
   "metadata": {},
   "outputs": [],
   "source": [
    "from datasets import load_dataset\n",
    "from sklearn.model_selection import train_test_split\n",
    "import pandas as pd\n",
    "from datasets import Dataset\n",
    "from transformers import AutoTokenizer\n",
    "from transformers import AutoModelForSequenceClassification\n",
    "from transformers import DataCollatorWithPadding\n",
    "from transformers import TrainingArguments\n",
    "from transformers import Trainer\n",
    "import numpy as np\n",
    "import torch\n",
    "from sklearn.metrics import accuracy_score, f1_score\n"
   ]
  },
  {
   "cell_type": "markdown",
   "id": "a820a0e1-b479-42b9-9b40-bec1a88a6845",
   "metadata": {},
   "source": [
    "Cargo el dataset"
   ]
  },
  {
   "cell_type": "code",
   "execution_count": 4,
   "id": "d4757a74-2064-411e-8e1d-d5a567432fd3",
   "metadata": {
    "scrolled": true
   },
   "outputs": [],
   "source": [
    "ds = load_dataset(\"pirocheto/phishing-url\")"
   ]
  },
  {
   "cell_type": "markdown",
   "id": "dc1e6d6d-72a0-479c-b666-efb3120a2fae",
   "metadata": {},
   "source": [
    "Aquí, de los datos del dataset, convierto los que están dedidos al entrenamiento a pandas y los expongo en pantalla para así ver las etiquetas"
   ]
  },
  {
   "cell_type": "code",
   "execution_count": 5,
   "id": "3d7c12b5-c4a4-464a-828f-e2d2fe916877",
   "metadata": {
    "scrolled": true
   },
   "outputs": [
    {
     "data": {
      "text/plain": [
       "<bound method NDFrame.head of                                                     url  length_url  \\\n",
       "0     https://www.todayshomeowner.com/how-to-make-ho...          82   \n",
       "1     http://thapthan.ac.th/information/confirmation...          93   \n",
       "2     http://app.dialoginsight.com/T/OFC4/L2S/3888/B...         121   \n",
       "3                              https://www.bedslide.com          24   \n",
       "4     https://tabs.ultimate-guitar.com/s/sex_pistols...          73   \n",
       "...                                                 ...         ...   \n",
       "7653  https://snip.ly/www.netflix.com-signIn-account...          63   \n",
       "7654                       http://webchat.freenode.net/          28   \n",
       "7655  http://mr-statucki.com/wp-content/uploads/2009...          67   \n",
       "7656    https://www.computerhope.com/jargon/c/cdrom.htm          47   \n",
       "7657                           https://bravonia.com.tw/          24   \n",
       "\n",
       "      length_hostname  ip  nb_dots  nb_hyphens  nb_at  nb_qm  nb_and  nb_or  \\\n",
       "0                  23   0        2           7      0      0       0      0   \n",
       "1                  14   1        2           0      0      0       0      0   \n",
       "2                  21   1        3           0      0      0       0      0   \n",
       "3                  16   0        2           0      0      0       0      0   \n",
       "4                  24   0        3           1      0      0       0      0   \n",
       "...               ...  ..      ...         ...    ...    ...     ...    ...   \n",
       "7653                7   0        3           2      0      1       0      0   \n",
       "7654               20   0        2           0      0      0       0      0   \n",
       "7655               15   0        2           2      0      0       0      0   \n",
       "7656               20   0        3           0      0      0       0      0   \n",
       "7657               15   0        2           0      0      0       0      0   \n",
       "\n",
       "      ...  domain_in_title  domain_with_copyright  whois_registered_domain  \\\n",
       "0     ...                1                      1                        0   \n",
       "1     ...                1                      0                        1   \n",
       "2     ...                1                      1                        0   \n",
       "3     ...                0                      0                        0   \n",
       "4     ...                0                      0                        0   \n",
       "...   ...              ...                    ...                      ...   \n",
       "7653  ...                1                      0                        0   \n",
       "7654  ...                1                      0                        0   \n",
       "7655  ...                1                      1                        0   \n",
       "7656  ...                1                      1                        0   \n",
       "7657  ...                1                      1                        0   \n",
       "\n",
       "      domain_registration_length  domain_age  web_traffic  dns_record  \\\n",
       "0                            240        8892        67860           0   \n",
       "1                              0        2996      4189860           0   \n",
       "2                             30        2527       346022           0   \n",
       "3                            139        7531      1059151           0   \n",
       "4                           3002        7590          635           0   \n",
       "...                          ...         ...          ...         ...   \n",
       "7653                           0        2344        13667           0   \n",
       "7654                        1813        6588       140438           0   \n",
       "7655                         100        5014            0           0   \n",
       "7656                        3482        8045         2580           0   \n",
       "7657                         541        4573            0           0   \n",
       "\n",
       "      google_index  page_rank      status  \n",
       "0                1          4  legitimate  \n",
       "1                1          2    phishing  \n",
       "2                1          3    phishing  \n",
       "3                0          4  legitimate  \n",
       "4                1          5  legitimate  \n",
       "...            ...        ...         ...  \n",
       "7653             1          6    phishing  \n",
       "7654             0          6  legitimate  \n",
       "7655             1          0    phishing  \n",
       "7656             0          6  legitimate  \n",
       "7657             0          3  legitimate  \n",
       "\n",
       "[7658 rows x 89 columns]>"
      ]
     },
     "execution_count": 5,
     "metadata": {},
     "output_type": "execute_result"
    }
   ],
   "source": [
    "ds['train'].to_pandas().head"
   ]
  },
  {
   "cell_type": "markdown",
   "id": "37570472-342b-4bc4-9199-6898a738bab2",
   "metadata": {},
   "source": [
    "Creo una variable, df, en la que meto el paso anterior, de forma que la pueda llamar más adelante "
   ]
  },
  {
   "cell_type": "code",
   "execution_count": 6,
   "id": "0da89b6a-d3d0-4847-a788-5217e8a63c85",
   "metadata": {},
   "outputs": [],
   "source": [
    "\n",
    "df = ds['train'].to_pandas()"
   ]
  },
  {
   "cell_type": "code",
   "execution_count": 7,
   "id": "ecd14555-ba56-4bd9-8e0c-aa07e15fe15a",
   "metadata": {
    "scrolled": true
   },
   "outputs": [
    {
     "name": "stdout",
     "output_type": "stream",
     "text": [
      "                                                 url  length_url  \\\n",
      "0  https://www.todayshomeowner.com/how-to-make-ho...          82   \n",
      "1  http://thapthan.ac.th/information/confirmation...          93   \n",
      "2  http://app.dialoginsight.com/T/OFC4/L2S/3888/B...         121   \n",
      "3                           https://www.bedslide.com          24   \n",
      "4  https://tabs.ultimate-guitar.com/s/sex_pistols...          73   \n",
      "\n",
      "   length_hostname  ip  nb_dots  nb_hyphens  nb_at  nb_qm  nb_and  nb_or  ...  \\\n",
      "0               23   0        2           7      0      0       0      0  ...   \n",
      "1               14   1        2           0      0      0       0      0  ...   \n",
      "2               21   1        3           0      0      0       0      0  ...   \n",
      "3               16   0        2           0      0      0       0      0  ...   \n",
      "4               24   0        3           1      0      0       0      0  ...   \n",
      "\n",
      "   domain_in_title  domain_with_copyright  whois_registered_domain  \\\n",
      "0                1                      1                        0   \n",
      "1                1                      0                        1   \n",
      "2                1                      1                        0   \n",
      "3                0                      0                        0   \n",
      "4                0                      0                        0   \n",
      "\n",
      "   domain_registration_length  domain_age  web_traffic  dns_record  \\\n",
      "0                         240        8892        67860           0   \n",
      "1                           0        2996      4189860           0   \n",
      "2                          30        2527       346022           0   \n",
      "3                         139        7531      1059151           0   \n",
      "4                        3002        7590          635           0   \n",
      "\n",
      "   google_index  page_rank      status  \n",
      "0             1          4  legitimate  \n",
      "1             1          2    phishing  \n",
      "2             1          3    phishing  \n",
      "3             0          4  legitimate  \n",
      "4             1          5  legitimate  \n",
      "\n",
      "[5 rows x 89 columns]\n"
     ]
    }
   ],
   "source": [
    "print(df.head())"
   ]
  },
  {
   "cell_type": "markdown",
   "id": "9aee5aa8-fcc8-4635-9984-eef0a0491b5a",
   "metadata": {},
   "source": [
    "En esta celda imprimo en pantalla cuántos datos hay de las etiquetas de la columna `status`, \"legitimate\"y \"phishing\", para comprobar la equidad de datos"
   ]
  },
  {
   "cell_type": "code",
   "execution_count": 8,
   "id": "50117939-cd5b-4bac-b7ce-026c420fa67e",
   "metadata": {
    "scrolled": true
   },
   "outputs": [
    {
     "name": "stdout",
     "output_type": "stream",
     "text": [
      "status\n",
      "legitimate    3829\n",
      "phishing      3829\n",
      "Name: count, dtype: int64\n"
     ]
    }
   ],
   "source": [
    "print(df['status'].value_counts())"
   ]
  },
  {
   "cell_type": "markdown",
   "id": "02d136e4-35f6-4d91-aac5-499cce12ff33",
   "metadata": {},
   "source": [
    "Imprimo en pantalla la suma de los valores nulos de cada columna"
   ]
  },
  {
   "cell_type": "code",
   "execution_count": 9,
   "id": "b03e5927-15e7-43fa-871d-7374573c7172",
   "metadata": {},
   "outputs": [
    {
     "name": "stdout",
     "output_type": "stream",
     "text": [
      "url                0\n",
      "length_url         0\n",
      "length_hostname    0\n",
      "ip                 0\n",
      "nb_dots            0\n",
      "                  ..\n",
      "web_traffic        0\n",
      "dns_record         0\n",
      "google_index       0\n",
      "page_rank          0\n",
      "status             0\n",
      "Length: 89, dtype: int64\n"
     ]
    }
   ],
   "source": [
    "print(df.isnull().sum())"
   ]
  },
  {
   "cell_type": "code",
   "execution_count": 10,
   "id": "00222fd2-bca0-403c-bb72-91fab1301cad",
   "metadata": {},
   "outputs": [],
   "source": [
    "df['label'] = df['status'].map({'legitimate': 0, 'phishing': 1})"
   ]
  },
  {
   "cell_type": "code",
   "execution_count": 11,
   "id": "65f36990-63df-4d10-82fb-9286fd55dc43",
   "metadata": {},
   "outputs": [],
   "source": [
    "df = df.drop(columns=['status'])"
   ]
  },
  {
   "cell_type": "code",
   "execution_count": 12,
   "id": "469421d9-fcd0-4c1c-a7f6-c24c83b99fd2",
   "metadata": {},
   "outputs": [
    {
     "name": "stdout",
     "output_type": "stream",
     "text": [
      "label\n",
      "0    3829\n",
      "1    3829\n",
      "Name: count, dtype: int64\n"
     ]
    }
   ],
   "source": [
    "print(df['label'].value_counts())"
   ]
  },
  {
   "cell_type": "code",
   "execution_count": 13,
   "id": "05b9cca5-8124-43a3-9a1b-c6d598138b19",
   "metadata": {},
   "outputs": [
    {
     "name": "stdout",
     "output_type": "stream",
     "text": [
      "[0 1]\n",
      "int64\n"
     ]
    }
   ],
   "source": [
    "df_bert = df[['url', 'label']].copy()\n",
    "print(df_bert['label'].unique())\n",
    "print(df_bert['label'].dtype)"
   ]
  },
  {
   "cell_type": "code",
   "execution_count": 14,
   "id": "430533f0-5f81-4301-bbd6-1e346ddb4244",
   "metadata": {},
   "outputs": [],
   "source": [
    "train_df, val_df = train_test_split(\n",
    "    df_bert,\n",
    "    test_size = 0.2,\n",
    "    random_state = 42,\n",
    "    stratify = df_bert['label']\n",
    ")\n",
    "\n",
    "    "
   ]
  },
  {
   "cell_type": "code",
   "execution_count": null,
   "id": "326d9470-f509-417e-b9ee-57af687445d4",
   "metadata": {},
   "outputs": [],
   "source": []
  },
  {
   "cell_type": "code",
   "execution_count": null,
   "id": "ad7586f3-6712-4ef3-85a1-6e0f4e8c2d72",
   "metadata": {},
   "outputs": [],
   "source": []
  },
  {
   "cell_type": "code",
   "execution_count": 15,
   "id": "106568db-edd8-4015-a397-833690d82c53",
   "metadata": {},
   "outputs": [],
   "source": [
    "train_dataset = Dataset.from_pandas(train_df)\n",
    "val_dataset = Dataset.from_pandas(val_df)\n",
    "test_dataset = ds['test']\n"
   ]
  },
  {
   "cell_type": "code",
   "execution_count": 16,
   "id": "ad1e7b72-b2bf-4acb-9386-0aa9a9aa1081",
   "metadata": {},
   "outputs": [],
   "source": [
    "modelo = \"bert-base-uncased\""
   ]
  },
  {
   "cell_type": "code",
   "execution_count": 17,
   "id": "65388ca1-87bb-4ac4-965e-adf3b1ca50d6",
   "metadata": {
    "scrolled": true
   },
   "outputs": [
    {
     "name": "stderr",
     "output_type": "stream",
     "text": [
      "/opt/anaconda3/envs/phishing-env/lib/python3.10/site-packages/huggingface_hub/file_download.py:943: FutureWarning: `resume_download` is deprecated and will be removed in version 1.0.0. Downloads always resume when possible. If you want to force a new download, use `force_download=True`.\n",
      "  warnings.warn(\n",
      "Some weights of BertForSequenceClassification were not initialized from the model checkpoint at bert-base-uncased and are newly initialized: ['classifier.bias', 'classifier.weight']\n",
      "You should probably TRAIN this model on a down-stream task to be able to use it for predictions and inference.\n"
     ]
    }
   ],
   "source": [
    "model_bert = AutoModelForSequenceClassification.from_pretrained(modelo, num_labels=2)"
   ]
  },
  {
   "cell_type": "code",
   "execution_count": 18,
   "id": "4e4bf6b2-966c-42f6-b2b4-cdd35265dded",
   "metadata": {},
   "outputs": [],
   "source": [
    "tokenizador = AutoTokenizer.from_pretrained(\"bert-base-uncased\")"
   ]
  },
  {
   "cell_type": "code",
   "execution_count": 19,
   "id": "4f7641cf-52e5-4a87-a88d-9f017581144a",
   "metadata": {},
   "outputs": [
    {
     "data": {
      "application/vnd.jupyter.widget-view+json": {
       "model_id": "5653fb61f9034647b10746547592167e",
       "version_major": 2,
       "version_minor": 0
      },
      "text/plain": [
       "Map:   0%|          | 0/6126 [00:00<?, ? examples/s]"
      ]
     },
     "metadata": {},
     "output_type": "display_data"
    }
   ],
   "source": [
    "token_train = train_dataset.map(\n",
    "    lambda x: tokenizador(\n",
    "        x['url'],\n",
    "        truncation = True,\n",
    "        padding = 'max_length',\n",
    "        max_length = 128\n",
    "    ),\n",
    "    batched = True\n",
    ")\n"
   ]
  },
  {
   "cell_type": "code",
   "execution_count": 20,
   "id": "2e8bd976-13db-401c-bd72-c48e955de6b5",
   "metadata": {},
   "outputs": [
    {
     "data": {
      "application/vnd.jupyter.widget-view+json": {
       "model_id": "5fa0bd78b4004c44855632d248a56ef3",
       "version_major": 2,
       "version_minor": 0
      },
      "text/plain": [
       "Map:   0%|          | 0/1532 [00:00<?, ? examples/s]"
      ]
     },
     "metadata": {},
     "output_type": "display_data"
    }
   ],
   "source": [
    "token_val = val_dataset.map(\n",
    "    lambda x: tokenizador(\n",
    "        x['url'],\n",
    "        truncation = True,\n",
    "        padding = 'max_length',\n",
    "        max_length = 128\n",
    "    ),\n",
    "    batched = True\n",
    ")"
   ]
  },
  {
   "cell_type": "code",
   "execution_count": 21,
   "id": "52906216-396d-4d34-a87c-65c87f9120a6",
   "metadata": {},
   "outputs": [],
   "source": [
    "token_test = test_dataset.map(\n",
    "    lambda x: tokenizador(\n",
    "        x['url'],\n",
    "        truncation = True,\n",
    "        padding = 'max_length',\n",
    "        max_length = 128\n",
    "    ),\n",
    "    batched = True\n",
    ")"
   ]
  },
  {
   "cell_type": "code",
   "execution_count": 22,
   "id": "8ed7b9c5-5d4c-4e63-9f91-d3d5f5fc7c21",
   "metadata": {},
   "outputs": [],
   "source": [
    "data_collator = DataCollatorWithPadding(tokenizer=tokenizador)"
   ]
  },
  {
   "cell_type": "code",
   "execution_count": 23,
   "id": "70e37782-2f94-4d7f-a13d-a6693d6be25d",
   "metadata": {},
   "outputs": [],
   "source": [
    "training_args = TrainingArguments(\n",
    "    output_dir = 'traininig/phishing-bert',\n",
    "    evaluation_strategy = 'epoch',\n",
    "    save_strategy = 'epoch',\n",
    "    num_train_epochs = 3,\n",
    "    per_device_train_batch_size = 8,\n",
    "    per_device_eval_batch_size = 8,\n",
    "    logging_strategy = 'steps',\n",
    "    logging_steps = 100,\n",
    "    load_best_model_at_end = True,\n",
    ")\n",
    "    "
   ]
  },
  {
   "cell_type": "code",
   "execution_count": 24,
   "id": "a560d8c3-553e-46fe-8382-a30d643ae791",
   "metadata": {},
   "outputs": [],
   "source": [
    "entrenador = Trainer(model = model_bert,\n",
    "                     tokenizer = tokenizador,\n",
    "                     train_dataset = token_train,\n",
    "                     eval_dataset = token_val,\n",
    "                     args = training_args,\n",
    "                     data_collator = data_collator\n",
    "                    )\n",
    "                     "
   ]
  },
  {
   "cell_type": "code",
   "execution_count": 25,
   "id": "240d69ea-9e7d-4533-bed7-fed8c0b08c5a",
   "metadata": {},
   "outputs": [
    {
     "name": "stderr",
     "output_type": "stream",
     "text": [
      "/opt/anaconda3/envs/phishing-env/lib/python3.10/site-packages/torch/utils/data/dataloader.py:683: UserWarning: 'pin_memory' argument is set as true but not supported on MPS now, then device pinned memory won't be used.\n",
      "  warnings.warn(warn_msg)\n"
     ]
    },
    {
     "data": {
      "text/html": [
       "\n",
       "    <div>\n",
       "      \n",
       "      <progress value='2298' max='2298' style='width:300px; height:20px; vertical-align: middle;'></progress>\n",
       "      [2298/2298 29:25, Epoch 3/3]\n",
       "    </div>\n",
       "    <table border=\"1\" class=\"dataframe\">\n",
       "  <thead>\n",
       " <tr style=\"text-align: left;\">\n",
       "      <th>Epoch</th>\n",
       "      <th>Training Loss</th>\n",
       "      <th>Validation Loss</th>\n",
       "    </tr>\n",
       "  </thead>\n",
       "  <tbody>\n",
       "    <tr>\n",
       "      <td>1</td>\n",
       "      <td>0.277000</td>\n",
       "      <td>0.283573</td>\n",
       "    </tr>\n",
       "    <tr>\n",
       "      <td>2</td>\n",
       "      <td>0.142400</td>\n",
       "      <td>0.316227</td>\n",
       "    </tr>\n",
       "    <tr>\n",
       "      <td>3</td>\n",
       "      <td>0.046300</td>\n",
       "      <td>0.263521</td>\n",
       "    </tr>\n",
       "  </tbody>\n",
       "</table><p>"
      ],
      "text/plain": [
       "<IPython.core.display.HTML object>"
      ]
     },
     "metadata": {},
     "output_type": "display_data"
    },
    {
     "name": "stderr",
     "output_type": "stream",
     "text": [
      "/opt/anaconda3/envs/phishing-env/lib/python3.10/site-packages/torch/utils/data/dataloader.py:683: UserWarning: 'pin_memory' argument is set as true but not supported on MPS now, then device pinned memory won't be used.\n",
      "  warnings.warn(warn_msg)\n",
      "/opt/anaconda3/envs/phishing-env/lib/python3.10/site-packages/torch/utils/data/dataloader.py:683: UserWarning: 'pin_memory' argument is set as true but not supported on MPS now, then device pinned memory won't be used.\n",
      "  warnings.warn(warn_msg)\n"
     ]
    },
    {
     "data": {
      "text/plain": [
       "TrainOutput(global_step=2298, training_loss=0.16470211749495994, metrics={'train_runtime': 1766.8765, 'train_samples_per_second': 10.401, 'train_steps_per_second': 1.301, 'total_flos': 1208863743851520.0, 'train_loss': 0.16470211749495994, 'epoch': 3.0})"
      ]
     },
     "execution_count": 25,
     "metadata": {},
     "output_type": "execute_result"
    }
   ],
   "source": [
    "entrenador.train"
   ]
  },
  {
   "cell_type": "code",
   "execution_count": 42,
   "id": "bbb55fcd-870a-48e5-a835-3ce3a6b951fb",
   "metadata": {},
   "outputs": [
    {
     "name": "stdout",
     "output_type": "stream",
     "text": [
      "label_ids: None\n",
      "predictions: [[-3.721324   3.3459704]\n",
      " [ 4.340714  -4.181532 ]\n",
      " [ 4.3926773 -4.4100895]\n",
      " ...\n",
      " [ 4.101392  -3.6909788]\n",
      " [ 3.8135448 -3.574047 ]\n",
      " [-4.0030975  3.5844572]]\n"
     ]
    },
    {
     "ename": "InvalidParameterError",
     "evalue": "The 'y_true' parameter of accuracy_score must be an array-like or a sparse matrix. Got None instead.",
     "output_type": "error",
     "traceback": [
      "\u001b[0;31m---------------------------------------------------------------------------\u001b[0m",
      "\u001b[0;31mInvalidParameterError\u001b[0m                     Traceback (most recent call last)",
      "Cell \u001b[0;32mIn[42], line 7\u001b[0m\n\u001b[1;32m      4\u001b[0m \u001b[38;5;28mprint\u001b[39m(\u001b[38;5;124m'\u001b[39m\u001b[38;5;124mpredictions:\u001b[39m\u001b[38;5;124m'\u001b[39m, preds\u001b[38;5;241m.\u001b[39mpredictions)\n\u001b[1;32m      6\u001b[0m \u001b[38;5;66;03m#print(predicciones.shape, etiquetas.shape)\u001b[39;00m\n\u001b[0;32m----> 7\u001b[0m \u001b[38;5;28mprint\u001b[39m(\u001b[38;5;124m'\u001b[39m\u001b[38;5;124mAccuracy:\u001b[39m\u001b[38;5;124m'\u001b[39m, \u001b[43maccuracy_score\u001b[49m\u001b[43m(\u001b[49m\u001b[43metiquetas\u001b[49m\u001b[43m,\u001b[49m\u001b[43m \u001b[49m\u001b[43mpredicciones\u001b[49m\u001b[43m)\u001b[49m)\n\u001b[1;32m      8\u001b[0m \u001b[38;5;28mprint\u001b[39m(\u001b[38;5;124m'\u001b[39m\u001b[38;5;124mF1 Score:\u001b[39m\u001b[38;5;124m'\u001b[39m, f1_score(etiquetas, predicciones))\n",
      "File \u001b[0;32m/opt/anaconda3/envs/phishing-env/lib/python3.10/site-packages/sklearn/utils/_param_validation.py:208\u001b[0m, in \u001b[0;36mvalidate_params.<locals>.decorator.<locals>.wrapper\u001b[0;34m(*args, **kwargs)\u001b[0m\n\u001b[1;32m    205\u001b[0m to_ignore \u001b[38;5;241m+\u001b[39m\u001b[38;5;241m=\u001b[39m [\u001b[38;5;124m\"\u001b[39m\u001b[38;5;124mself\u001b[39m\u001b[38;5;124m\"\u001b[39m, \u001b[38;5;124m\"\u001b[39m\u001b[38;5;124mcls\u001b[39m\u001b[38;5;124m\"\u001b[39m]\n\u001b[1;32m    206\u001b[0m params \u001b[38;5;241m=\u001b[39m {k: v \u001b[38;5;28;01mfor\u001b[39;00m k, v \u001b[38;5;129;01min\u001b[39;00m params\u001b[38;5;241m.\u001b[39marguments\u001b[38;5;241m.\u001b[39mitems() \u001b[38;5;28;01mif\u001b[39;00m k \u001b[38;5;129;01mnot\u001b[39;00m \u001b[38;5;129;01min\u001b[39;00m to_ignore}\n\u001b[0;32m--> 208\u001b[0m \u001b[43mvalidate_parameter_constraints\u001b[49m\u001b[43m(\u001b[49m\n\u001b[1;32m    209\u001b[0m \u001b[43m    \u001b[49m\u001b[43mparameter_constraints\u001b[49m\u001b[43m,\u001b[49m\u001b[43m \u001b[49m\u001b[43mparams\u001b[49m\u001b[43m,\u001b[49m\u001b[43m \u001b[49m\u001b[43mcaller_name\u001b[49m\u001b[38;5;241;43m=\u001b[39;49m\u001b[43mfunc\u001b[49m\u001b[38;5;241;43m.\u001b[39;49m\u001b[38;5;18;43m__qualname__\u001b[39;49m\n\u001b[1;32m    210\u001b[0m \u001b[43m\u001b[49m\u001b[43m)\u001b[49m\n\u001b[1;32m    212\u001b[0m \u001b[38;5;28;01mtry\u001b[39;00m:\n\u001b[1;32m    213\u001b[0m     \u001b[38;5;28;01mwith\u001b[39;00m config_context(\n\u001b[1;32m    214\u001b[0m         skip_parameter_validation\u001b[38;5;241m=\u001b[39m(\n\u001b[1;32m    215\u001b[0m             prefer_skip_nested_validation \u001b[38;5;129;01mor\u001b[39;00m global_skip_validation\n\u001b[1;32m    216\u001b[0m         )\n\u001b[1;32m    217\u001b[0m     ):\n",
      "File \u001b[0;32m/opt/anaconda3/envs/phishing-env/lib/python3.10/site-packages/sklearn/utils/_param_validation.py:98\u001b[0m, in \u001b[0;36mvalidate_parameter_constraints\u001b[0;34m(parameter_constraints, params, caller_name)\u001b[0m\n\u001b[1;32m     92\u001b[0m \u001b[38;5;28;01melse\u001b[39;00m:\n\u001b[1;32m     93\u001b[0m     constraints_str \u001b[38;5;241m=\u001b[39m (\n\u001b[1;32m     94\u001b[0m         \u001b[38;5;124mf\u001b[39m\u001b[38;5;124m\"\u001b[39m\u001b[38;5;132;01m{\u001b[39;00m\u001b[38;5;124m'\u001b[39m\u001b[38;5;124m, \u001b[39m\u001b[38;5;124m'\u001b[39m\u001b[38;5;241m.\u001b[39mjoin([\u001b[38;5;28mstr\u001b[39m(c)\u001b[38;5;250m \u001b[39m\u001b[38;5;28;01mfor\u001b[39;00m\u001b[38;5;250m \u001b[39mc\u001b[38;5;250m \u001b[39m\u001b[38;5;129;01min\u001b[39;00m\u001b[38;5;250m \u001b[39mconstraints[:\u001b[38;5;241m-\u001b[39m\u001b[38;5;241m1\u001b[39m]])\u001b[38;5;132;01m}\u001b[39;00m\u001b[38;5;124m or\u001b[39m\u001b[38;5;124m\"\u001b[39m\n\u001b[1;32m     95\u001b[0m         \u001b[38;5;124mf\u001b[39m\u001b[38;5;124m\"\u001b[39m\u001b[38;5;124m \u001b[39m\u001b[38;5;132;01m{\u001b[39;00mconstraints[\u001b[38;5;241m-\u001b[39m\u001b[38;5;241m1\u001b[39m]\u001b[38;5;132;01m}\u001b[39;00m\u001b[38;5;124m\"\u001b[39m\n\u001b[1;32m     96\u001b[0m     )\n\u001b[0;32m---> 98\u001b[0m \u001b[38;5;28;01mraise\u001b[39;00m InvalidParameterError(\n\u001b[1;32m     99\u001b[0m     \u001b[38;5;124mf\u001b[39m\u001b[38;5;124m\"\u001b[39m\u001b[38;5;124mThe \u001b[39m\u001b[38;5;132;01m{\u001b[39;00mparam_name\u001b[38;5;132;01m!r}\u001b[39;00m\u001b[38;5;124m parameter of \u001b[39m\u001b[38;5;132;01m{\u001b[39;00mcaller_name\u001b[38;5;132;01m}\u001b[39;00m\u001b[38;5;124m must be\u001b[39m\u001b[38;5;124m\"\u001b[39m\n\u001b[1;32m    100\u001b[0m     \u001b[38;5;124mf\u001b[39m\u001b[38;5;124m\"\u001b[39m\u001b[38;5;124m \u001b[39m\u001b[38;5;132;01m{\u001b[39;00mconstraints_str\u001b[38;5;132;01m}\u001b[39;00m\u001b[38;5;124m. Got \u001b[39m\u001b[38;5;132;01m{\u001b[39;00mparam_val\u001b[38;5;132;01m!r}\u001b[39;00m\u001b[38;5;124m instead.\u001b[39m\u001b[38;5;124m\"\u001b[39m\n\u001b[1;32m    101\u001b[0m )\n",
      "\u001b[0;31mInvalidParameterError\u001b[0m: The 'y_true' parameter of accuracy_score must be an array-like or a sparse matrix. Got None instead."
     ]
    }
   ],
   "source": [
    "\n",
    "\n",
    "etiquetas = preds.label_ids\n",
    "predicciones = preds.predictions.argmax(axis=-1)\n",
    "print('label_ids:', preds.label_ids)\n",
    "print('predictions:', preds.predictions)\n",
    "\n",
    "#print(predicciones.shape, etiquetas.shape)\n",
    "print('Accuracy:', accuracy_score(etiquetas, predicciones))\n",
    "print('F1 Score:', f1_score(etiquetas, predicciones))\n",
    "      "
   ]
  },
  {
   "cell_type": "code",
   "execution_count": 33,
   "id": "938ad732-a440-4b66-86af-af1ffc022a8d",
   "metadata": {},
   "outputs": [
    {
     "name": "stdout",
     "output_type": "stream",
     "text": [
      "['url', 'length_url', 'length_hostname', 'ip', 'nb_dots', 'nb_hyphens', 'nb_at', 'nb_qm', 'nb_and', 'nb_or', 'nb_eq', 'nb_underscore', 'nb_tilde', 'nb_percent', 'nb_slash', 'nb_star', 'nb_colon', 'nb_comma', 'nb_semicolumn', 'nb_dollar', 'nb_space', 'nb_www', 'nb_com', 'nb_dslash', 'http_in_path', 'https_token', 'ratio_digits_url', 'ratio_digits_host', 'punycode', 'port', 'tld_in_path', 'tld_in_subdomain', 'abnormal_subdomain', 'nb_subdomains', 'prefix_suffix', 'random_domain', 'shortening_service', 'path_extension', 'nb_redirection', 'nb_external_redirection', 'length_words_raw', 'char_repeat', 'shortest_words_raw', 'shortest_word_host', 'shortest_word_path', 'longest_words_raw', 'longest_word_host', 'longest_word_path', 'avg_words_raw', 'avg_word_host', 'avg_word_path', 'phish_hints', 'domain_in_brand', 'brand_in_subdomain', 'brand_in_path', 'suspecious_tld', 'statistical_report', 'nb_hyperlinks', 'ratio_intHyperlinks', 'ratio_extHyperlinks', 'ratio_nullHyperlinks', 'nb_extCSS', 'ratio_intRedirection', 'ratio_extRedirection', 'ratio_intErrors', 'ratio_extErrors', 'login_form', 'external_favicon', 'links_in_tags', 'submit_email', 'ratio_intMedia', 'ratio_extMedia', 'sfh', 'iframe', 'popup_window', 'safe_anchor', 'onmouseover', 'right_clic', 'empty_title', 'domain_in_title', 'domain_with_copyright', 'whois_registered_domain', 'domain_registration_length', 'domain_age', 'web_traffic', 'dns_record', 'google_index', 'page_rank', 'status', 'input_ids', 'token_type_ids', 'attention_mask']\n"
     ]
    }
   ],
   "source": [
    "print(token_test.column_name"
   ]
  },
  {
   "cell_type": "code",
   "execution_count": 40,
   "id": "741ca5de-b055-4a53-af4c-ff15322614a3",
   "metadata": {},
   "outputs": [
    {
     "name": "stdout",
     "output_type": "stream",
     "text": [
      "3772\n"
     ]
    }
   ],
   "source": [
    "print(len(token_test))"
   ]
  },
  {
   "cell_type": "code",
   "execution_count": 44,
   "id": "d871824f-d0a3-45ce-9dd9-10d834305d58",
   "metadata": {},
   "outputs": [
    {
     "name": "stdout",
     "output_type": "stream",
     "text": [
      "['url', 'length_url', 'length_hostname', 'ip', 'nb_dots', 'nb_hyphens', 'nb_at', 'nb_qm', 'nb_and', 'nb_or', 'nb_eq', 'nb_underscore', 'nb_tilde', 'nb_percent', 'nb_slash', 'nb_star', 'nb_colon', 'nb_comma', 'nb_semicolumn', 'nb_dollar', 'nb_space', 'nb_www', 'nb_com', 'nb_dslash', 'http_in_path', 'https_token', 'ratio_digits_url', 'ratio_digits_host', 'punycode', 'port', 'tld_in_path', 'tld_in_subdomain', 'abnormal_subdomain', 'nb_subdomains', 'prefix_suffix', 'random_domain', 'shortening_service', 'path_extension', 'nb_redirection', 'nb_external_redirection', 'length_words_raw', 'char_repeat', 'shortest_words_raw', 'shortest_word_host', 'shortest_word_path', 'longest_words_raw', 'longest_word_host', 'longest_word_path', 'avg_words_raw', 'avg_word_host', 'avg_word_path', 'phish_hints', 'domain_in_brand', 'brand_in_subdomain', 'brand_in_path', 'suspecious_tld', 'statistical_report', 'nb_hyperlinks', 'ratio_intHyperlinks', 'ratio_extHyperlinks', 'ratio_nullHyperlinks', 'nb_extCSS', 'ratio_intRedirection', 'ratio_extRedirection', 'ratio_intErrors', 'ratio_extErrors', 'login_form', 'external_favicon', 'links_in_tags', 'submit_email', 'ratio_intMedia', 'ratio_extMedia', 'sfh', 'iframe', 'popup_window', 'safe_anchor', 'onmouseover', 'right_clic', 'empty_title', 'domain_in_title', 'domain_with_copyright', 'whois_registered_domain', 'domain_registration_length', 'domain_age', 'web_traffic', 'dns_record', 'google_index', 'page_rank', 'status', 'input_ids', 'token_type_ids', 'attention_mask']\n"
     ]
    }
   ],
   "source": [
    "print(token_test.column_names)\n"
   ]
  },
  {
   "cell_type": "code",
   "execution_count": 45,
   "id": "72627ae2-fa26-4269-adb7-2a0c58dd8b5b",
   "metadata": {
    "scrolled": true
   },
   "outputs": [
    {
     "name": "stdout",
     "output_type": "stream",
     "text": [
      "{'url': ['https://clubedemilhagem.com/home.php', 'http://www.medicalnewstoday.com/articles/188939.php', 'https://en.wikipedia.org/wiki/NBC_Nightly_News', 'http://secure.web894.com/customer_center/customer-IDPP00C139/myaccount/identity/?cmd=_session=&amp;02df5c40bef38f0b3d11339b7beab5d8&amp;dispatch=ecb2f39f76aef328f62cfcea40da0211815e207f', 'https://en.wikipedia.org/wiki/Transaction_processing'], 'length_url': [36, 51, 46, 185, 52], 'length_hostname': [19, 24, 16, 17, 16], 'ip': [0, 0, 0, 1, 0], 'nb_dots': [2, 3, 2, 2, 2], 'nb_hyphens': [0, 0, 0, 1, 0], 'nb_at': [0, 0, 0, 0, 0], 'nb_qm': [0, 0, 0, 1, 0], 'nb_and': [0, 0, 0, 2, 0], 'nb_or': [0, 0, 0, 0, 0], 'nb_eq': [0, 0, 0, 3, 0], 'nb_underscore': [0, 0, 2, 2, 1], 'nb_tilde': [0, 0, 0, 0, 0], 'nb_percent': [0, 0, 0, 0, 0], 'nb_slash': [3, 4, 4, 7, 4], 'nb_star': [0, 0, 0, 0, 0], 'nb_colon': [1, 1, 1, 1, 1], 'nb_comma': [0, 0, 0, 0, 0], 'nb_semicolumn': [0, 0, 0, 2, 0], 'nb_dollar': [0, 0, 0, 0, 0], 'nb_space': [0, 0, 0, 0, 0], 'nb_www': [0, 1, 0, 0, 0], 'nb_com': [0, 0, 0, 0, 0], 'nb_dslash': [0, 0, 0, 0, 0], 'http_in_path': [0, 0, 0, 0, 0], 'https_token': [0, 1, 0, 1, 0], 'ratio_digits_url': [0.0, 0.117647059, 0.0, 0.254054054, 0.0], 'ratio_digits_host': [0.0, 0.0, 0.0, 0.176470588, 0.0], 'punycode': [0, 0, 0, 0, 0], 'port': [0, 0, 0, 0, 0], 'tld_in_path': [0, 0, 0, 0, 0], 'tld_in_subdomain': [0, 0, 0, 0, 0], 'abnormal_subdomain': [0, 0, 0, 0, 0], 'nb_subdomains': [2, 3, 2, 2, 2], 'prefix_suffix': [0, 0, 0, 1, 0], 'random_domain': [0, 0, 0, 0, 0], 'shortening_service': [0, 0, 0, 0, 0], 'path_extension': [0, 0, 0, 0, 0], 'nb_redirection': [0, 2, 0, 0, 0], 'nb_external_redirection': [0, 0, 0, 0, 0], 'length_words_raw': [3, 5, 6, 13, 5], 'char_repeat': [0, 4, 0, 7, 1], 'shortest_words_raw': [3, 3, 2, 3, 2], 'shortest_word_host': [15, 3, 2, 6, 2], 'shortest_word_path': [3, 3, 3, 3, 4], 'longest_words_raw': [15, 16, 9, 40, 11], 'longest_word_host': [15, 16, 9, 6, 9], 'longest_word_path': [4, 8, 7, 40, 11], 'avg_words_raw': [7.333333333, 7.2, 4.833333333, 12.23076923, 7.2], 'avg_word_host': [15.0, 9.5, 5.5, 6.0, 5.5], 'avg_word_path': [3.5, 5.666666667, 4.5, 13.36363636, 8.333333332999999], 'phish_hints': [0, 0, 0, 1, 0], 'domain_in_brand': [0, 0, 1, 0, 1], 'brand_in_subdomain': [0, 0, 0, 0, 0], 'brand_in_path': [0, 0, 0, 0, 0], 'suspecious_tld': [0, 0, 0, 0, 0], 'statistical_report': [0, 0, 0, 0, 0], 'nb_hyperlinks': [14, 80, 710, 28, 275], 'ratio_intHyperlinks': [1.0, 0.575, 0.93943662, 0.892857143, 0.952727273], 'ratio_extHyperlinks': [0.0, 0.425, 0.06056338, 0.107142857, 0.047272727], 'ratio_nullHyperlinks': [0, 0, 0, 0, 0], 'nb_extCSS': [0, 0, 0, 1, 0], 'ratio_intRedirection': [0, 0, 0, 0, 0], 'ratio_extRedirection': [0.0, 0.352941176, 0.372093023, 0.0, 0.538461538], 'ratio_intErrors': [0, 0, 0, 0, 0], 'ratio_extErrors': [0.0, 0.205882353, 0.186046512, 0.0, 0.076923077], 'login_form': [0, 0, 0, 0, 0], 'external_favicon': [0, 1, 0, 1, 0], 'links_in_tags': [100.0, 15.38461538, 100.0, 87.5, 100.0], 'submit_email': [0, 0, 0, 0, 0], 'ratio_intMedia': [100.0, 50.0, 100.0, 0.0, 100.0], 'ratio_extMedia': [0.0, 50.0, 0.0, 0.0, 0.0], 'sfh': [0, 0, 0, 0, 0], 'iframe': [0, 0, 0, 0, 0], 'popup_window': [0, 0, 0, 0, 0], 'safe_anchor': [0.0, 33.33333333, 70.34482759, 100.0, 69.04761905], 'onmouseover': [0, 0, 0, 0, 0], 'right_clic': [0, 0, 0, 0, 0], 'empty_title': [0, 0, 0, 0, 0], 'domain_in_title': [1, 1, 0, 1, 0], 'domain_with_copyright': [0, 1, 1, 1, 1], 'whois_registered_domain': [0, 0, 0, 0, 0], 'domain_registration_length': [344, 103, 901, 247, 901], 'domain_age': [21, 6106, 7134, 1944, 7134], 'web_traffic': [0, 737, 12, 0, 12], 'dns_record': [0, 0, 0, 0, 0], 'google_index': [1, 1, 0, 1, 0], 'page_rank': [0, 6, 7, 0, 7], 'status': ['phishing', 'legitimate', 'legitimate', 'phishing', 'legitimate'], 'input_ids': [[101, 16770, 1024, 1013, 1013, 24852, 3207, 4328, 2140, 3270, 3351, 2213, 1012, 4012, 1013, 2188, 1012, 25718, 102, 0, 0, 0, 0, 0, 0, 0, 0, 0, 0, 0, 0, 0, 0, 0, 0, 0, 0, 0, 0, 0, 0, 0, 0, 0, 0, 0, 0, 0, 0, 0, 0, 0, 0, 0, 0, 0, 0, 0, 0, 0, 0, 0, 0, 0, 0, 0, 0, 0, 0, 0, 0, 0, 0, 0, 0, 0, 0, 0, 0, 0, 0, 0, 0, 0, 0, 0, 0, 0, 0, 0, 0, 0, 0, 0, 0, 0, 0, 0, 0, 0, 0, 0, 0, 0, 0, 0, 0, 0, 0, 0, 0, 0, 0, 0, 0, 0, 0, 0, 0, 0, 0, 0, 0, 0, 0, 0, 0, 0], [101, 8299, 1024, 1013, 1013, 7479, 1012, 2966, 2638, 9333, 3406, 10259, 1012, 4012, 1013, 4790, 1013, 6478, 23499, 1012, 25718, 102, 0, 0, 0, 0, 0, 0, 0, 0, 0, 0, 0, 0, 0, 0, 0, 0, 0, 0, 0, 0, 0, 0, 0, 0, 0, 0, 0, 0, 0, 0, 0, 0, 0, 0, 0, 0, 0, 0, 0, 0, 0, 0, 0, 0, 0, 0, 0, 0, 0, 0, 0, 0, 0, 0, 0, 0, 0, 0, 0, 0, 0, 0, 0, 0, 0, 0, 0, 0, 0, 0, 0, 0, 0, 0, 0, 0, 0, 0, 0, 0, 0, 0, 0, 0, 0, 0, 0, 0, 0, 0, 0, 0, 0, 0, 0, 0, 0, 0, 0, 0, 0, 0, 0, 0, 0, 0], [101, 16770, 1024, 1013, 1013, 4372, 1012, 16948, 1012, 8917, 1013, 15536, 3211, 1013, 6788, 1035, 22390, 1035, 2739, 102, 0, 0, 0, 0, 0, 0, 0, 0, 0, 0, 0, 0, 0, 0, 0, 0, 0, 0, 0, 0, 0, 0, 0, 0, 0, 0, 0, 0, 0, 0, 0, 0, 0, 0, 0, 0, 0, 0, 0, 0, 0, 0, 0, 0, 0, 0, 0, 0, 0, 0, 0, 0, 0, 0, 0, 0, 0, 0, 0, 0, 0, 0, 0, 0, 0, 0, 0, 0, 0, 0, 0, 0, 0, 0, 0, 0, 0, 0, 0, 0, 0, 0, 0, 0, 0, 0, 0, 0, 0, 0, 0, 0, 0, 0, 0, 0, 0, 0, 0, 0, 0, 0, 0, 0, 0, 0, 0, 0], [101, 8299, 1024, 1013, 1013, 5851, 1012, 4773, 2620, 2683, 2549, 1012, 4012, 1013, 8013, 1035, 2415, 1013, 8013, 1011, 8909, 9397, 8889, 2278, 17134, 2683, 1013, 2026, 6305, 3597, 16671, 1013, 4767, 1013, 1029, 4642, 2094, 1027, 1035, 5219, 1027, 1004, 23713, 1025, 6185, 20952, 2629, 2278, 12740, 4783, 2546, 22025, 2546, 2692, 2497, 29097, 14526, 22394, 2683, 2497, 2581, 4783, 7875, 2629, 2094, 2620, 1004, 23713, 1025, 18365, 1027, 14925, 2497, 2475, 2546, 23499, 2546, 2581, 2575, 6679, 2546, 16703, 2620, 2546, 2575, 2475, 2278, 11329, 5243, 12740, 2850, 2692, 17465, 15136, 16068, 2063, 11387, 2581, 2546, 102, 0, 0, 0, 0, 0, 0, 0, 0, 0, 0, 0, 0, 0, 0, 0, 0, 0, 0, 0, 0, 0, 0, 0, 0, 0, 0, 0, 0], [101, 16770, 1024, 1013, 1013, 4372, 1012, 16948, 1012, 8917, 1013, 15536, 3211, 1013, 12598, 1035, 6364, 102, 0, 0, 0, 0, 0, 0, 0, 0, 0, 0, 0, 0, 0, 0, 0, 0, 0, 0, 0, 0, 0, 0, 0, 0, 0, 0, 0, 0, 0, 0, 0, 0, 0, 0, 0, 0, 0, 0, 0, 0, 0, 0, 0, 0, 0, 0, 0, 0, 0, 0, 0, 0, 0, 0, 0, 0, 0, 0, 0, 0, 0, 0, 0, 0, 0, 0, 0, 0, 0, 0, 0, 0, 0, 0, 0, 0, 0, 0, 0, 0, 0, 0, 0, 0, 0, 0, 0, 0, 0, 0, 0, 0, 0, 0, 0, 0, 0, 0, 0, 0, 0, 0, 0, 0, 0, 0, 0, 0, 0, 0]], 'token_type_ids': [[0, 0, 0, 0, 0, 0, 0, 0, 0, 0, 0, 0, 0, 0, 0, 0, 0, 0, 0, 0, 0, 0, 0, 0, 0, 0, 0, 0, 0, 0, 0, 0, 0, 0, 0, 0, 0, 0, 0, 0, 0, 0, 0, 0, 0, 0, 0, 0, 0, 0, 0, 0, 0, 0, 0, 0, 0, 0, 0, 0, 0, 0, 0, 0, 0, 0, 0, 0, 0, 0, 0, 0, 0, 0, 0, 0, 0, 0, 0, 0, 0, 0, 0, 0, 0, 0, 0, 0, 0, 0, 0, 0, 0, 0, 0, 0, 0, 0, 0, 0, 0, 0, 0, 0, 0, 0, 0, 0, 0, 0, 0, 0, 0, 0, 0, 0, 0, 0, 0, 0, 0, 0, 0, 0, 0, 0, 0, 0], [0, 0, 0, 0, 0, 0, 0, 0, 0, 0, 0, 0, 0, 0, 0, 0, 0, 0, 0, 0, 0, 0, 0, 0, 0, 0, 0, 0, 0, 0, 0, 0, 0, 0, 0, 0, 0, 0, 0, 0, 0, 0, 0, 0, 0, 0, 0, 0, 0, 0, 0, 0, 0, 0, 0, 0, 0, 0, 0, 0, 0, 0, 0, 0, 0, 0, 0, 0, 0, 0, 0, 0, 0, 0, 0, 0, 0, 0, 0, 0, 0, 0, 0, 0, 0, 0, 0, 0, 0, 0, 0, 0, 0, 0, 0, 0, 0, 0, 0, 0, 0, 0, 0, 0, 0, 0, 0, 0, 0, 0, 0, 0, 0, 0, 0, 0, 0, 0, 0, 0, 0, 0, 0, 0, 0, 0, 0, 0], [0, 0, 0, 0, 0, 0, 0, 0, 0, 0, 0, 0, 0, 0, 0, 0, 0, 0, 0, 0, 0, 0, 0, 0, 0, 0, 0, 0, 0, 0, 0, 0, 0, 0, 0, 0, 0, 0, 0, 0, 0, 0, 0, 0, 0, 0, 0, 0, 0, 0, 0, 0, 0, 0, 0, 0, 0, 0, 0, 0, 0, 0, 0, 0, 0, 0, 0, 0, 0, 0, 0, 0, 0, 0, 0, 0, 0, 0, 0, 0, 0, 0, 0, 0, 0, 0, 0, 0, 0, 0, 0, 0, 0, 0, 0, 0, 0, 0, 0, 0, 0, 0, 0, 0, 0, 0, 0, 0, 0, 0, 0, 0, 0, 0, 0, 0, 0, 0, 0, 0, 0, 0, 0, 0, 0, 0, 0, 0], [0, 0, 0, 0, 0, 0, 0, 0, 0, 0, 0, 0, 0, 0, 0, 0, 0, 0, 0, 0, 0, 0, 0, 0, 0, 0, 0, 0, 0, 0, 0, 0, 0, 0, 0, 0, 0, 0, 0, 0, 0, 0, 0, 0, 0, 0, 0, 0, 0, 0, 0, 0, 0, 0, 0, 0, 0, 0, 0, 0, 0, 0, 0, 0, 0, 0, 0, 0, 0, 0, 0, 0, 0, 0, 0, 0, 0, 0, 0, 0, 0, 0, 0, 0, 0, 0, 0, 0, 0, 0, 0, 0, 0, 0, 0, 0, 0, 0, 0, 0, 0, 0, 0, 0, 0, 0, 0, 0, 0, 0, 0, 0, 0, 0, 0, 0, 0, 0, 0, 0, 0, 0, 0, 0, 0, 0, 0, 0], [0, 0, 0, 0, 0, 0, 0, 0, 0, 0, 0, 0, 0, 0, 0, 0, 0, 0, 0, 0, 0, 0, 0, 0, 0, 0, 0, 0, 0, 0, 0, 0, 0, 0, 0, 0, 0, 0, 0, 0, 0, 0, 0, 0, 0, 0, 0, 0, 0, 0, 0, 0, 0, 0, 0, 0, 0, 0, 0, 0, 0, 0, 0, 0, 0, 0, 0, 0, 0, 0, 0, 0, 0, 0, 0, 0, 0, 0, 0, 0, 0, 0, 0, 0, 0, 0, 0, 0, 0, 0, 0, 0, 0, 0, 0, 0, 0, 0, 0, 0, 0, 0, 0, 0, 0, 0, 0, 0, 0, 0, 0, 0, 0, 0, 0, 0, 0, 0, 0, 0, 0, 0, 0, 0, 0, 0, 0, 0]], 'attention_mask': [[1, 1, 1, 1, 1, 1, 1, 1, 1, 1, 1, 1, 1, 1, 1, 1, 1, 1, 1, 0, 0, 0, 0, 0, 0, 0, 0, 0, 0, 0, 0, 0, 0, 0, 0, 0, 0, 0, 0, 0, 0, 0, 0, 0, 0, 0, 0, 0, 0, 0, 0, 0, 0, 0, 0, 0, 0, 0, 0, 0, 0, 0, 0, 0, 0, 0, 0, 0, 0, 0, 0, 0, 0, 0, 0, 0, 0, 0, 0, 0, 0, 0, 0, 0, 0, 0, 0, 0, 0, 0, 0, 0, 0, 0, 0, 0, 0, 0, 0, 0, 0, 0, 0, 0, 0, 0, 0, 0, 0, 0, 0, 0, 0, 0, 0, 0, 0, 0, 0, 0, 0, 0, 0, 0, 0, 0, 0, 0], [1, 1, 1, 1, 1, 1, 1, 1, 1, 1, 1, 1, 1, 1, 1, 1, 1, 1, 1, 1, 1, 1, 0, 0, 0, 0, 0, 0, 0, 0, 0, 0, 0, 0, 0, 0, 0, 0, 0, 0, 0, 0, 0, 0, 0, 0, 0, 0, 0, 0, 0, 0, 0, 0, 0, 0, 0, 0, 0, 0, 0, 0, 0, 0, 0, 0, 0, 0, 0, 0, 0, 0, 0, 0, 0, 0, 0, 0, 0, 0, 0, 0, 0, 0, 0, 0, 0, 0, 0, 0, 0, 0, 0, 0, 0, 0, 0, 0, 0, 0, 0, 0, 0, 0, 0, 0, 0, 0, 0, 0, 0, 0, 0, 0, 0, 0, 0, 0, 0, 0, 0, 0, 0, 0, 0, 0, 0, 0], [1, 1, 1, 1, 1, 1, 1, 1, 1, 1, 1, 1, 1, 1, 1, 1, 1, 1, 1, 1, 0, 0, 0, 0, 0, 0, 0, 0, 0, 0, 0, 0, 0, 0, 0, 0, 0, 0, 0, 0, 0, 0, 0, 0, 0, 0, 0, 0, 0, 0, 0, 0, 0, 0, 0, 0, 0, 0, 0, 0, 0, 0, 0, 0, 0, 0, 0, 0, 0, 0, 0, 0, 0, 0, 0, 0, 0, 0, 0, 0, 0, 0, 0, 0, 0, 0, 0, 0, 0, 0, 0, 0, 0, 0, 0, 0, 0, 0, 0, 0, 0, 0, 0, 0, 0, 0, 0, 0, 0, 0, 0, 0, 0, 0, 0, 0, 0, 0, 0, 0, 0, 0, 0, 0, 0, 0, 0, 0], [1, 1, 1, 1, 1, 1, 1, 1, 1, 1, 1, 1, 1, 1, 1, 1, 1, 1, 1, 1, 1, 1, 1, 1, 1, 1, 1, 1, 1, 1, 1, 1, 1, 1, 1, 1, 1, 1, 1, 1, 1, 1, 1, 1, 1, 1, 1, 1, 1, 1, 1, 1, 1, 1, 1, 1, 1, 1, 1, 1, 1, 1, 1, 1, 1, 1, 1, 1, 1, 1, 1, 1, 1, 1, 1, 1, 1, 1, 1, 1, 1, 1, 1, 1, 1, 1, 1, 1, 1, 1, 1, 1, 1, 1, 1, 1, 1, 1, 1, 1, 0, 0, 0, 0, 0, 0, 0, 0, 0, 0, 0, 0, 0, 0, 0, 0, 0, 0, 0, 0, 0, 0, 0, 0, 0, 0, 0, 0], [1, 1, 1, 1, 1, 1, 1, 1, 1, 1, 1, 1, 1, 1, 1, 1, 1, 1, 0, 0, 0, 0, 0, 0, 0, 0, 0, 0, 0, 0, 0, 0, 0, 0, 0, 0, 0, 0, 0, 0, 0, 0, 0, 0, 0, 0, 0, 0, 0, 0, 0, 0, 0, 0, 0, 0, 0, 0, 0, 0, 0, 0, 0, 0, 0, 0, 0, 0, 0, 0, 0, 0, 0, 0, 0, 0, 0, 0, 0, 0, 0, 0, 0, 0, 0, 0, 0, 0, 0, 0, 0, 0, 0, 0, 0, 0, 0, 0, 0, 0, 0, 0, 0, 0, 0, 0, 0, 0, 0, 0, 0, 0, 0, 0, 0, 0, 0, 0, 0, 0, 0, 0, 0, 0, 0, 0, 0, 0]]}\n"
     ]
    }
   ],
   "source": [
    "print(token_test[:5])\n"
   ]
  }
 ],
 "metadata": {
  "kernelspec": {
   "display_name": "Python (phishing-env)",
   "language": "python",
   "name": "phishing-env"
  },
  "language_info": {
   "codemirror_mode": {
    "name": "ipython",
    "version": 3
   },
   "file_extension": ".py",
   "mimetype": "text/x-python",
   "name": "python",
   "nbconvert_exporter": "python",
   "pygments_lexer": "ipython3",
   "version": "3.10.18"
  }
 },
 "nbformat": 4,
 "nbformat_minor": 5
}
