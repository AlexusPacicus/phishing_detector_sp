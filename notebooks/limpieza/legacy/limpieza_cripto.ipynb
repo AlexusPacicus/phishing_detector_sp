{
 "cells": [
  {
   "cell_type": "markdown",
   "id": "29ab9d31-77aa-468b-9664-9d573282382c",
   "metadata": {},
   "source": [
    "# Limpieza y Análisis de URLs Legítimas - Sector Cripto\n",
    "\n",
    "Este notebook contiene el análisis exploratorio y la limpieza inicial del dataset consolidado de URLs legítimas del sector cripto.\n",
    "\n",
    "## Objetivos\n",
    "\n",
    "- Evaluar la calidad y cantidad de los datos crudos.  \n",
    "- Identificar valores nulos, duplicados y otras inconsistencias en las columnas principales.  \n",
    "- Filtrar filas sin URLs válidas para obtener un dataset limpio y útil para modelado.  \n",
    "- Integrar la tabla maestra de empresas para una distribución completa.  \n",
    "- Documentar cada paso para facilitar la comprensión y reproducibilidad.\n"
   ]
  },
  {
   "cell_type": "code",
   "execution_count": 14,
   "id": "4c246061-3d89-4900-b67d-0fcb66ef8687",
   "metadata": {},
   "outputs": [
    {
     "name": "stdout",
     "output_type": "stream",
     "text": [
      "Información del DataFrame:\n",
      "<class 'pandas.core.frame.DataFrame'>\n",
      "RangeIndex: 209 entries, 0 to 208\n",
      "Data columns (total 4 columns):\n",
      " #   Column   Non-Null Count  Dtype \n",
      "---  ------   --------------  ----- \n",
      " 0   empresa  209 non-null    object\n",
      " 1   url      207 non-null    object\n",
      " 2   fecha    209 non-null    object\n",
      " 3   estado   209 non-null    object\n",
      "dtypes: object(4)\n",
      "memory usage: 6.7+ KB\n",
      "None\n",
      "\n",
      "Total filas: 209\n",
      "Duplicados: 0 (0.00%)\n",
      "\n",
      "Valores nulos por columna:\n",
      "empresa    0\n",
      "url        2\n",
      "fecha      0\n",
      "estado     0\n",
      "dtype: int64\n",
      "\n",
      "Primeras filas del DataFrame:\n"
     ]
    },
    {
     "data": {
      "text/html": [
       "<div>\n",
       "<style scoped>\n",
       "    .dataframe tbody tr th:only-of-type {\n",
       "        vertical-align: middle;\n",
       "    }\n",
       "\n",
       "    .dataframe tbody tr th {\n",
       "        vertical-align: top;\n",
       "    }\n",
       "\n",
       "    .dataframe thead th {\n",
       "        text-align: right;\n",
       "    }\n",
       "</style>\n",
       "<table border=\"1\" class=\"dataframe\">\n",
       "  <thead>\n",
       "    <tr style=\"text-align: right;\">\n",
       "      <th></th>\n",
       "      <th>empresa</th>\n",
       "      <th>url</th>\n",
       "      <th>fecha</th>\n",
       "      <th>estado</th>\n",
       "    </tr>\n",
       "  </thead>\n",
       "  <tbody>\n",
       "    <tr>\n",
       "      <th>0</th>\n",
       "      <td>Binance</td>\n",
       "      <td>NaN</td>\n",
       "      <td>22/07/2025</td>\n",
       "      <td>OK</td>\n",
       "    </tr>\n",
       "    <tr>\n",
       "      <th>1</th>\n",
       "      <td>Coinbase</td>\n",
       "      <td>NaN</td>\n",
       "      <td>22/07/2025</td>\n",
       "      <td>OK</td>\n",
       "    </tr>\n",
       "    <tr>\n",
       "      <th>2</th>\n",
       "      <td>Kraken</td>\n",
       "      <td>https://www.kraken.com/</td>\n",
       "      <td>22/07/2025</td>\n",
       "      <td>OK</td>\n",
       "    </tr>\n",
       "    <tr>\n",
       "      <th>3</th>\n",
       "      <td>Bit2Me</td>\n",
       "      <td>https://bit2me.com/buy-axie-infinity</td>\n",
       "      <td>22/07/2025</td>\n",
       "      <td>OK</td>\n",
       "    </tr>\n",
       "    <tr>\n",
       "      <th>4</th>\n",
       "      <td>Bit2Me</td>\n",
       "      <td>https://bit2me.com/suite/custody</td>\n",
       "      <td>22/07/2025</td>\n",
       "      <td>OK</td>\n",
       "    </tr>\n",
       "  </tbody>\n",
       "</table>\n",
       "</div>"
      ],
      "text/plain": [
       "    empresa                                   url       fecha estado\n",
       "0   Binance                                   NaN  22/07/2025     OK\n",
       "1  Coinbase                                   NaN  22/07/2025     OK\n",
       "2    Kraken               https://www.kraken.com/  22/07/2025     OK\n",
       "3    Bit2Me  https://bit2me.com/buy-axie-infinity  22/07/2025     OK\n",
       "4    Bit2Me      https://bit2me.com/suite/custody  22/07/2025     OK"
      ]
     },
     "metadata": {},
     "output_type": "display_data"
    }
   ],
   "source": [
    "import pandas as pd\n",
    "import os\n",
    "\n",
    "# Ruta local donde tienes los datos en crudo\n",
    "base_path = '/Users/test/Desktop/phishing-detector/data/raw/legitimas'\n",
    "\n",
    "# Nombre del archivo crudo de cripto\n",
    "archivo_cripto = 'cripto_legitimas_crudo.csv'\n",
    "\n",
    "# Ruta completa al archivo\n",
    "ruta_archivo = os.path.join(base_path, archivo_cripto)\n",
    "\n",
    "# Cargar CSV\n",
    "df_cripto = pd.read_csv(ruta_archivo)\n",
    "\n",
    "# Información general del DataFrame\n",
    "print(\"Información del DataFrame:\")\n",
    "print(df_cripto.info())\n",
    "\n",
    "# Conteo total y duplicados\n",
    "total_filas = len(df_cripto)\n",
    "duplicados = df_cripto.duplicated().sum()\n",
    "print(f\"\\nTotal filas: {total_filas}\")\n",
    "print(f\"Duplicados: {duplicados} ({(duplicados / total_filas) * 100:.2f}%)\")\n",
    "\n",
    "# Valores nulos por columna\n",
    "print(\"\\nValores nulos por columna:\")\n",
    "print(df_cripto.isnull().sum())\n",
    "\n",
    "# Mostrar primeras filas para inspección visual\n",
    "print(\"\\nPrimeras filas del DataFrame:\")\n",
    "display(df_cripto.head())\n"
   ]
  },
  {
   "cell_type": "code",
   "execution_count": 16,
   "id": "09259527-a750-40a8-80f7-37a11f66da10",
   "metadata": {},
   "outputs": [
    {
     "name": "stdout",
     "output_type": "stream",
     "text": [
      "Filas tras filtrar URLs nulas: 207\n"
     ]
    }
   ],
   "source": [
    "# Filtrar filas con URL no nula en el dataset cripto\n",
    "df_cripto_limpio = df_cripto[df_cripto['url'].notna()].copy()\n",
    "\n",
    "# Mostrar cuántas filas quedan tras eliminar URLs nulas\n",
    "print(f\"Filas tras filtrar URLs nulas: {len(df_cripto_limpio)}\")\n",
    "\n"
   ]
  },
  {
   "cell_type": "code",
   "execution_count": 17,
   "id": "109e63a5-3f0d-483c-a495-b9fdabac0c44",
   "metadata": {},
   "outputs": [
    {
     "name": "stdout",
     "output_type": "stream",
     "text": [
      "Total URLs: 207\n",
      "URLs válidas: 207 (100.00%)\n",
      "URLs inválidas: 0 (0.00%)\n",
      "\n",
      "Ejemplos de URLs inválidas:\n",
      "Series([], Name: url, dtype: object)\n"
     ]
    }
   ],
   "source": [
    "import validators  # Librería para validar URLs\n",
    "\n",
    "# Función para validar URLs: devuelve True si la URL es válida, False si no\n",
    "def es_url_valida(url):\n",
    "    if pd.isna(url):\n",
    "        return False\n",
    "    return validators.url(url)\n",
    "\n",
    "# Crear nueva columna 'url_valida' aplicando la función a la columna 'url'\n",
    "df_cripto_limpio['url_valida'] = df_cripto_limpio['url'].apply(es_url_valida)\n",
    "\n",
    "# Resumen de validación de URLs\n",
    "total_urls = len(df_cripto_limpio)\n",
    "urls_validas = df_cripto_limpio['url_valida'].sum()\n",
    "urls_invalidas = total_urls - urls_validas\n",
    "\n",
    "print(f\"Total URLs: {total_urls}\")\n",
    "print(f\"URLs válidas: {urls_validas} ({urls_validas / total_urls * 100:.2f}%)\")\n",
    "print(f\"URLs inválidas: {urls_invalidas} ({urls_invalidas / total_urls * 100:.2f}%)\")\n",
    "\n",
    "# Mostrar algunos ejemplos de URLs inválidas para inspección\n",
    "print(\"\\nEjemplos de URLs inválidas:\")\n",
    "print(df_cripto_limpio.loc[~df_cripto_limpio['url_valida'], 'url'].head(10))\n"
   ]
  },
  {
   "cell_type": "code",
   "execution_count": 22,
   "id": "e93a2eaf-64bf-4e90-acae-571f3b5c5057",
   "metadata": {},
   "outputs": [
    {
     "name": "stdout",
     "output_type": "stream",
     "text": [
      "Distribución de URLs incluyendo empresas no representadas:\n",
      "empresa\n",
      "BINANCE       0\n",
      "COINBASE      0\n",
      "KRAKEN        1\n",
      "BITFINEX      0\n",
      "BITSTAMP      0\n",
      "GEMINI        0\n",
      "HUOBI         0\n",
      "OKEX          0\n",
      "BITTREX       0\n",
      "POLONIEX      0\n",
      "ETORO        96\n",
      "BIT2ME      110\n",
      "Name: count, dtype: int64\n"
     ]
    },
    {
     "data": {
      "image/png": "[encoded data removed]",
      "text/plain": [
       "<Figure size 1400x600 with 1 Axes>"
      ]
     },
     "metadata": {},
     "output_type": "display_data"
    }
   ],
   "source": [
    "import matplotlib.pyplot as plt\n",
    "\n",
    "# Lista completa de empresas objetivo para el sector Cripto (según tu tabla maestra)\n",
    "cripto_objetivo = [\n",
    "    'BINANCE', 'COINBASE', 'KRAKEN', 'BITFINEX', 'BITSTAMP',\n",
    "    'GEMINI', 'HUOBI', 'OKEX', 'BITTREX', 'POLONIEX', 'ETORO', 'BIT2ME'\n",
    "]\n",
    "\n",
    "# Normalizamos la lista para asegurar coincidencias\n",
    "cripto_objetivo = [e.upper() for e in cripto_objetivo]\n",
    "\n",
    "# Normalizamos la columna 'empresa' para evitar discrepancias\n",
    "df_cripto_limpio['empresa'] = df_cripto_limpio['empresa'].str.upper().str.strip()\n",
    "\n",
    "# Contamos URLs por empresa en el dataset\n",
    "urls_por_empresa = df_cripto_limpio['empresa'].value_counts()\n",
    "\n",
    "# Reindexamos para que aparezcan todas las empresas, rellenando con 0 donde no haya datos\n",
    "urls_por_empresa = urls_por_empresa.reindex(cripto_objetivo, fill_value=0)\n",
    "\n",
    "print(\"Distribución de URLs incluyendo empresas no representadas:\")\n",
    "print(urls_por_empresa)\n",
    "\n",
    "# Graficar distribución completa\n",
    "plt.figure(figsize=(14,6))\n",
    "urls_por_empresa.plot(kind='bar')\n",
    "plt.title('Cantidad de URLs por Empresa - Sector Cripto (Incluyendo empresas no representadas)')\n",
    "plt.xlabel('Empresa')\n",
    "plt.ylabel('Número de URLs')\n",
    "plt.xticks(rotation=90)\n",
    "plt.grid(axis='y')\n",
    "plt.show()\n"
   ]
  },
  {
   "cell_type": "code",
   "execution_count": 23,
   "id": "cf049a94-a5f1-4825-9326-165c5172b00b",
   "metadata": {},
   "outputs": [
    {
     "name": "stdout",
     "output_type": "stream",
     "text": [
      "Filas después de limpiar duplicados en columnas relevantes: 207\n",
      "Dataset limpio guardado en: /Users/test/Desktop/phishing-detector/data/processed/legitimas/cripto_legitimas_limpio.csv\n"
     ]
    }
   ],
   "source": [
    "# Seleccionar columnas relevantes para el modelo\n",
    "# En cripto usamos 'empresa' en lugar de 'banco'\n",
    "columnas_relevantes = ['empresa', 'url']\n",
    "\n",
    "# Crear DataFrame limpio con solo las columnas seleccionadas\n",
    "df_modelo = df_cripto_limpio[columnas_relevantes].copy()\n",
    "\n",
    "# Eliminar filas duplicadas basadas en las columnas seleccionadas\n",
    "df_modelo = df_modelo.drop_duplicates()\n",
    "\n",
    "print(f\"Filas después de limpiar duplicados en columnas relevantes: {len(df_modelo)}\")\n",
    "\n",
    "# Construir ruta para guardar en /data/processed/legitimas/\n",
    "ruta_guardado = '/Users/test/Desktop/phishing-detector/data/processed/legitimas/cripto_legitimas_limpio.csv'\n",
    "\n",
    "# Guardar CSV sin índice\n",
    "df_modelo.to_csv(ruta_guardado, index=False)\n",
    "\n",
    "print(f\"Dataset limpio guardado en: {ruta_guardado}\")\n"
   ]
  }
 ],
 "metadata": {
  "kernelspec": {
   "display_name": "Python (phishing-env)",
   "language": "python",
   "name": "phishing-env"
  },
  "language_info": {
   "codemirror_mode": {
    "name": "ipython",
    "version": 3
   },
   "file_extension": ".py",
   "mimetype": "text/x-python",
   "name": "python",
   "nbconvert_exporter": "python",
   "pygments_lexer": "ipython3",
   "version": "3.10.18"
  }
 },
 "nbformat": 4,
 "nbformat_minor": 5
}
