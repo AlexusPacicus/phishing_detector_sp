{
 "cells": [
  {
   "cell_type": "code",
   "execution_count": 11,
   "id": "d02da571-e973-42ff-8780-5b949b6b7bda",
   "metadata": {},
   "outputs": [
    {
     "name": "stdout",
     "output_type": "stream",
     "text": [
      "✅ Features generadas y guardadas en features_inclusion1.csv\n"
     ]
    },
    {
     "data": {
      "text/html": [
       "<div>\n",
       "<style scoped>\n",
       "    .dataframe tbody tr th:only-of-type {\n",
       "        vertical-align: middle;\n",
       "    }\n",
       "\n",
       "    .dataframe tbody tr th {\n",
       "        vertical-align: top;\n",
       "    }\n",
       "\n",
       "    .dataframe thead th {\n",
       "        text-align: right;\n",
       "    }\n",
       "</style>\n",
       "<table border=\"1\" class=\"dataframe\">\n",
       "  <thead>\n",
       "    <tr style=\"text-align: right;\">\n",
       "      <th></th>\n",
       "      <th>url</th>\n",
       "      <th>sector</th>\n",
       "      <th>entidad</th>\n",
       "      <th>domain_length</th>\n",
       "      <th>domain_entropy</th>\n",
       "      <th>suspicious_path_token</th>\n",
       "      <th>num_params</th>\n",
       "      <th>contains_equal</th>\n",
       "      <th>protocol</th>\n",
       "      <th>tld_group</th>\n",
       "      <th>trusted_path_token</th>\n",
       "      <th>contains_percent</th>\n",
       "      <th>free_hosting</th>\n",
       "    </tr>\n",
       "  </thead>\n",
       "  <tbody>\n",
       "    <tr>\n",
       "      <th>0</th>\n",
       "      <td>http://000o8dc.wcomhost.com/www.santanderbanco...</td>\n",
       "      <td>banca</td>\n",
       "      <td>santander</td>\n",
       "      <td>8</td>\n",
       "      <td>2.750000</td>\n",
       "      <td>1</td>\n",
       "      <td>0</td>\n",
       "      <td>0</td>\n",
       "      <td>0</td>\n",
       "      <td>com</td>\n",
       "      <td>0</td>\n",
       "      <td>0</td>\n",
       "      <td>0</td>\n",
       "    </tr>\n",
       "    <tr>\n",
       "      <th>1</th>\n",
       "      <td>http://044088d.wcomhost.com/www.santanader.es/...</td>\n",
       "      <td>banca</td>\n",
       "      <td>santander</td>\n",
       "      <td>8</td>\n",
       "      <td>2.750000</td>\n",
       "      <td>1</td>\n",
       "      <td>0</td>\n",
       "      <td>0</td>\n",
       "      <td>0</td>\n",
       "      <td>com</td>\n",
       "      <td>0</td>\n",
       "      <td>0</td>\n",
       "      <td>0</td>\n",
       "    </tr>\n",
       "    <tr>\n",
       "      <th>2</th>\n",
       "      <td>http://122.114.173.242:30/bancosantander.es/pa...</td>\n",
       "      <td>NaN</td>\n",
       "      <td>NaN</td>\n",
       "      <td>15</td>\n",
       "      <td>2.389898</td>\n",
       "      <td>1</td>\n",
       "      <td>0</td>\n",
       "      <td>0</td>\n",
       "      <td>0</td>\n",
       "      <td>otros</td>\n",
       "      <td>0</td>\n",
       "      <td>0</td>\n",
       "      <td>0</td>\n",
       "    </tr>\n",
       "    <tr>\n",
       "      <th>3</th>\n",
       "      <td>http://correos.es-es-es-herramientas-localizad...</td>\n",
       "      <td>logistica</td>\n",
       "      <td>correos</td>\n",
       "      <td>6</td>\n",
       "      <td>2.251629</td>\n",
       "      <td>1</td>\n",
       "      <td>0</td>\n",
       "      <td>0</td>\n",
       "      <td>0</td>\n",
       "      <td>otros</td>\n",
       "      <td>0</td>\n",
       "      <td>0</td>\n",
       "      <td>0</td>\n",
       "    </tr>\n",
       "    <tr>\n",
       "      <th>4</th>\n",
       "      <td>http://correos-pay-paquete-tasa845246254.clien...</td>\n",
       "      <td>logistica</td>\n",
       "      <td>correos</td>\n",
       "      <td>12</td>\n",
       "      <td>3.084963</td>\n",
       "      <td>0</td>\n",
       "      <td>0</td>\n",
       "      <td>0</td>\n",
       "      <td>0</td>\n",
       "      <td>es</td>\n",
       "      <td>0</td>\n",
       "      <td>0</td>\n",
       "      <td>0</td>\n",
       "    </tr>\n",
       "  </tbody>\n",
       "</table>\n",
       "</div>"
      ],
      "text/plain": [
       "                                                 url     sector    entidad  \\\n",
       "0  http://000o8dc.wcomhost.com/www.santanderbanco...      banca  santander   \n",
       "1  http://044088d.wcomhost.com/www.santanader.es/...      banca  santander   \n",
       "2  http://122.114.173.242:30/bancosantander.es/pa...        NaN        NaN   \n",
       "3  http://correos.es-es-es-herramientas-localizad...  logistica    correos   \n",
       "4  http://correos-pay-paquete-tasa845246254.clien...  logistica    correos   \n",
       "\n",
       "   domain_length  domain_entropy  suspicious_path_token  num_params  \\\n",
       "0              8        2.750000                      1           0   \n",
       "1              8        2.750000                      1           0   \n",
       "2             15        2.389898                      1           0   \n",
       "3              6        2.251629                      1           0   \n",
       "4             12        3.084963                      0           0   \n",
       "\n",
       "   contains_equal  protocol tld_group  trusted_path_token  contains_percent  \\\n",
       "0               0         0       com                   0                 0   \n",
       "1               0         0       com                   0                 0   \n",
       "2               0         0     otros                   0                 0   \n",
       "3               0         0     otros                   0                 0   \n",
       "4               0         0        es                   0                 0   \n",
       "\n",
       "   free_hosting  \n",
       "0             0  \n",
       "1             0  \n",
       "2             0  \n",
       "3             0  \n",
       "4             0  "
      ]
     },
     "execution_count": 11,
     "metadata": {},
     "output_type": "execute_result"
    }
   ],
   "source": [
    "import pandas as pd\n",
    "from features.features import extract_features\n",
    "\n",
    "# 1. Cargar las URLs seleccionadas\n",
    "df_urls = pd.read_csv(\"urls_inclusion_1.csv\")\n",
    "\n",
    "# 2. Generar las features para cada URL\n",
    "features_list = [extract_features(u) for u in df_urls[\"url\"]]\n",
    "df_features = pd.DataFrame(features_list)\n",
    "\n",
    "# 3. Añadir columnas de sector y entidad para mantener el contexto\n",
    "df_final = pd.concat([df_urls, df_features], axis=1)\n",
    "\n",
    "# 4. Guardar como CSV listo para el modelo\n",
    "output_path = \"features_inclusion1.csv\"\n",
    "df_final.to_csv(output_path, index=False, encoding=\"utf-8\")\n",
    "\n",
    "print(f\"✅ Features generadas y guardadas en {output_path}\")\n",
    "df_final.head()\n"
   ]
  },
  {
   "cell_type": "code",
   "execution_count": 14,
   "id": "e46993d5-e636-48ea-9467-996a4170837d",
   "metadata": {},
   "outputs": [
    {
     "name": "stdout",
     "output_type": "stream",
     "text": [
      "                                                 url     sector    entidad  \\\n",
      "0  http://000o8dc.wcomhost.com/www.santanderbanco...      banca  santander   \n",
      "1  http://044088d.wcomhost.com/www.santanader.es/...      banca  santander   \n",
      "2  http://122.114.173.242:30/bancosantander.es/pa...        NaN        NaN   \n",
      "3  http://correos.es-es-es-herramientas-localizad...  logistica    correos   \n",
      "4  http://correos-pay-paquete-tasa845246254.clien...  logistica    correos   \n",
      "\n",
      "   prediccion  probabilidad  \n",
      "0           1      0.971697  \n",
      "1           1      0.971697  \n",
      "2           1      0.997451  \n",
      "3           1      0.991259  \n",
      "4           1      0.887088  \n"
     ]
    }
   ],
   "source": [
    "import pandas as pd\n",
    "import joblib\n",
    "\n",
    "# 1. Cargar features generadas\n",
    "df_test = pd.read_csv(\"features_inclusion1.csv\")\n",
    "\n",
    "# 2. Cargar objeto joblib\n",
    "obj = joblib.load(\"models/logreg_phishing_final.joblib\")\n",
    "\n",
    "# 3. Extraer partes\n",
    "model = obj[\"model\"]\n",
    "train_features = obj[\"features\"]\n",
    "threshold = obj[\"threshold\"]\n",
    "\n",
    "# 4. Reordenar columnas como en entrenamiento\n",
    "X_test = df_test.reindex(columns=train_features, fill_value=0)\n",
    "\n",
    "# 5. Predecir probabilidades y aplicar threshold\n",
    "y_proba = model.predict_proba(X_test)[:,1]\n",
    "y_pred = (y_proba >= threshold).astype(int)\n",
    "\n",
    "# 6. Guardar resultados\n",
    "df_test[\"prediccion\"] = y_pred\n",
    "df_test[\"probabilidad\"] = y_proba\n",
    "\n",
    "print(df_test[[\"url\", \"sector\", \"entidad\", \"prediccion\", \"probabilidad\"]].head())\n"
   ]
  },
  {
   "cell_type": "code",
   "execution_count": 13,
   "id": "ebb2921a-3736-4ac5-80aa-3a3b0ac91272",
   "metadata": {},
   "outputs": [
    {
     "name": "stdout",
     "output_type": "stream",
     "text": [
      "<class 'dict'>\n",
      "dict_keys(['model', 'threshold', 'features', 'metadata'])\n"
     ]
    }
   ],
   "source": [
    "import joblib\n",
    "\n",
    "obj = joblib.load(\"models/logreg_phishing_final.joblib\")\n",
    "print(type(obj))\n",
    "print(obj.keys() if isinstance(obj, dict) else obj)\n"
   ]
  },
  {
   "cell_type": "code",
   "execution_count": 15,
   "id": "55ab4f22-aab5-473d-a090-8343ff089b9b",
   "metadata": {},
   "outputs": [
    {
     "name": "stdout",
     "output_type": "stream",
     "text": [
      "              precision    recall  f1-score   support\n",
      "\n",
      "Legítima (0)       0.00      0.00      0.00         0\n",
      "Phishing (1)       1.00      0.87      0.93        69\n",
      "\n",
      "    accuracy                           0.87        69\n",
      "   macro avg       0.50      0.43      0.47        69\n",
      "weighted avg       1.00      0.87      0.93        69\n",
      "\n",
      "Matriz de confusión:\n",
      "[[ 0  0]\n",
      " [ 9 60]]\n"
     ]
    },
    {
     "name": "stderr",
     "output_type": "stream",
     "text": [
      "/opt/anaconda3/lib/python3.13/site-packages/sklearn/metrics/_classification.py:1565: UndefinedMetricWarning: Recall is ill-defined and being set to 0.0 in labels with no true samples. Use `zero_division` parameter to control this behavior.\n",
      "  _warn_prf(average, modifier, f\"{metric.capitalize()} is\", len(result))\n",
      "/opt/anaconda3/lib/python3.13/site-packages/sklearn/metrics/_classification.py:1565: UndefinedMetricWarning: Recall is ill-defined and being set to 0.0 in labels with no true samples. Use `zero_division` parameter to control this behavior.\n",
      "  _warn_prf(average, modifier, f\"{metric.capitalize()} is\", len(result))\n",
      "/opt/anaconda3/lib/python3.13/site-packages/sklearn/metrics/_classification.py:1565: UndefinedMetricWarning: Recall is ill-defined and being set to 0.0 in labels with no true samples. Use `zero_division` parameter to control this behavior.\n",
      "  _warn_prf(average, modifier, f\"{metric.capitalize()} is\", len(result))\n"
     ]
    }
   ],
   "source": [
    "from sklearn.metrics import classification_report, confusion_matrix\n",
    "\n",
    "# 1. Todas deberían ser phishing (1)\n",
    "y_true = [1] * len(df_test)\n",
    "y_pred = df_test[\"prediccion\"]\n",
    "\n",
    "# 2. Reporte de clasificación\n",
    "print(classification_report(y_true, y_pred, target_names=[\"Legítima (0)\", \"Phishing (1)\"]))\n",
    "\n",
    "# 3. Matriz de confusión\n",
    "print(\"Matriz de confusión:\")\n",
    "print(confusion_matrix(y_true, y_pred))\n"
   ]
  },
  {
   "cell_type": "code",
   "execution_count": 16,
   "id": "027e4a66-0c32-44cb-9f4d-27df53292f93",
   "metadata": {
    "scrolled": true
   },
   "outputs": [
    {
     "name": "stdout",
     "output_type": "stream",
     "text": [
      "                                                  url     sector    entidad  \\\n",
      "26   https://area.clientes-ingdiirect.es-eu.org/login      banca        ing   \n",
      "29  https://bancosantander.es.hotelparadis.es/avis...      banca  santander   \n",
      "40  https://correosprepago.bnext.es/aco?token=0cwd...  logistica    correos   \n",
      "41  https://correosprepago.bnext.es/register?from=...  logistica    correos   \n",
      "44  https://draganov-8bb38d.ingress-erytho.easywp....      banca        ing   \n",
      "54  https://ivresse.com/js/ionosv2/ionosv2/v/mail....     correo      ionos   \n",
      "58  https://msantamobs.com/wp-admin/user/correos.e...  logistica    correos   \n",
      "62  https://wififpt.com.vn/es/bankia.es/es/acceso-...      banca     bankia   \n",
      "67  https://www.servicio-ing.es/ap/app-login/?view...      banca        ing   \n",
      "\n",
      "    probabilidad  \n",
      "26      0.117377  \n",
      "29      0.337044  \n",
      "40      0.131633  \n",
      "41      0.103589  \n",
      "44      0.242601  \n",
      "54      0.029650  \n",
      "58      0.387205  \n",
      "62      0.221209  \n",
      "67      0.158848  \n"
     ]
    }
   ],
   "source": [
    "false_negatives = df_test[df_test[\"prediccion\"] == 0]\n",
    "print(false_negatives[[\"url\", \"sector\", \"entidad\", \"probabilidad\"]])\n"
   ]
  }
 ],
 "metadata": {
  "kernelspec": {
   "display_name": "Python 3 (ipykernel)",
   "language": "python",
   "name": "python3"
  },
  "language_info": {
   "codemirror_mode": {
    "name": "ipython",
    "version": 3
   },
   "file_extension": ".py",
   "mimetype": "text/x-python",
   "name": "python",
   "nbconvert_exporter": "python",
   "pygments_lexer": "ipython3",
   "version": "3.13.5"
  }
 },
 "nbformat": 4,
 "nbformat_minor": 5
}
