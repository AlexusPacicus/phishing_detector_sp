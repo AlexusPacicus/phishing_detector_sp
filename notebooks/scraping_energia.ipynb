{
 "cells": [
  {
   "cell_type": "markdown",
   "id": "70c1b3aa-91ad-4814-a930-3a1cbefe0b59",
   "metadata": {},
   "source": [
    "# Energía / Utilities: Scraping de URLs legítimas\n",
    "\n",
    "**Fecha de ejecución:** 22/07/2025  \n",
    "**Empresas objetivo:**  \n",
    "Endesa, Iberdrola, Naturgy, Repsol, Cepsa, Holaluz, TotalEnergies\n",
    "\n",
    "---\n"
   ]
  },
  {
   "cell_type": "code",
   "execution_count": 1,
   "id": "77a6cc4e-a18a-488b-8f75-120100018838",
   "metadata": {},
   "outputs": [],
   "source": [
    "# Importamos las librerías necesarias para el scraping y el análisis de datos\n",
    "import requests                             # Para hacer peticiones HTTP a las webs\n",
    "from bs4 import BeautifulSoup               # Para parsear el HTML de la página web\n",
    "from urllib.parse import urlparse, urljoin  # Para trabajar con URLs y dominios\n",
    "import pandas as pd                         # Para almacenar y exportar los datos en DataFrame\n",
    "import time                                 # Para pausar entre peticiones y evitar bloqueos\n"
   ]
  },
  {
   "cell_type": "code",
   "execution_count": 2,
   "id": "614b5b25-c245-410f-9620-a0bd81e3631a",
   "metadata": {},
   "outputs": [],
   "source": [
    "def obtener_urls(base_url, delay=1):\n",
    "    \"\"\"\n",
    "    Descarga la página principal de una web y extrae todas las URLs internas.\n",
    "    Solo añade URLs que pertenezcan al dominio principal o subdominios de la empresa.\n",
    "    - base_url: URL principal de la empresa\n",
    "    - delay: segundos de espera tras cada request para evitar bloqueos\n",
    "    \"\"\"\n",
    "    try:\n",
    "        # Definimos un User-Agent \"realista\" para que el servidor no bloquee la petición por bot\n",
    "        headers = {\n",
    "            \"User-Agent\": (\n",
    "                \"Mozilla/5.0 (Windows NT 10.0; Win64; x64) \"\n",
    "                \"AppleWebKit/537.36 (KHTML, like Gecko) \"\n",
    "                \"Chrome/91.0.4472.124 Safari/537.36\"\n",
    "            )\n",
    "        }\n",
    "        # Hacemos la petición HTTP a la web (con timeout de 10 segundos)\n",
    "        response = requests.get(base_url, timeout=10, headers=headers)\n",
    "\n",
    "        # Parseamos el HTML recibido con BeautifulSoup\n",
    "        soup = BeautifulSoup(response.text, 'html.parser')\n",
    "\n",
    "        # Extraemos el dominio principal (ej: 'amazon.es' de 'www.amazon.es')\n",
    "        dominio_empresa = urlparse(base_url).netloc\n",
    "        if dominio_empresa.startswith('www.'):\n",
    "            dominio_base = dominio_empresa[4:]\n",
    "        else:\n",
    "            dominio_base = dominio_empresa\n",
    "\n",
    "        # Creamos un set para guardar solo URLs únicas\n",
    "        urls = set()\n",
    "\n",
    "        # Buscamos todos los enlaces <a> que tengan atributo href\n",
    "        for link in soup.find_all('a', href=True):\n",
    "            href = link['href']                  # Obtenemos el href\n",
    "            href = urljoin(base_url, href)       # Convertimos a URL absoluta\n",
    "            dominio_href = urlparse(href).netloc # Dominio del enlace\n",
    "\n",
    "            # Eliminamos 'www.' para comparar dominios correctamente\n",
    "            if dominio_href.startswith('www.'):\n",
    "                dominio_href_base = dominio_href[4:]\n",
    "            else:\n",
    "                dominio_href_base = dominio_href\n",
    "\n",
    "            # Añadimos solo si es del dominio principal o subdominio\n",
    "            if dominio_href_base == dominio_base or dominio_href_base.endswith('.' + dominio_base):\n",
    "                urls.add(href)\n",
    "\n",
    "        # Esperamos el tiempo indicado (para no ser bloqueados por el servidor)\n",
    "        time.sleep(delay)\n",
    "\n",
    "        # Devolvemos la lista de URLs y un estado \"OK\"\n",
    "        return list(urls), \"OK\"\n",
    "\n",
    "    except Exception as e:\n",
    "        # Si hay error, lo devolvemos como estado y lista vacía de URLs\n",
    "        return [], str(e)\n"
   ]
  },
  {
   "cell_type": "code",
   "execution_count": 3,
   "id": "e91bc53f-bb93-4ce0-aa89-0fccb915c7b5",
   "metadata": {},
   "outputs": [],
   "source": [
    "empresas_energia = {\n",
    "    \"Endesa\": \"https://www.endesa.com\",\n",
    "    \"Iberdrola\": \"https://www.iberdrola.es\",\n",
    "    \"Naturgy\": \"https://www.naturgy.es\",\n",
    "    \"Repsol\": \"https://www.repsol.com\",\n",
    "    \"Cepsa\": \"https://www.cepsa.es\",\n",
    "    \"Holaluz\": \"https://www.holaluz.com\",\n",
    "    \"TotalEnergies\": \"https://www.totalenergies.es\"\n",
    "}\n"
   ]
  },
  {
   "cell_type": "code",
   "execution_count": 4,
   "id": "4459a367-381d-477e-9bd3-a93cfde42ad8",
   "metadata": {},
   "outputs": [
    {
     "name": "stdout",
     "output_type": "stream",
     "text": [
      "Scraping empresa: Endesa\n",
      "Scraping empresa: Iberdrola\n",
      "Scraping empresa: Naturgy\n",
      "Scraping empresa: Repsol\n",
      "Scraping empresa: Cepsa\n",
      "Scraping empresa: Holaluz\n",
      "Scraping empresa: TotalEnergies\n",
      "  empresa                                                url       fecha  \\\n",
      "0  Endesa  https://www.endesa.com/content/endesa-com/es/p...  22/07/2025   \n",
      "1  Endesa  https://www.endesa.com/es/te-ayudamos/sobre-tu...  22/07/2025   \n",
      "2  Endesa  https://www.endesa.com/content/endesa-com/es/e...  22/07/2025   \n",
      "3  Endesa  https://www.endesa.com/content/endesa-com/es/m...  22/07/2025   \n",
      "4  Endesa  https://www.endesa.com/es/la-cara-e/endesamusi...  22/07/2025   \n",
      "\n",
      "  estado  \n",
      "0     OK  \n",
      "1     OK  \n",
      "2     OK  \n",
      "3     OK  \n",
      "4     OK  \n"
     ]
    }
   ],
   "source": [
    "# Lista donde almacenaremos los resultados de todas las empresas\n",
    "resultados = []\n",
    "\n",
    "# Guardamos la fecha actual \n",
    "fecha = pd.Timestamp.today().strftime(\"%d/%m/%Y\")\n",
    "\n",
    "# Iteramos sobre cada empresa y su URL\n",
    "for nombre, url_base in empresas_energia.items():\n",
    "    print(f'Scraping empresa: {nombre}')                # Log para saber el progreso\n",
    "    urls, estado = obtener_urls(url_base)               # Llamamos a la función de scraping\n",
    "    if urls:\n",
    "        # Si hay URLs, añadimos cada una como fila en los resultados\n",
    "        for url in urls:\n",
    "            resultados.append({\n",
    "                'empresa': nombre,\n",
    "                'url': url,\n",
    "                'fecha': fecha,\n",
    "                'estado': estado\n",
    "            })\n",
    "    else:\n",
    "        # Si falla o no hay URLs, registramos igualmente el intento\n",
    "        resultados.append({\n",
    "            'empresa': nombre,\n",
    "            'url': '',\n",
    "            'fecha': fecha,\n",
    "            'estado': estado\n",
    "        })\n",
    "\n",
    "# Convertimos la lista de resultados en un DataFrame de pandas\n",
    "df_scrap = pd.DataFrame(resultados)\n",
    "\n",
    "# Guardamos el DataFrame como CSV en la carpeta correspondiente (cambia el nombre por sector)\n",
    "df_scrap.to_csv('../data/raw/energia_legitimas_crudo.csv', index=False)\n",
    "\n",
    "# Mostramos por pantalla las primeras filas del DataFrame para revisión rápida\n",
    "print(df_scrap.head())\n"
   ]
  },
  {
   "cell_type": "code",
   "execution_count": 5,
   "id": "ddbfa112-062a-4104-ad21-e5cac924d749",
   "metadata": {},
   "outputs": [
    {
     "name": "stdout",
     "output_type": "stream",
     "text": [
      "empresa\n",
      "Repsol           257\n",
      "Endesa           209\n",
      "Cepsa            201\n",
      "Naturgy           58\n",
      "Holaluz           52\n",
      "TotalEnergies     52\n",
      "Iberdrola          1\n",
      "Name: count, dtype: int64\n"
     ]
    }
   ],
   "source": [
    "print(df_scrap['empresa'].value_counts())\n",
    "\n",
    "\n"
   ]
  },
  {
   "cell_type": "markdown",
   "id": "7d0df8e9-71e3-4f51-8a63-1e6a43c8290e",
   "metadata": {},
   "source": [
    "| Empresa        | URLs únicas | Fecha      | Estado / Observaciones                |\n",
    "|----------------|------------|------------|---------------------------------------|\n",
    "| Repsol         |   257      | 22/07/2025 | OK                                    |\n",
    "| Endesa         |   209      | 22/07/2025 | OK                                    |\n",
    "| Cepsa          |   201      | 22/07/2025 | OK                                    |\n",
    "| Naturgy        |    58      | 22/07/2025 | OK                                    |\n",
    "| Holaluz        |    52      | 22/07/2025 | OK                                    |\n",
    "| TotalEnergies  |    52      | 22/07/2025 | OK                                    |\n",
    "| Iberdrola      |     1      | 22/07/2025 | OK – Home minimalista/poca visibilidad|\n"
   ]
  },
  {
   "cell_type": "markdown",
   "id": "fcd7396d-93c4-4363-ad50-f90777d5f4e9",
   "metadata": {},
   "source": [
    "- **Empresas scrapeadas:** 7\n",
    "- **Total URLs obtenidas:** 830\n",
    "- **Patrones observados:**\n",
    "    - Repsol, Endesa y Cepsa exponen un volumen muy alto de URLs públicas.\n",
    "    - Iberdrola solo muestra 1, posiblemente por home minimalista o por estructura protegida.\n",
    "    - El resto muestran un nivel medio de enlaces internos.\n",
    "- **Incidencias:**\n",
    "    - Ningún error crítico, todas las webs permiten scraping simple.\n",
    "    - Revisar si Iberdrola ofrece secciones públicas internas interesantes (si interesa ampliar).\n",
    "- **Siguiente paso:**  \n",
    "    - Continuar con el sector Streaming/Entretenimiento o revisar más en profundidad webs con pocos resultados.\n"
   ]
  }
 ],
 "metadata": {
  "kernelspec": {
   "display_name": "Python (phishing-env)",
   "language": "python",
   "name": "phishing-env"
  },
  "language_info": {
   "codemirror_mode": {
    "name": "ipython",
    "version": 3
   },
   "file_extension": ".py",
   "mimetype": "text/x-python",
   "name": "python",
   "nbconvert_exporter": "python",
   "pygments_lexer": "ipython3",
   "version": "3.10.18"
  }
 },
 "nbformat": 4,
 "nbformat_minor": 5
}
