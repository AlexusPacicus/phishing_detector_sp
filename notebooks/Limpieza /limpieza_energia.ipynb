{
 "cells": [
  {
   "cell_type": "markdown",
   "id": "8552248d-67ab-4a4a-ac06-aefe0f7354f9",
   "metadata": {},
   "source": [
    "# Limpieza y Análisis de URLs Legítimas - Sector Energía\n",
    "\n",
    "Este notebook contiene el análisis exploratorio y la limpieza inicial del dataset consolidado de URLs legítimas del sector energía.\n",
    "\n",
    "## Objetivos\n",
    "\n",
    "- Evaluar la calidad y cantidad de los datos unificados a partir de los archivos fuente.  \n",
    "- Identificar valores nulos, duplicados y otras inconsistencias en las columnas principales.  \n",
    "- Filtrar filas sin URLs válidas para asegurar un dataset limpio y útil para modelado.  \n",
    "- Documentar cada paso para facilitar la comprensión y reproducibilidad.\n"
   ]
  },
  {
   "cell_type": "code",
   "execution_count": 6,
   "id": "d25e4d80-5f62-414d-bcf5-dcca1d45f077",
   "metadata": {},
   "outputs": [
    {
     "name": "stdout",
     "output_type": "stream",
     "text": [
      "Dataset cargado para el sector Energía con 830 filas.\n",
      "Columnas disponibles: ['empresa', 'url', 'fecha', 'estado']\n"
     ]
    }
   ],
   "source": [
    "import pandas as pd\n",
    "import os\n",
    "\n",
    "# Parámetros\n",
    "base_path = '/Users/test/Desktop/phishing-detector/data/raw/legitimas'\n",
    "archivo = 'energia_legitimas_crudo.csv'\n",
    "ruta_archivo = os.path.join(base_path, archivo)\n",
    "\n",
    "# Cargar CSV\n",
    "df_energia = pd.read_csv(ruta_archivo)\n",
    "\n",
    "print(f\"Dataset cargado para el sector Energía con {len(df_energia)} filas.\")\n",
    "print(f\"Columnas disponibles: {df_energia.columns.tolist()}\")\n"
   ]
  },
  {
   "cell_type": "code",
   "execution_count": 8,
   "id": "3a156243-1014-4b10-928f-2fc56a1e18a2",
   "metadata": {},
   "outputs": [
    {
     "name": "stdout",
     "output_type": "stream",
     "text": [
      "Información general del DataFrame:\n",
      "<class 'pandas.core.frame.DataFrame'>\n",
      "RangeIndex: 830 entries, 0 to 829\n",
      "Data columns (total 4 columns):\n",
      " #   Column   Non-Null Count  Dtype \n",
      "---  ------   --------------  ----- \n",
      " 0   empresa  830 non-null    object\n",
      " 1   url      829 non-null    object\n",
      " 2   fecha    830 non-null    object\n",
      " 3   estado   830 non-null    object\n",
      "dtypes: object(4)\n",
      "memory usage: 26.1+ KB\n",
      "None\n",
      "\n",
      "Valores nulos por columna:\n",
      "empresa    0\n",
      "url        1\n",
      "fecha      0\n",
      "estado     0\n",
      "dtype: int64\n"
     ]
    }
   ],
   "source": [
    "# Mostrar información general del DataFrame con el método info()\n",
    "# Esto nos indica el número de filas, columnas, tipo de datos y cantidad de valores no nulos en cada columna\n",
    "print(\"Información general del DataFrame:\")\n",
    "print(df_energia.info())\n",
    "\n",
    "# Mostrar la cantidad de valores nulos en cada columna con isnull().sum()\n",
    "# Esto nos permite detectar si alguna columna tiene datos faltantes para poder tratarlos después\n",
    "print(\"\\nValores nulos por columna:\")\n",
    "print(df_energia.isnull().sum())\n"
   ]
  },
  {
   "cell_type": "code",
   "execution_count": 9,
   "id": "9d9afa02-e0dc-4cfc-bc08-25d9457fc75b",
   "metadata": {},
   "outputs": [
    {
     "name": "stdout",
     "output_type": "stream",
     "text": [
      "Filas tras eliminar URLs nulas: 829\n"
     ]
    }
   ],
   "source": [
    "# Filtrar el DataFrame para quedarse solo con las filas donde la columna 'url' no es nula\n",
    "# Esto es importante porque filas sin URL no aportan información útil para el análisis o el modelo\n",
    "df_energia_limpio = df_energia[df_energia['url'].notna()].copy()\n",
    "\n",
    "# Imprimir cuántas filas quedan tras eliminar las filas con URLs nulas\n",
    "print(f\"Filas tras eliminar URLs nulas: {len(df_energia_limpio)}\")\n"
   ]
  },
  {
   "cell_type": "code",
   "execution_count": 13,
   "id": "a8dcc4d3-4767-4557-aef3-00c4d1201597",
   "metadata": {},
   "outputs": [
    {
     "name": "stdout",
     "output_type": "stream",
     "text": [
      "Total URLs: 829\n",
      "URLs válidas: 824 (99.40%)\n",
      "URLs inválidas: 5 (0.60%)\n",
      "Ejemplos de URLs inválidas:\n",
      "529    https://www.cepsa.es/es/utilidades/catalogo/as...\n",
      "537    https://www.cepsa.es/es/utilidades/catalogo/as...\n",
      "543    https://www.cepsa.es/es/distribuidor/estacione...\n",
      "580    https://www.cepsa.es/es/utilidades/catalogo/as...\n",
      "617    https://www.cepsa.es/es/utilidades/catalogo/as...\n",
      "Name: url, dtype: object\n"
     ]
    }
   ],
   "source": [
    "import validators\n",
    "\n",
    "# Definimos una función que recibe una URL y devuelve True si es válida, False si no\n",
    "def es_url_valida(url):\n",
    "    # Primero verificamos si la URL es nula, en ese caso devolvemos False\n",
    "    if pd.isna(url):\n",
    "        return False\n",
    "    # Usamos validators.url para validar la URL\n",
    "    resultado = validators.url(url)\n",
    "    # Devolvemos True solo si validators.url devuelve True, para evitar errores\n",
    "    return resultado is True\n",
    "\n",
    "# Aplicamos la función a la columna 'url' para crear una nueva columna 'url_valida' con el resultado de la validación\n",
    "df_energia_limpio['url_valida'] = df_energia_limpio['url'].apply(es_url_valida)\n",
    "\n",
    "# Calculamos el total de URLs, cuántas son válidas y cuántas inválidas\n",
    "total_urls = len(df_energia_limpio)\n",
    "urls_validas = df_energia_limpio['url_valida'].sum()\n",
    "urls_invalidas = total_urls - urls_validas\n",
    "\n",
    "# Imprimimos el resumen de validación de URLs con porcentaje\n",
    "print(f\"Total URLs: {total_urls}\")\n",
    "print(f\"URLs válidas: {urls_validas} ({urls_validas / total_urls * 100:.2f}%)\")\n",
    "print(f\"URLs inválidas: {urls_invalidas} ({urls_invalidas / total_urls * 100:.2f}%)\")\n",
    "\n",
    "# Si hay URLs inválidas, mostramos algunos ejemplos para su revisión\n",
    "if urls_invalidas > 0:\n",
    "    print(\"Ejemplos de URLs inválidas:\")\n",
    "    print(df_energia_limpio.loc[~df_energia_limpio['url_valida'], 'url'].head(10))\n"
   ]
  },
  {
   "cell_type": "code",
   "execution_count": 15,
   "id": "b559cdb9-3785-45fe-bb1b-42488889e15f",
   "metadata": {},
   "outputs": [
    {
     "name": "stdout",
     "output_type": "stream",
     "text": [
      "Distribución completa de URLs por empresa (incluyendo empresas sin datos):\n",
      "empresa\n",
      "ENDESA           209\n",
      "IBERDROLA          0\n",
      "NATURGY           58\n",
      "REPSOL           257\n",
      "CEPSA            201\n",
      "HOLALUZ           52\n",
      "TOTALENERGIES     52\n",
      "Name: count, dtype: int64\n"
     ]
    },
    {
     "data": {
      "image/png": "[encoded data removed]",
      "text/plain": [
       "<Figure size 1200x600 with 1 Axes>"
      ]
     },
     "metadata": {},
     "output_type": "display_data"
    }
   ],
   "source": [
    "# Lista completa de empresas objetivo para el sector energía\n",
    "empresas_objetivo_energia = [\n",
    "    'ENDESA', 'IBERDROLA', 'NATURGY', 'REPSOL', 'CEPSA', 'HOLALUZ', 'TOTALENERGIES'\n",
    "]\n",
    "\n",
    "# Normalizar nombres en el DataFrame para evitar discrepancias\n",
    "df_energia_limpio['empresa'] = df_energia_limpio['empresa'].str.upper().str.strip()\n",
    "\n",
    "# Contar URLs por empresa\n",
    "distribucion = df_energia_limpio['empresa'].value_counts()\n",
    "\n",
    "# Reindexar para incluir todas las empresas objetivo, rellenando con 0 donde no haya datos\n",
    "distribucion = distribucion.reindex(empresas_objetivo_energia, fill_value=0)\n",
    "\n",
    "print(\"Distribución completa de URLs por empresa (incluyendo empresas sin datos):\")\n",
    "print(distribucion)\n",
    "\n",
    "# Graficar distribución completa\n",
    "import matplotlib.pyplot as plt\n",
    "\n",
    "plt.figure(figsize=(12,6))\n",
    "distribucion.plot(kind='bar')\n",
    "plt.title('Cantidad de URLs por Empresa - Sector Energía (completo)')\n",
    "plt.xlabel('Empresa')\n",
    "plt.ylabel('Número de URLs')\n",
    "plt.xticks(rotation=45)\n",
    "plt.grid(axis='y')\n",
    "plt.show()\n"
   ]
  },
  {
   "cell_type": "code",
   "execution_count": 12,
   "id": "18f06f06-d370-4319-8aad-452a31dbe527",
   "metadata": {},
   "outputs": [
    {
     "name": "stdout",
     "output_type": "stream",
     "text": [
      "Filas tras eliminar duplicados en columnas relevantes: 829\n",
      "Dataset limpio guardado en: /Users/test/Desktop/phishing-detector/data/processed/legitimas/energia_legitimas_limpio.csv\n"
     ]
    }
   ],
   "source": [
    "import os\n",
    "\n",
    "# Definimos la ruta base donde guardaremos los datos procesados\n",
    "base_path_processed = '/Users/test/Desktop/phishing-detector/data/processed/legitimas'\n",
    "\n",
    "# Nos aseguramos de que la carpeta exista; si no, la creamos\n",
    "os.makedirs(base_path_processed, exist_ok=True)\n",
    "\n",
    "# Definimos el nombre del archivo limpio que vamos a guardar\n",
    "archivo_limpio = 'energia_legitimas_limpio.csv'\n",
    "\n",
    "# Construimos la ruta completa para guardar el archivo\n",
    "ruta_guardado = os.path.join(base_path_processed, archivo_limpio)\n",
    "\n",
    "# Seleccionamos solo las columnas relevantes para el modelo (empresa y url)\n",
    "columnas_relevantes = ['empresa', 'url']\n",
    "\n",
    "# Creamos un nuevo DataFrame con las columnas seleccionadas y eliminamos filas duplicadas\n",
    "df_modelo = df_energia_limpio[columnas_relevantes].drop_duplicates()\n",
    "\n",
    "# Imprimimos el número de filas que tiene el DataFrame final limpio\n",
    "print(f\"Filas tras eliminar duplicados en columnas relevantes: {len(df_modelo)}\")\n",
    "\n",
    "# Guardamos el DataFrame limpio en formato CSV, sin incluir el índice\n",
    "df_modelo.to_csv(ruta_guardado, index=False)\n",
    "\n",
    "# Confirmamos con un mensaje que el archivo se ha guardado correctamente\n",
    "print(f\"Dataset limpio guardado en: {ruta_guardado}\")\n"
   ]
  }
 ],
 "metadata": {
  "kernelspec": {
   "display_name": "Python 3 (ipykernel)",
   "language": "python",
   "name": "python3"
  },
  "language_info": {
   "codemirror_mode": {
    "name": "ipython",
    "version": 3
   },
   "file_extension": ".py",
   "mimetype": "text/x-python",
   "name": "python",
   "nbconvert_exporter": "python",
   "pygments_lexer": "ipython3",
   "version": "3.10.18"
  }
 },
 "nbformat": 4,
 "nbformat_minor": 5
}
