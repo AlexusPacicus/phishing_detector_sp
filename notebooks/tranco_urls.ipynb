{
 "cells": [
  {
   "cell_type": "markdown",
   "id": "5ea9252a-0da0-4fbd-a133-7a775ceae6e3",
   "metadata": {},
   "source": [
    "# EN ESTE NOTEBOOK PROCEDO A ANALIZAR LAS URLS LEGÍTIMAS, CONSEGUIDAS DE UN DATABASE DE TRANCO"
   ]
  },
  {
   "cell_type": "markdown",
   "id": "71d9238c-684e-4e9f-81ba-6ee2f116772b",
   "metadata": {},
   "source": [
    "Importamos librerías"
   ]
  },
  {
   "cell_type": "code",
   "execution_count": 1,
   "id": "40b9c249-fc81-4de4-8506-09b79f641b06",
   "metadata": {},
   "outputs": [],
   "source": [
    "import pandas as pd"
   ]
  },
  {
   "cell_type": "markdown",
   "id": "5ecc4383-8ce1-4b4d-85e7-e07cc78d9ab1",
   "metadata": {},
   "source": [
    "Leemos el archivo"
   ]
  },
  {
   "cell_type": "code",
   "execution_count": 12,
   "id": "d37610e9-7819-42e1-a5bc-b162c40185e8",
   "metadata": {},
   "outputs": [],
   "source": [
    "import pandas as pd\n",
    "df = pd.read_csv('../data/raw/top-1m.csv', header=None, names=['rank', 'domain'])\n",
    "\n"
   ]
  },
  {
   "cell_type": "markdown",
   "id": "62b8f704-d053-456d-b020-23dfb064da24",
   "metadata": {},
   "source": [
    "En una variable nueva, `df_es`, metemos los dominions que acaben en \".es\""
   ]
  },
  {
   "cell_type": "code",
   "execution_count": 13,
   "id": "c66bc12c-8a9a-44bb-8ea2-69343ddd4787",
   "metadata": {},
   "outputs": [],
   "source": [
    "df_es = df[df['domain'].str.endswith('.es')]"
   ]
  },
  {
   "cell_type": "code",
   "execution_count": 17,
   "id": "15b9af9d-a2a0-4f2f-ba33-bf58e6c1fadb",
   "metadata": {},
   "outputs": [
    {
     "name": "stdout",
     "output_type": "stream",
     "text": [
      "Total dominios .es: 5148\n"
     ]
    }
   ],
   "source": [
    "print(f\"Total dominios .es: {len(df_es)}\")"
   ]
  }
 ],
 "metadata": {
  "kernelspec": {
   "display_name": "Python (phishing-env)",
   "language": "python",
   "name": "phishing-env"
  },
  "language_info": {
   "codemirror_mode": {
    "name": "ipython",
    "version": 3
   },
   "file_extension": ".py",
   "mimetype": "text/x-python",
   "name": "python",
   "nbconvert_exporter": "python",
   "pygments_lexer": "ipython3",
   "version": "3.10.18"
  }
 },
 "nbformat": 4,
 "nbformat_minor": 5
}
