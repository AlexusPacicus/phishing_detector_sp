{
 "cells": [
  {
   "cell_type": "code",
   "execution_count": 1,
   "id": "f31b5025-2aee-4d09-b0f6-0b436a1587da",
   "metadata": {},
   "outputs": [
    {
     "name": "stdout",
     "output_type": "stream",
     "text": [
      "   phish_id                                                url  \\\n",
      "0   9152757  https://interiakastliveresvbrokers.com/?token=...   \n",
      "1   9152752                    http://accessrevoke1.vercel.app   \n",
      "2   9152753                  https://accessrevoke1.vercel.app/   \n",
      "3   9152737       https://interiakastliverescbrokers.com/login   \n",
      "4   9152736  https://interiakastliverescbrokers.com/?token=...   \n",
      "\n",
      "                                    phish_detail_url  \\\n",
      "0  http://www.phishtank.com/phish_detail.php?phis...   \n",
      "1  http://www.phishtank.com/phish_detail.php?phis...   \n",
      "2  http://www.phishtank.com/phish_detail.php?phis...   \n",
      "3  http://www.phishtank.com/phish_detail.php?phis...   \n",
      "4  http://www.phishtank.com/phish_detail.php?phis...   \n",
      "\n",
      "             submission_time verified          verification_time online target  \n",
      "0  2025-07-11T09:46:33+00:00      yes  2025-07-11T09:52:02+00:00    yes  Other  \n",
      "1  2025-07-11T09:09:45+00:00      yes  2025-07-11T09:21:34+00:00    yes  Other  \n",
      "2  2025-07-11T09:09:45+00:00      yes  2025-07-11T09:21:34+00:00    yes  Other  \n",
      "3  2025-07-11T08:45:45+00:00      yes  2025-07-11T08:52:00+00:00    yes  Other  \n",
      "4  2025-07-11T08:45:38+00:00      yes  2025-07-11T08:52:00+00:00    yes  Other  \n"
     ]
    }
   ],
   "source": [
    "import pandas as pd\n",
    "df = pd.read_csv('phishtank_es.csv', encoding='latin-1')\n",
    "print(df.head())\n"
   ]
  },
  {
   "cell_type": "code",
   "execution_count": 2,
   "id": "ca42ba10-7b51-44c8-b698-aa7726c81f7a",
   "metadata": {},
   "outputs": [
    {
     "name": "stdout",
     "output_type": "stream",
     "text": [
      "Número de URLs .es: 12666\n",
      "                                                 url target\n",
      "0  https://interiakastliveresvbrokers.com/?token=...  Other\n",
      "1                    http://accessrevoke1.vercel.app  Other\n",
      "2                  https://accessrevoke1.vercel.app/  Other\n",
      "3       https://interiakastliverescbrokers.com/login  Other\n",
      "4  https://interiakastliverescbrokers.com/?token=...  Other\n"
     ]
    }
   ],
   "source": [
    "es_urls = df[df['url'].str.contains('.es', case = False, na = False)]\n",
    "print(f\"Número de URLs .es: {len(es_urls)}\")\n",
    "print(es_urls[['url', 'target']].head())"
   ]
  },
  {
   "cell_type": "code",
   "execution_count": 3,
   "id": "ad94e925-548b-49e9-b87f-508054cc7f99",
   "metadata": {},
   "outputs": [],
   "source": [
    "import re"
   ]
  },
  {
   "cell_type": "code",
   "execution_count": 4,
   "id": "156d23ac-575b-415d-8682-ae483d4dc1b7",
   "metadata": {},
   "outputs": [],
   "source": [
    "def es_dominio_es(url):\n",
    "    m = re.match(r'https?://([^/]+)/?', url)\n",
    "    if m:\n",
    "        dominio = m.group(1)\n",
    "        return dominio.lower().endswith('.es')\n",
    "    return False"
   ]
  },
  {
   "cell_type": "code",
   "execution_count": 8,
   "id": "b624986e-501e-418e-935f-cbc009a2f860",
   "metadata": {},
   "outputs": [
    {
     "name": "stdout",
     "output_type": "stream",
     "text": [
      "Dominios .es reales: 41\n",
      "                                                     url  \\\n",
      "369               https://lr4.qkipikpp.es/@R7IdcUm25R12/   \n",
      "395         https://muqdns84x.hrcbods.es/6U7CY6ih!5ulyi/   \n",
      "396       https://muqd22ns84x.hrcbods.es/6U7CY6ih!5ulyi/   \n",
      "397      https://muqd223ns84x.hrcbods.es/6U7CY6ih!5ulyi/   \n",
      "407    https://w7l3d.cclaccmg.es/no9DGJ!tq84Oi0HKQ8/*...   \n",
      "451    https://gtwky.caniqqm.es/f8qrRCRAr6P!lhN5Qx/*c...   \n",
      "507    https://consultapsicologo.es/Protect/Sites/ind...   \n",
      "713     http://enhd.es/smart/?&amp;id=phishing@d3lab.net   \n",
      "773        https://asaderorondasur.es/?validtrue=a@b.com   \n",
      "928                          https://helpsecureme.com.es   \n",
      "947            https://ait.ptootlj.es/Y!xvw0MY9SQvFFgE8/   \n",
      "1026                     https://infotecnikas.es/re.html   \n",
      "1215            https://9vbeh.tujaeiq.es/4z@OXY7igtOd8V/   \n",
      "1299   https://towsl.msyoxvxe.es/p5EtIv0OSrv!7/$YWRya...   \n",
      "1321   https://beneficiobrad-220525080321.braprograma...   \n",
      "1477   https://voicecallermessage38939891ayl9ov2cxy67...   \n",
      "1492   https://9d6gr424nzt1evifhj6e.wvorvfz.es/aToVxg...   \n",
      "1493   https://b9xja.dgnsvwrk.es/DwD9I@prmk4JYY2V/*to...   \n",
      "1494   https://b9xja.dgnsvwrk.es/iyfdfqbqbjrhlvlfboyb...   \n",
      "1794                  https://pkkb.lfyabbhdluzu.es/tmfu/   \n",
      "1795                      https://bZR.tujaeiq.es/iTKEVw/   \n",
      "1796                    https://0x.lfyabbhdluzu.es/tmfu/   \n",
      "1930   https://pendientesdeti.es/6d6116da#redacted@ab...   \n",
      "2080   https://online-310.secureguard.es/sc05?21&amp;...   \n",
      "2510                     https://bloccadispositivo.es/id   \n",
      "2538   https://bloccadispositivo.es/id/apps/private.p...   \n",
      "2539   https://bloccadispositivo.es/id/apps/private.p...   \n",
      "2540   https://bloccadispositivo.es/id/apps/private.p...   \n",
      "2541   https://bloccadispositivo.es/id/apps/private.p...   \n",
      "2542   https://bloccadispositivo.es/id/apps/private.p...   \n",
      "2604       https://correo.webmail.es/appsuite/login.html   \n",
      "2838                       https://trahabacidihsyuei.es/   \n",
      "2840   https://gestiphone.es/CYON-Team/My-cyon/index.php   \n",
      "3256   http://serviziosicuro.es/lo/apps/private.php?o...   \n",
      "3257   http://serviziosicuro.es/lo/apps/private.php?o...   \n",
      "3258   http://serviziosicuro.es/lo/apps/private.php?o...   \n",
      "3670               https://sosdogs.es/we-love-dogs-2024/   \n",
      "7262                        https://serviciodecorreo.es/   \n",
      "7616                               https://xurl.es/8lk01   \n",
      "7877          http://caixacapitalrisc.send2sign.es/login   \n",
      "12351                            https://mail.teikit.es/   \n",
      "\n",
      "                         target  \n",
      "369                       Other  \n",
      "395                       Other  \n",
      "396                       Other  \n",
      "397                       Other  \n",
      "407                       Other  \n",
      "451                   Microsoft  \n",
      "507                       Other  \n",
      "713                       Other  \n",
      "773                       Other  \n",
      "928                       Other  \n",
      "947    Internal Revenue Service  \n",
      "1026                      Other  \n",
      "1215                  Microsoft  \n",
      "1299                      Other  \n",
      "1321                      Other  \n",
      "1477                      Other  \n",
      "1492                  Microsoft  \n",
      "1493                  Microsoft  \n",
      "1494                  Microsoft  \n",
      "1794                      Other  \n",
      "1795                      Other  \n",
      "1796                      Other  \n",
      "1930                      Other  \n",
      "2080                      Other  \n",
      "2510                      Other  \n",
      "2538                      Other  \n",
      "2539                      Other  \n",
      "2540                      Other  \n",
      "2541                      Other  \n",
      "2542                      Other  \n",
      "2604                      Other  \n",
      "2838                      Other  \n",
      "2840                      Other  \n",
      "3256                      Other  \n",
      "3257                      Other  \n",
      "3258                      Other  \n",
      "3670                      Other  \n",
      "7262                      Other  \n",
      "7616                      Other  \n",
      "7877                      Caixa  \n",
      "12351                     Other  \n"
     ]
    }
   ],
   "source": [
    "df['es_dominio_es'] = df['url'].apply(es_dominio_es)\n",
    "solo_es = df[df['es_dominio_es']]\n",
    "print(f\"Dominios .es reales: {len(solo_es)}\")\n",
    "print(solo_es[['url', 'target']])\n"
   ]
  },
  {
   "cell_type": "code",
   "execution_count": 10,
   "id": "aaf0b169-a8c3-4d91-bb65-58e21f8634bd",
   "metadata": {},
   "outputs": [],
   "source": [
    "empresas_es = [\n",
    "    'caixabank', 'bbva', 'santander', 'cajamar', 'sabadel', 'unicaja',\n",
    "    'bankia', 'liberbank', 'ibercaja', 'openbank', 'abanca', 'banco popular',\n",
    "    'correos', 'aeat', 'sepe', 'seg-social', 'dgt', 'mapfre', 'renfe', 'movistar', \n",
    "    'orange', 'jazztel', 'endesa', 'iberdrola', 'sum', 'adif', 'osakidetza', 'cita previa'\n",
    "]\n"
   ]
  },
  {
   "cell_type": "code",
   "execution_count": 12,
   "id": "bec4b145-c647-476d-909e-1a1709603cc5",
   "metadata": {},
   "outputs": [
    {
     "name": "stdout",
     "output_type": "stream",
     "text": [
      "Número de URLs con empresas españolas: 218\n",
      "                                                     url  target\n",
      "287    https://docs.google.com/presentation/d/e/2PACX...   Other\n",
      "632                https://orangeinfos.godaddysites.com/   Other\n",
      "663    https://sumup.ricas.eu/public/pages/?d=en&p=index   Other\n",
      "664    https://sumup.ricas.eu/public/pages/?d=en&amp;...   Other\n",
      "811    https://u53661358.ct.sendgrid.net/ls/click?upn...   Other\n",
      "...                                                  ...     ...\n",
      "12670                 https://orange65.godaddysites.com/  Orange\n",
      "12671        https://messagerieorange5.godaddysites.com/   Other\n",
      "12672                 https://orange69.godaddysites.com/   Other\n",
      "12673                 https://orange14.godaddysites.com/   Other\n",
      "12674            https://accueilorange.godaddysites.com/   Other\n",
      "\n",
      "[218 rows x 2 columns]\n"
     ]
    }
   ],
   "source": [
    "mask_empresas = df['url'].str.contains('|'.join(empresas_es), case = False, na = False)\n",
    "empresas_urls = df[mask_empresas]\n",
    "print(f\"Número de URLs con empresas españolas: {len(empresas_urls)}\")\n",
    "print(empresas_urls[['url', 'target']])"
   ]
  },
  {
   "cell_type": "code",
   "execution_count": 13,
   "id": "28e3c475-a086-4b37-ab3c-5a61fbfe1e1d",
   "metadata": {},
   "outputs": [
    {
     "name": "stdout",
     "output_type": "stream",
     "text": [
      "caixabank: 2 URLs\n",
      "bbva: 6 URLs\n",
      "santander: 2 URLs\n",
      "correos: 18 URLs\n",
      "sepe: 3 URLs\n",
      "dgt: 40 URLs\n",
      "orange: 76 URLs\n",
      "sum: 70 URLs\n",
      "adif: 1 URLs\n"
     ]
    }
   ],
   "source": [
    "for entidad in empresas_es:\n",
    "    n = df['url'].str.contains(entidad, case = False, na = False).sum()\n",
    "    if n > 0:\n",
    "        print(f'{entidad}: {n} URLs')"
   ]
  },
  {
   "cell_type": "code",
   "execution_count": 15,
   "id": "061f7018-8a60-454f-9bc7-4dae05ab1a4f",
   "metadata": {},
   "outputs": [
    {
     "name": "stdout",
     "output_type": "stream",
     "text": [
      "\n",
      "ORANGE:\n",
      "                                                    url  target\n",
      "632               https://orangeinfos.godaddysites.com/   Other\n",
      "833     https://messagerie-orange-pro.mystrikingly.com/  Orange\n",
      "951           https://service-orange1.godaddysites.com/  Orange\n",
      "1229        https://vocalorangeau0707.godaddysites.com/  Orange\n",
      "1235       https://orange-connexion38.godaddysites.com/  Orange\n",
      "1289        https://orange-connexion7.godaddysites.com/  Orange\n",
      "1545  https://votrelignetelephoniqueorange.godaddysi...  Orange\n",
      "1768             https://orange-mail9.godaddysites.com/   Other\n",
      "1770             https://orange_mail1.godaddysites.com/   Other\n",
      "1776                https://smsorange.godaddysites.com/  Orange\n",
      "\n",
      "SUM:\n",
      "                                                    url target\n",
      "287   https://docs.google.com/presentation/d/e/2PACX...  Other\n",
      "663   https://sumup.ricas.eu/public/pages/?d=en&p=index  Other\n",
      "664   https://sumup.ricas.eu/public/pages/?d=en&amp;...  Other\n",
      "811   https://u53661358.ct.sendgrid.net/ls/click?upn...  Other\n",
      "2574  https://criterion-institute.webflow.io/events/...  Other\n",
      "3158  https://www.grwebsites.com/free/broad/osumobro...  Other\n",
      "3684  https://docs.google.com/presentation/d/e/2PACX...  Other\n",
      "3949  https://docs.google.com/presentation/d/e/2PACX...  Other\n",
      "3955  https://docs.google.com/presentation/d/e/2PACX...  Other\n",
      "4231  https://docs.google.com/presentation/d/17Zi7qq...  Other\n",
      "\n",
      "DGT:\n",
      "                                                    url target\n",
      "3065  https://docs.google.com/presentation/d/e/2PACX...  Other\n",
      "3381  https://docs.google.com/presentation/d/e/2PACX...  Other\n",
      "3459  https://docs.google.com/presentation/d/e/2PACX...  Other\n",
      "3532  https://docs.google.com/presentation/d/e/2PACX...  Other\n",
      "3595                          https://qrco.de/dgtespana  Other\n",
      "3596                           https://q-r.to/dgtespana  Other\n",
      "3597                         https://l.ead.me/dgtespana  Other\n",
      "3726  https://docs.google.com/presentation/d/1d88hLQ...  Other\n",
      "3727  https://docs.google.com/presentation/d/1d88hLQ...  Other\n",
      "4023  https://docs.google.com/presentation/d/e/2PACX...  Other\n",
      "\n",
      "CORREOS:\n",
      "                                                    url target\n",
      "902   https://correossservicee.jdevcloud.com/wp-incl...  Other\n",
      "1569                        https://qrco.de/correos-web  Other\n",
      "1570                         https://q-r.to/correos-web  Other\n",
      "1571                       https://l.ead.me/correos-web  Other\n",
      "1655                   https://correoserv25.weebly.com/  Other\n",
      "1878                https://othugrcorreosvo.weebly.com/  Other\n",
      "2036                       https://correosdecr.web.app/  Other\n",
      "2165                https://correoses.app.link/dominios  Other\n",
      "2259                https://pay.regularizecorreos.shop/  Other\n",
      "2260                 https://pay.regularizecorreos.shop  Other\n"
     ]
    }
   ],
   "source": [
    "for entidad in ['orange', 'sum', 'dgt', 'correos']:\n",
    "    print(f'\\n{entidad.upper()}:')\n",
    "    subset = df[df['url'].str.contains(entidad, case=False, na=False)]\n",
    "    print(subset[['url', 'target']].head(10))\n"
   ]
  }
 ],
 "metadata": {
  "kernelspec": {
   "display_name": "Python (phishing-env)",
   "language": "python",
   "name": "phishing-env"
  },
  "language_info": {
   "codemirror_mode": {
    "name": "ipython",
    "version": 3
   },
   "file_extension": ".py",
   "mimetype": "text/x-python",
   "name": "python",
   "nbconvert_exporter": "python",
   "pygments_lexer": "ipython3",
   "version": "3.10.18"
  }
 },
 "nbformat": 4,
 "nbformat_minor": 5
}
