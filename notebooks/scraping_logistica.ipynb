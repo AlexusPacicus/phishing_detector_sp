{
 "cells": [
  {
   "cell_type": "code",
   "execution_count": 1,
   "id": "c4242b49-4d4c-4603-935c-fb74ef5506b4",
   "metadata": {},
   "outputs": [],
   "source": [
    "import requests\n",
    "from bs4 import BeautifulSoup\n",
    "import pandas as pd, os\n",
    "import time\n",
    "from urllib.parse import urljoin, urlparse\n",
    "from time import sleep"
   ]
  },
  {
   "cell_type": "code",
   "execution_count": 2,
   "id": "de5e853b-2964-400c-9d93-22b49b4f56ee",
   "metadata": {},
   "outputs": [],
   "source": [
    "empresas_logistica = {\n",
    "    \"Correos\": \"https://www.correos.es\",\n",
    "    \"DHL\": \"https://www.dhl.es\",\n",
    "    \"SEUR\": \"https://www.seur.com\",\n",
    "    \"MRW\": \"https://www.mrw.es\",\n",
    "    \"FedEx\": \"https://www.fedex.com/es-es/home.html\",\n",
    "    \"UPS\": \"https://www.ups.com/es/es/Home.page\",\n",
    "    \"GLS\": \"https://gls-group.eu/ES/es/home\",\n",
    "    \"NACEX\": \"https://www.nacex.es\",\n",
    "    \"Amazon Logistics\": \"https://logistics.amazon.es\"\n",
    "}\n"
   ]
  },
  {
   "cell_type": "code",
   "execution_count": 3,
   "id": "fe04b1fd-bd1b-4d0b-b90f-da591fa4bc3d",
   "metadata": {},
   "outputs": [],
   "source": [
    "def obtener_urls(base_url, delay=1):\n",
    "    \"\"\"\n",
    "Descarga la página principal y extrae las URLs internas\n",
    "Acepta URLs del dominio principal y subdominios\n",
    "\"\"\"\n",
    "    try:\n",
    "        # Realiza la petición HTTP a la URL de la enpresa con 10s máximos de espera\n",
    "        response = requests.get(base_url, timeout=10)\n",
    "        \n",
    "        # Parsea el HTML recibido\n",
    "        soup = BeautifulSoup(response.text, 'html.parser')\n",
    "\n",
    "        # Obtiene el dominio principal\n",
    "        dominio_empresa = urlparse(base_url).netloc\n",
    "\n",
    "        # Elimina \"www.\" al inicio para igualar subdominios y dominio principal\n",
    "\n",
    "        if dominio_empresa.startswith('www.'):\n",
    "            dominio_base = dominio_empresa[4:]\n",
    "        else:\n",
    "            dominio_base = dominio_empresa\n",
    "\n",
    "        # Set para almacenar URLs únicas\n",
    "        urls = set()\n",
    "\n",
    "        # Itera por todos los enlaces (a, href)\n",
    "        for link in soup.find_all('a', href=True):\n",
    "            href = link['href'] # Extrae el href del enlace\n",
    "            href = urljoin(base_url, href) #Convierte relativo a absoluto\n",
    "\n",
    "            #Obtiene el dominio del enlace\n",
    "            dominio_href = urlparse(href).netloc\n",
    "            if dominio_href.startswith('www.'):\n",
    "                dominio_href_base = dominio_href[4:]\n",
    "            else:\n",
    "                dominio_href_base = dominio_href\n",
    "\n",
    "            # Añade la URL solo si es del dominio principal o subdomino\n",
    "            if dominio_href_base == dominio_base or dominio_href_base.endswith('.' + dominio_base):\n",
    "                urls.add(href)\n",
    "\n",
    "        # Devuelve las URLs únicas como lista\n",
    "        return list(urls)\n",
    "\n",
    "    except Exception as e:\n",
    "        print(f'Error al acceder a {base_url}: {e}')\n",
    "        return []\n",
    " \n",
    "\n",
    "        \n",
    "\n",
    "        \n",
    "\n",
    "    "
   ]
  },
  {
   "cell_type": "code",
   "execution_count": 4,
   "id": "fafca91a-8354-446d-9c44-7a77a156f169",
   "metadata": {},
   "outputs": [
    {
     "name": "stdout",
     "output_type": "stream",
     "text": [
      "Scraping empresa: Correos\n",
      "Scraping empresa: DHL\n",
      "Scraping empresa: SEUR\n",
      "Scraping empresa: MRW\n",
      "Scraping empresa: FedEx\n",
      "Scraping empresa: UPS\n",
      "Error al acceder a https://www.ups.com/es/es/Home.page: HTTPSConnectionPool(host='www.ups.com', port=443): Read timed out. (read timeout=10)\n",
      "Scraping empresa: GLS\n",
      "Scraping empresa: NACEX\n",
      "Scraping empresa: Amazon Logistics\n"
     ]
    }
   ],
   "source": [
    "resultados = []\n",
    "for nombre, url_base in empresas_logistica.items():\n",
    "    print(f'Scraping empresa: {nombre}')\n",
    "    urls_empresa = obtener_urls(url_base) \n",
    "    for url in urls_empresa:\n",
    "        resultados.append({'empresa': nombre, 'url': url})\n",
    "    time.sleep(2)\n",
    "    "
   ]
  },
  {
   "cell_type": "code",
   "execution_count": 6,
   "id": "0b55380e-98b0-4350-861e-bfeea7cfbce9",
   "metadata": {},
   "outputs": [],
   "source": [
    "# Convertirmos los resultados en un DataFrame\n",
    "df_scrap = pd.DataFrame(resultados)\n",
    "#Guardamos el DataFrame en un archivo CSV\n",
    "df_scrap.to_csv('../data/raw/logistica_legitimas_crudo.csv', index=False)"
   ]
  },
  {
   "cell_type": "code",
   "execution_count": 7,
   "id": "21866ff5-8f05-4ba3-a410-6137f803db66",
   "metadata": {},
   "outputs": [
    {
     "name": "stdout",
     "output_type": "stream",
     "text": [
      "empresa\n",
      "GLS      95\n",
      "NACEX    85\n",
      "MRW      75\n",
      "SEUR     62\n",
      "DHL      48\n",
      "Name: count, dtype: int64\n"
     ]
    }
   ],
   "source": [
    "print(df_scrap['empresa'].value_counts())\n",
    "\n",
    "\n"
   ]
  }
 ],
 "metadata": {
  "kernelspec": {
   "display_name": "Python (phishing-env)",
   "language": "python",
   "name": "phishing-env"
  },
  "language_info": {
   "codemirror_mode": {
    "name": "ipython",
    "version": 3
   },
   "file_extension": ".py",
   "mimetype": "text/x-python",
   "name": "python",
   "nbconvert_exporter": "python",
   "pygments_lexer": "ipython3",
   "version": "3.10.18"
  }
 },
 "nbformat": 4,
 "nbformat_minor": 5
}
