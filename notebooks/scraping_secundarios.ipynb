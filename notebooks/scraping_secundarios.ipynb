{
 "cells": [
  {
   "cell_type": "code",
   "execution_count": 4,
   "id": "60200bc6-dee3-4ae5-90f7-2573b3ad9794",
   "metadata": {},
   "outputs": [],
   "source": [
    "from urllib.parse import urljoin, urlparse # Para convertir enlaces relativos a absolutos\n",
    "import requests # Para peticiones HTTP\n",
    "from bs4 import BeautifulSoup #Para analizar el HTML"
   ]
  },
  {
   "cell_type": "code",
   "execution_count": 3,
   "id": "0adf89c9-3610-4c89-bfb2-a0f5f91ef1fe",
   "metadata": {},
   "outputs": [],
   "source": [
    "#Lista de palabras clave\n",
    "keywords = [\n",
    "    'login', 'acceso', 'clientes', 'area-privada', 'identificacion',\n",
    "    'particulares', 'entrar', 'registro', 'recuperar', 'clave', 'usuario',\n",
    "    'seguridad', 'soporte', 'password', 'signin', 'signup'\n",
    "]"
   ]
  },
  {
   "cell_type": "code",
   "execution_count": 6,
   "id": "81392ac9-a532-4de3-88cf-f071fa4648af",
   "metadata": {},
   "outputs": [
    {
     "ename": "NameError",
     "evalue": "name 'bancos' is not defined",
     "output_type": "error",
     "traceback": [
      "\u001b[0;31m---------------------------------------------------------------------------\u001b[0m",
      "\u001b[0;31mNameError\u001b[0m                                 Traceback (most recent call last)",
      "Cell \u001b[0;32mIn[6], line 3\u001b[0m\n\u001b[1;32m      1\u001b[0m resultados \u001b[38;5;241m=\u001b[39m []\n\u001b[0;32m----> 3\u001b[0m \u001b[38;5;28;01mfor\u001b[39;00m nombre, url_base \u001b[38;5;129;01min\u001b[39;00m \u001b[43mbancos\u001b[49m\u001b[38;5;241m.\u001b[39mitems():\n\u001b[1;32m      4\u001b[0m     \u001b[38;5;28mprint\u001b[39m(\u001b[38;5;124mf\u001b[39m\u001b[38;5;124m\"\u001b[39m\u001b[38;5;124mAnalizando banco: \u001b[39m\u001b[38;5;132;01m{\u001b[39;00mnombre\u001b[38;5;132;01m}\u001b[39;00m\u001b[38;5;124m\"\u001b[39m)  \u001b[38;5;66;03m# Muestra el banco que estás procesando\u001b[39;00m\n\u001b[1;32m      5\u001b[0m     \u001b[38;5;28;01mtry\u001b[39;00m:\n\u001b[1;32m      6\u001b[0m         \u001b[38;5;66;03m# Hace petición a la home del banco\u001b[39;00m\n",
      "\u001b[0;31mNameError\u001b[0m: name 'bancos' is not defined"
     ]
    }
   ],
   "source": [
    "resultados = []\n",
    "\n",
    "for nombre, url_base in bancos.items():\n",
    "    print(f\"Analizando banco: {nombre}\")  # Muestra el banco que estás procesando\n",
    "    try:\n",
    "        # Hace petición a la home del banco\n",
    "        response = requests.get(url_base, timeout=5)\n",
    "        # Parsea el HTML recibido (lo analiza y convierte en estructura navegable)\n",
    "        soup = BeautifulSoup(response.text, 'html.parser')\n",
    "        # Extrae todos los enlaces de la página\n",
    "        enlaces = [a['href'] for a in soup.find_all('a', href=True)]\n",
    "        print(f\"Número de enlaces extraídos: {len(enlaces)}\")  # Muestra cuántos enlaces encontró\n",
    "    except Exception as e:\n",
    "        print(f\"Error en {nombre}: {e}\")\n",
    "        \n",
    "    "
   ]
  }
 ],
 "metadata": {
  "kernelspec": {
   "display_name": "Python (phishing-env)",
   "language": "python",
   "name": "phishing-env"
  },
  "language_info": {
   "codemirror_mode": {
    "name": "ipython",
    "version": 3
   },
   "file_extension": ".py",
   "mimetype": "text/x-python",
   "name": "python",
   "nbconvert_exporter": "python",
   "pygments_lexer": "ipython3",
   "version": "3.10.18"
  }
 },
 "nbformat": 4,
 "nbformat_minor": 5
}
