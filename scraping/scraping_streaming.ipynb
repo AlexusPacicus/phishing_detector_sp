{
 "cells": [
  {
   "cell_type": "markdown",
   "id": "fd9772e9-3abe-47e2-b555-9e95a4ca7c96",
   "metadata": {},
   "source": [
    "# Streaming / Entretenimiento: Scraping de URLs legítimas\n",
    "\n",
    "**Fecha de ejecución:** 22/07/2025  \n",
    "**Empresas objetivo:**  \n",
    "Netflix, Disney+, HBO, Spotify, Steam, Epic Games, Prime Video, Movistar+\n",
    "\n",
    "---\n"
   ]
  },
  {
   "cell_type": "code",
   "execution_count": 1,
   "id": "77a6cc4e-a18a-488b-8f75-120100018838",
   "metadata": {},
   "outputs": [],
   "source": [
    "# Importamos las librerías necesarias para el scraping y el análisis de datos\n",
    "import requests                             # Para hacer peticiones HTTP a las webs\n",
    "from bs4 import BeautifulSoup               # Para parsear el HTML de la página web\n",
    "from urllib.parse import urlparse, urljoin  # Para trabajar con URLs y dominios\n",
    "import pandas as pd                         # Para almacenar y exportar los datos en DataFrame\n",
    "import time                                 # Para pausar entre peticiones y evitar bloqueos\n"
   ]
  },
  {
   "cell_type": "code",
   "execution_count": 3,
   "id": "614b5b25-c245-410f-9620-a0bd81e3631a",
   "metadata": {},
   "outputs": [],
   "source": [
    "def obtener_urls(base_url, delay=1):\n",
    "    \"\"\"\n",
    "    Descarga la página principal de una web y extrae todas las URLs internas.\n",
    "    Solo añade URLs que pertenezcan al dominio principal o subdominios de la empresa.\n",
    "    - base_url: URL principal de la empresa\n",
    "    - delay: segundos de espera tras cada request para evitar bloqueos\n",
    "    \"\"\"\n",
    "    try:\n",
    "        # Definimos un User-Agent \"realista\" para que el servidor no bloquee la petición por bot\n",
    "        headers = {\n",
    "            \"User-Agent\": (\n",
    "                \"Mozilla/5.0 (Windows NT 10.0; Win64; x64) \"\n",
    "                \"AppleWebKit/537.36 (KHTML, like Gecko) \"\n",
    "                \"Chrome/91.0.4472.124 Safari/537.36\"\n",
    "            )\n",
    "        }\n",
    "        # Hacemos la petición HTTP a la web (con timeout de 10 segundos)\n",
    "        response = requests.get(base_url, timeout=10, headers=headers)\n",
    "\n",
    "        # Parseamos el HTML recibido con BeautifulSoup\n",
    "        soup = BeautifulSoup(response.text, 'html.parser')\n",
    "\n",
    "        # Extraemos el dominio principal (ej: 'amazon.es' de 'www.amazon.es')\n",
    "        dominio_empresa = urlparse(base_url).netloc\n",
    "        if dominio_empresa.startswith('www.'):\n",
    "            dominio_base = dominio_empresa[4:]\n",
    "        else:\n",
    "            dominio_base = dominio_empresa\n",
    "\n",
    "        # Creamos un set para guardar solo URLs únicas\n",
    "        urls = set()\n",
    "\n",
    "        # Buscamos todos los enlaces <a> que tengan atributo href\n",
    "        for link in soup.find_all('a', href=True):\n",
    "            href = link['href']                  # Obtenemos el href\n",
    "            href = urljoin(base_url, href)       # Convertimos a URL absoluta\n",
    "            dominio_href = urlparse(href).netloc # Dominio del enlace\n",
    "\n",
    "            # Eliminamos 'www.' para comparar dominios correctamente\n",
    "            if dominio_href.startswith('www.'):\n",
    "                dominio_href_base = dominio_href[4:]\n",
    "            else:\n",
    "                dominio_href_base = dominio_href\n",
    "\n",
    "            # Añadimos solo si es del dominio principal o subdominio\n",
    "            if dominio_href_base == dominio_base or dominio_href_base.endswith('.' + dominio_base):\n",
    "                urls.add(href)\n",
    "\n",
    "        # Esperamos el tiempo indicado (para no ser bloqueados por el servidor)\n",
    "        time.sleep(delay)\n",
    "\n",
    "        # Devolvemos la lista de URLs y un estado \"OK\"\n",
    "        return list(urls), \"OK\"\n",
    "\n",
    "    except Exception as e:\n",
    "        # Si hay error, lo devolvemos como estado y lista vacía de URLs\n",
    "        return [], str(e)\n"
   ]
  },
  {
   "cell_type": "code",
   "execution_count": 4,
   "id": "e91bc53f-bb93-4ce0-aa89-0fccb915c7b5",
   "metadata": {},
   "outputs": [],
   "source": [
    "empresas_streaming = {\n",
    "    \"Netflix\": \"https://www.netflix.com/es\",\n",
    "    \"Disney+\": \"https://www.disneyplus.com/es-es\",\n",
    "    \"HBO\": \"https://www.hbomax.com/es/es\",\n",
    "    \"Spotify\": \"https://www.spotify.com/es\",\n",
    "    \"Steam\": \"https://store.steampowered.com\",\n",
    "    \"Epic Games\": \"https://www.epicgames.com\",\n",
    "    \"Prime Video\": \"https://www.primevideo.com\",\n",
    "    \"Movistar+\": \"https://ver.movistarplus.es\"\n",
    "}\n"
   ]
  },
  {
   "cell_type": "code",
   "execution_count": 5,
   "id": "4459a367-381d-477e-9bd3-a93cfde42ad8",
   "metadata": {
    "scrolled": true
   },
   "outputs": [
    {
     "name": "stdout",
     "output_type": "stream",
     "text": [
      "Scraping empresa: Netflix\n",
      "Scraping empresa: Disney+\n",
      "Scraping empresa: HBO\n",
      "Scraping empresa: Spotify\n",
      "Scraping empresa: Steam\n",
      "Scraping empresa: Epic Games\n",
      "Scraping empresa: Prime Video\n",
      "Scraping empresa: Movistar+\n",
      "   empresa                                     url       fecha estado\n",
      "0  Netflix      https://help.netflix.com/contactus  22/07/2025     OK\n",
      "1  Netflix  https://help.netflix.com/legal/privacy  22/07/2025     OK\n",
      "2  Netflix    https://help.netflix.com/support/412  22/07/2025     OK\n",
      "3  Netflix                https://help.netflix.com  22/07/2025     OK\n",
      "4  Netflix    https://help.netflix.com/node/133344  22/07/2025     OK\n"
     ]
    }
   ],
   "source": [
    "# Lista donde almacenaremos los resultados de todas las empresas\n",
    "resultados = []\n",
    "\n",
    "# Guardamos la fecha actual \n",
    "fecha = pd.Timestamp.today().strftime(\"%d/%m/%Y\")\n",
    "\n",
    "# Iteramos sobre cada empresa y su URL\n",
    "for nombre, url_base in empresas_streaming.items():\n",
    "    print(f'Scraping empresa: {nombre}')                # Log para saber el progreso\n",
    "    urls, estado = obtener_urls(url_base)               # Llamamos a la función de scraping\n",
    "    if urls:\n",
    "        # Si hay URLs, añadimos cada una como fila en los resultados\n",
    "        for url in urls:\n",
    "            resultados.append({\n",
    "                'empresa': nombre,\n",
    "                'url': url,\n",
    "                'fecha': fecha,\n",
    "                'estado': estado\n",
    "            })\n",
    "    else:\n",
    "        # Si falla o no hay URLs, registramos igualmente el intento\n",
    "        resultados.append({\n",
    "            'empresa': nombre,\n",
    "            'url': '',\n",
    "            'fecha': fecha,\n",
    "            'estado': estado\n",
    "        })\n",
    "\n",
    "# Convertimos la lista de resultados en un DataFrame de pandas\n",
    "df_scrap = pd.DataFrame(resultados)\n",
    "\n",
    "# Guardamos el DataFrame como CSV en la carpeta correspondiente (cambia el nombre por sector)\n",
    "df_scrap.to_csv('../data/raw/streaming_legitimas_crudo.csv', index=False)\n",
    "\n",
    "# Mostramos por pantalla las primeras filas del DataFrame para revisión rápida\n",
    "print(df_scrap.head())\n"
   ]
  },
  {
   "cell_type": "code",
   "execution_count": 6,
   "id": "ddbfa112-062a-4104-ad21-e5cac924d749",
   "metadata": {},
   "outputs": [
    {
     "name": "stdout",
     "output_type": "stream",
     "text": [
      "empresa\n",
      "Steam          375\n",
      "HBO             39\n",
      "Disney+         34\n",
      "Prime Video     32\n",
      "Netflix         11\n",
      "Spotify          2\n",
      "Epic Games       1\n",
      "Movistar+        1\n",
      "Name: count, dtype: int64\n"
     ]
    }
   ],
   "source": [
    "print(df_scrap['empresa'].value_counts())\n",
    "\n",
    "\n"
   ]
  },
  {
   "cell_type": "markdown",
   "id": "a119eadb-5df5-41ea-a6b8-e1459130e831",
   "metadata": {},
   "source": [
    "| Empresa      | URLs únicas | Fecha      | Estado / Observaciones                |\n",
    "|--------------|------------|------------|---------------------------------------|\n",
    "| Steam        |   375      | 22/07/2025 | OK                                    |\n",
    "| HBO          |    39      | 22/07/2025 | OK                                    |\n",
    "| Disney+      |    34      | 22/07/2025 | OK                                    |\n",
    "| Prime Video  |    32      | 22/07/2025 | OK                                    |\n",
    "| Netflix      |    11      | 22/07/2025 | OK – Home ayuda/legal, pocos enlaces  |\n",
    "| Spotify      |     2      | 22/07/2025 | OK – Muy pocos enlaces, home mínima   |\n",
    "| Epic Games   |     1      | 22/07/2025 | OK – Home básica                      |\n",
    "| Movistar+    |     1      | 22/07/2025 | OK – Home básica                      |\n"
   ]
  },
  {
   "cell_type": "markdown",
   "id": "95cf2963-f274-4fdf-b5ec-ab50ca610b7f",
   "metadata": {},
   "source": [
    "- **Empresas scrapeadas:** 8\n",
    "- **Total URLs obtenidas:** 495\n",
    "- **Patrones detectados:**\n",
    "    - Steam devuelve muchísimas URLs, probablemente de comunidad, foros, docs y ayuda.\n",
    "    - HBO, Disney+ y Prime Video devuelven varias decenas de enlaces, la mayoría de ayuda y legales.\n",
    "    - Netflix, Spotify, Epic Games y Movistar+ apenas exponen páginas públicas útiles.\n",
    "- **Incidencias:**\n",
    "    - Ningún bloqueo ni error técnico, solo limitaciones por diseño de home en algunos servicios.\n",
    "- **Siguiente paso:**  \n",
    "    - Seguir con Viajes/Turismo y después Criptomonedas/Inversión para completar todos los sectores.\n"
   ]
  },
  {
   "cell_type": "code",
   "execution_count": null,
   "id": "1e52cd8a-2b9c-4cb4-9fe4-cabc0b2fb27f",
   "metadata": {},
   "outputs": [],
   "source": []
  }
 ],
 "metadata": {
  "kernelspec": {
   "display_name": "Python (phishing-env)",
   "language": "python",
   "name": "phishing-env"
  },
  "language_info": {
   "codemirror_mode": {
    "name": "ipython",
    "version": 3
   },
   "file_extension": ".py",
   "mimetype": "text/x-python",
   "name": "python",
   "nbconvert_exporter": "python",
   "pygments_lexer": "ipython3",
   "version": "3.10.18"
  }
 },
 "nbformat": 4,
 "nbformat_minor": 5
}
