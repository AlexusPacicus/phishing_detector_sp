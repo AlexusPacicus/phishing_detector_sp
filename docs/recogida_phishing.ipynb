{
 "cells": [
  {
   "cell_type": "markdown",
   "id": "609aa758-1474-4b6f-8678-c65c7c4bf585",
   "metadata": {},
   "source": [
    "# Estrategia de Automatización para la Recolección de URLs de Phishing\n",
    "\n",
    "## 1. Objetivo\n",
    "Automatizar la obtención diaria de URLs de phishing reales y actualizadas, priorizando fuentes relevantes para el contexto español, y guardarlas en formato estructurado para su posterior análisis y entrenamiento del modelo.\n",
    "\n",
    "## 2. Fuentes Seleccionadas\n",
    "- **Feeds públicos de phishing:** (PhishTank, OpenPhish, urlhaus, etc.)\n",
    "- **Repositorios de Github:** Listas de campañas recientes, recopilaciones públicas.\n",
    "- **Canales/Grupos de Telegram:** Espacios que comparten alertas de phishing o campañas recientes.\n",
    "- **LinkedIn:** Publicaciones, comentarios y grupos de ciberseguridad donde se comparten incidentes.\n",
    "- **Foros especializados:** Foros de ciberseguridad, comunidades “grayzone” y underground.\n",
    "- **Automatización de emails cebo:** Creación de cuentas de email automáticas para recibir spam y phishing real.\n",
    "- **Scraping de anuncios/webs con alta presencia de anuncios:** Automatización de bots que navegan y capturan URLs potencialmente peligrosas.\n",
    "\n",
    "> **Nota:** Se prioriza la facilidad de automatización, la actualización frecuente y la relevancia geográfica (España y LATAM, en caso de ampliación).\n",
    "\n",
    "## 3. Frecuencia de Ejecución\n",
    "- **Automático:** Scripts programados diariamente (o con frecuencia ajustable).\n",
    "- **Manual:** Posibilidad de lanzar scraping extra según necesidad.\n",
    "\n",
    "## 4. Estructura de los Datos Guardados\n",
    "- Carpeta destino: `data/raw/phishing`\n",
    "- Formato: CSV o JSON\n",
    "- **Campos mínimos:**\n",
    "    - `url`\n",
    "    - `fecha_hora_recoleccion`\n",
    "    - `fuente`\n",
    "    - `sector_objetivo` (si se puede inferir)\n",
    "    - `observaciones` (opcional)\n",
    "\n",
    "## 5. Control de Duplicados y Calidad\n",
    "- Chequeo automático de duplicados antes de guardar.\n",
    "- Validación básica de formato de URL.\n",
    "- Logs de errores y registros de ejecución.\n",
    "\n",
    "## 6. Próximos Pasos\n",
    "- [ ] Implementar el primer script para una fuente sencilla (por ejemplo, PhishTank o Github).\n",
    "- [ ] Probar la descarga automática y el guardado estructurado.\n",
    "- [ ] Documentar todo el proceso y problemas encontrados.\n",
    "- [ ] Explorar automatización de creación de emails y scraping de anuncios (a medio plazo).\n",
    "\n",
    "---\n",
    "\n",
    "*Cada iteración y mejora debe quedar reflejada en el README del proyecto y en comentarios del código.*\n"
   ]
  }
 ],
 "metadata": {
  "kernelspec": {
   "display_name": "Python (phishing-env)",
   "language": "python",
   "name": "phishing-env"
  },
  "language_info": {
   "codemirror_mode": {
    "name": "ipython",
    "version": 3
   },
   "file_extension": ".py",
   "mimetype": "text/x-python",
   "name": "python",
   "nbconvert_exporter": "python",
   "pygments_lexer": "ipython3",
   "version": "3.10.18"
  }
 },
 "nbformat": 4,
 "nbformat_minor": 5
}
