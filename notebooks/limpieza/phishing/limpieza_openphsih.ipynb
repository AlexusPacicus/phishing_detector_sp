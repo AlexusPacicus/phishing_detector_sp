{
 "cells": [
  {
   "cell_type": "code",
   "execution_count": 5,
   "id": "93b5192f-95b8-407e-a141-137d983ca094",
   "metadata": {},
   "outputs": [
    {
     "name": "stdout",
     "output_type": "stream",
     "text": [
      "Directorio actual: /Users/test/Desktop/phishing-detector\n"
     ]
    }
   ],
   "source": [
    "from pathlib import Path\n",
    "import os\n",
    "\n",
    "# Forzar a subir hasta la raíz del proyecto\n",
    "root = Path(__file__).resolve().parents[2] if \"__file__\" in globals() else Path.cwd().parents[2]\n",
    "os.chdir(root)\n",
    "\n",
    "print(\"Directorio actual:\", Path.cwd())\n"
   ]
  },
  {
   "cell_type": "code",
   "execution_count": 6,
   "id": "dd186c48-0c38-42ec-8126-5fbed723a224",
   "metadata": {},
   "outputs": [
    {
     "name": "stdout",
     "output_type": "stream",
     "text": [
      "Filas: 3863\n"
     ]
    }
   ],
   "source": [
    "path_consol = Path(\"data/processed/openphish_consolidado.csv\")\n",
    "assert path_consol.exists(), f\"No existe: {path_consol.resolve()}\"\n",
    "\n",
    "op = pd.read_csv(path_consol)\n",
    "print(\"Filas:\", len(op))\n"
   ]
  },
  {
   "cell_type": "code",
   "execution_count": 8,
   "id": "b32273c1-d450-4869-ac6a-81989c172cba",
   "metadata": {},
   "outputs": [
    {
     "name": "stdout",
     "output_type": "stream",
     "text": [
      "Antes de limpiar: 3863\n"
     ]
    }
   ],
   "source": [
    "import pandas as pd\n",
    "from urllib.parse import urlparse\n",
    "import validators\n",
    "from pathlib import Path\n",
    "\n",
    "# 1) Cargar\n",
    "path = Path(\"data/processed/openphish_consolidado.csv\")\n",
    "df = pd.read_csv(path)\n",
    "\n",
    "print(\"Antes de limpiar:\", len(df))\n",
    "\n"
   ]
  },
  {
   "cell_type": "code",
   "execution_count": 13,
   "id": "bf37284a-3316-43ee-8ee7-b2ca4dbba463",
   "metadata": {},
   "outputs": [
    {
     "name": "stdout",
     "output_type": "stream",
     "text": [
      "Tras eliminar dupliados: 3779\n"
     ]
    }
   ],
   "source": [
    "# 2) Eliminar duplicados\n",
    "df = df.drop_duplicates(subset=[\"url\"])\n",
    "df = df.drop_duplicates(subset=[\"url\", \"fecha_hora_recoleccion\"])\n",
    "print(\"Tras eliminar dupliados:\", len(df))"
   ]
  },
  {
   "cell_type": "code",
   "execution_count": 14,
   "id": "5fd32c65-b93e-4262-8b4b-6b420eb2d56a",
   "metadata": {},
   "outputs": [
    {
     "data": {
      "text/html": [
       "<div>\n",
       "<style scoped>\n",
       "    .dataframe tbody tr th:only-of-type {\n",
       "        vertical-align: middle;\n",
       "    }\n",
       "\n",
       "    .dataframe tbody tr th {\n",
       "        vertical-align: top;\n",
       "    }\n",
       "\n",
       "    .dataframe thead th {\n",
       "        text-align: right;\n",
       "    }\n",
       "</style>\n",
       "<table border=\"1\" class=\"dataframe\">\n",
       "  <thead>\n",
       "    <tr style=\"text-align: right;\">\n",
       "      <th></th>\n",
       "      <th>url</th>\n",
       "      <th>fuente</th>\n",
       "      <th>fecha_hora_recoleccion</th>\n",
       "      <th>__source_file</th>\n",
       "    </tr>\n",
       "  </thead>\n",
       "  <tbody>\n",
       "    <tr>\n",
       "      <th>0</th>\n",
       "      <td>https://monday.kimberlywoodrich.workers.dev</td>\n",
       "      <td>OpenPhish</td>\n",
       "      <td>2025-08-18 17:16:36</td>\n",
       "      <td>2025-08-18.csv</td>\n",
       "    </tr>\n",
       "    <tr>\n",
       "      <th>1</th>\n",
       "      <td>https://mybdoonline.device-personal.workers.de...</td>\n",
       "      <td>OpenPhish</td>\n",
       "      <td>2025-08-18 17:16:36</td>\n",
       "      <td>2025-08-18.csv</td>\n",
       "    </tr>\n",
       "    <tr>\n",
       "      <th>2</th>\n",
       "      <td>https://bruker.directsmailsolution.com/qrc-ac/...</td>\n",
       "      <td>OpenPhish</td>\n",
       "      <td>2025-08-18 17:16:36</td>\n",
       "      <td>2025-08-18.csv</td>\n",
       "    </tr>\n",
       "    <tr>\n",
       "      <th>3</th>\n",
       "      <td>https://avisou.click/x</td>\n",
       "      <td>OpenPhish</td>\n",
       "      <td>2025-08-18 17:16:36</td>\n",
       "      <td>2025-08-18.csv</td>\n",
       "    </tr>\n",
       "    <tr>\n",
       "      <th>4</th>\n",
       "      <td>https://bdo-app.sbdoonline.workers.dev/bdo-for...</td>\n",
       "      <td>OpenPhish</td>\n",
       "      <td>2025-08-18 17:16:36</td>\n",
       "      <td>2025-08-18.csv</td>\n",
       "    </tr>\n",
       "  </tbody>\n",
       "</table>\n",
       "</div>"
      ],
      "text/plain": [
       "                                                 url     fuente  \\\n",
       "0        https://monday.kimberlywoodrich.workers.dev  OpenPhish   \n",
       "1  https://mybdoonline.device-personal.workers.de...  OpenPhish   \n",
       "2  https://bruker.directsmailsolution.com/qrc-ac/...  OpenPhish   \n",
       "3                             https://avisou.click/x  OpenPhish   \n",
       "4  https://bdo-app.sbdoonline.workers.dev/bdo-for...  OpenPhish   \n",
       "\n",
       "  fecha_hora_recoleccion   __source_file  \n",
       "0    2025-08-18 17:16:36  2025-08-18.csv  \n",
       "1    2025-08-18 17:16:36  2025-08-18.csv  \n",
       "2    2025-08-18 17:16:36  2025-08-18.csv  \n",
       "3    2025-08-18 17:16:36  2025-08-18.csv  \n",
       "4    2025-08-18 17:16:36  2025-08-18.csv  "
      ]
     },
     "execution_count": 14,
     "metadata": {},
     "output_type": "execute_result"
    }
   ],
   "source": [
    "# 3) Normalizar URLs\n",
    "def normalize_url(u):\n",
    "    if not isinstance(u, str):\n",
    "        return None\n",
    "    u = u.strip().lower()\n",
    "    if u.startswith(\"http://\"):\n",
    "        u = \"https://\" + u[len(\"http://\"):]\n",
    "    if u.endswith(\"/\"):\n",
    "        u = u[:-1]\n",
    "    return u\n",
    "df[\"url\"] = df[\"url\"].map(normalize_url)\n",
    "df.head()\n"
   ]
  },
  {
   "cell_type": "code",
   "execution_count": 16,
   "id": "eacfd319-3b1f-4f02-91c7-23f81ca3096c",
   "metadata": {},
   "outputs": [
    {
     "name": "stdout",
     "output_type": "stream",
     "text": [
      "Tras filtrar inválidas: 3703\n"
     ]
    }
   ],
   "source": [
    "# 4) Filtrar inválidas\n",
    "def es_url_valida(x):\n",
    "    try:\n",
    "        return bool(validators.url(x))\n",
    "    except Exception:\n",
    "        return False\n",
    "\n",
    "df = df[df[\"url\"].map(lambda x: es_url_valida(x) if pd.notna(x) else False)]\n",
    "print(\"Tras filtrar inválidas:\", len(df))\n"
   ]
  },
  {
   "cell_type": "code",
   "execution_count": 18,
   "id": "be5b6aee-7908-49a4-9af6-9b6f5f7b7520",
   "metadata": {},
   "outputs": [
    {
     "name": "stdout",
     "output_type": "stream",
     "text": [
      "Columnas: ['url', 'fuente', 'fecha_hora_recoleccion', '__source_file', 'dominio']\n"
     ]
    },
    {
     "data": {
      "text/html": [
       "<div>\n",
       "<style scoped>\n",
       "    .dataframe tbody tr th:only-of-type {\n",
       "        vertical-align: middle;\n",
       "    }\n",
       "\n",
       "    .dataframe tbody tr th {\n",
       "        vertical-align: top;\n",
       "    }\n",
       "\n",
       "    .dataframe thead th {\n",
       "        text-align: right;\n",
       "    }\n",
       "</style>\n",
       "<table border=\"1\" class=\"dataframe\">\n",
       "  <thead>\n",
       "    <tr style=\"text-align: right;\">\n",
       "      <th></th>\n",
       "      <th>url</th>\n",
       "      <th>fuente</th>\n",
       "      <th>fecha_hora_recoleccion</th>\n",
       "      <th>__source_file</th>\n",
       "      <th>dominio</th>\n",
       "    </tr>\n",
       "  </thead>\n",
       "  <tbody>\n",
       "    <tr>\n",
       "      <th>0</th>\n",
       "      <td>https://monday.kimberlywoodrich.workers.dev</td>\n",
       "      <td>OpenPhish</td>\n",
       "      <td>2025-08-18 17:16:36</td>\n",
       "      <td>2025-08-18.csv</td>\n",
       "      <td>monday.kimberlywoodrich.workers.dev</td>\n",
       "    </tr>\n",
       "    <tr>\n",
       "      <th>1</th>\n",
       "      <td>https://mybdoonline.device-personal.workers.de...</td>\n",
       "      <td>OpenPhish</td>\n",
       "      <td>2025-08-18 17:16:36</td>\n",
       "      <td>2025-08-18.csv</td>\n",
       "      <td>mybdoonline.device-personal.workers.dev</td>\n",
       "    </tr>\n",
       "    <tr>\n",
       "      <th>2</th>\n",
       "      <td>https://bruker.directsmailsolution.com/qrc-ac/...</td>\n",
       "      <td>OpenPhish</td>\n",
       "      <td>2025-08-18 17:16:36</td>\n",
       "      <td>2025-08-18.csv</td>\n",
       "      <td>bruker.directsmailsolution.com</td>\n",
       "    </tr>\n",
       "    <tr>\n",
       "      <th>3</th>\n",
       "      <td>https://avisou.click/x</td>\n",
       "      <td>OpenPhish</td>\n",
       "      <td>2025-08-18 17:16:36</td>\n",
       "      <td>2025-08-18.csv</td>\n",
       "      <td>avisou.click</td>\n",
       "    </tr>\n",
       "    <tr>\n",
       "      <th>4</th>\n",
       "      <td>https://bdo-app.sbdoonline.workers.dev/bdo-for...</td>\n",
       "      <td>OpenPhish</td>\n",
       "      <td>2025-08-18 17:16:36</td>\n",
       "      <td>2025-08-18.csv</td>\n",
       "      <td>bdo-app.sbdoonline.workers.dev</td>\n",
       "    </tr>\n",
       "  </tbody>\n",
       "</table>\n",
       "</div>"
      ],
      "text/plain": [
       "                                                 url     fuente  \\\n",
       "0        https://monday.kimberlywoodrich.workers.dev  OpenPhish   \n",
       "1  https://mybdoonline.device-personal.workers.de...  OpenPhish   \n",
       "2  https://bruker.directsmailsolution.com/qrc-ac/...  OpenPhish   \n",
       "3                             https://avisou.click/x  OpenPhish   \n",
       "4  https://bdo-app.sbdoonline.workers.dev/bdo-for...  OpenPhish   \n",
       "\n",
       "  fecha_hora_recoleccion   __source_file  \\\n",
       "0    2025-08-18 17:16:36  2025-08-18.csv   \n",
       "1    2025-08-18 17:16:36  2025-08-18.csv   \n",
       "2    2025-08-18 17:16:36  2025-08-18.csv   \n",
       "3    2025-08-18 17:16:36  2025-08-18.csv   \n",
       "4    2025-08-18 17:16:36  2025-08-18.csv   \n",
       "\n",
       "                                   dominio  \n",
       "0      monday.kimberlywoodrich.workers.dev  \n",
       "1  mybdoonline.device-personal.workers.dev  \n",
       "2           bruker.directsmailsolution.com  \n",
       "3                             avisou.click  \n",
       "4           bdo-app.sbdoonline.workers.dev  "
      ]
     },
     "execution_count": 18,
     "metadata": {},
     "output_type": "execute_result"
    }
   ],
   "source": [
    "# 5) Extraer dominio de cada URL\n",
    "df = df.copy()  # asegura que trabajamos con copia, no vista\n",
    "df[\"dominio\"] = df[\"url\"].map(lambda x: urlparse(x).netloc)\n",
    "print(\"Columnas:\", df.columns.tolist())\n",
    "df.head(5)\n"
   ]
  },
  {
   "cell_type": "code",
   "execution_count": 19,
   "id": "f31b1cc6-9824-45d9-b3ff-f39eea457b5a",
   "metadata": {},
   "outputs": [
    {
     "name": "stdout",
     "output_type": "stream",
     "text": [
      "Dominios únicos: 3210\n"
     ]
    },
    {
     "data": {
      "text/plain": [
       "dominio\n",
       "keensalmon.org                             38\n",
       "ipfs.io                                    31\n",
       "financialalertsystem.com                   23\n",
       "tts7324.webmo.fr                           21\n",
       "bet63sss.com                               19\n",
       "bdoonline.personal-device.workers.dev      17\n",
       "www.kkinstagram.com                        16\n",
       "mybdoonline.device-personal.workers.dev    16\n",
       "bet73091.com                                9\n",
       "steamcommunllity.com                        9\n",
       "Name: count, dtype: int64"
      ]
     },
     "execution_count": 19,
     "metadata": {},
     "output_type": "execute_result"
    }
   ],
   "source": [
    "# 6) Contar dominios distintos\n",
    "n_dominios = df[\"dominio\"].nunique()\n",
    "print(\"Dominios únicos:\", n_dominios)\n",
    "\n",
    "# Mostrar los 10 más frecuentes\n",
    "df[\"dominio\"].value_counts().head(10)\n"
   ]
  },
  {
   "cell_type": "code",
   "execution_count": 20,
   "id": "3434302f-dae9-4bf1-8f08-d5bc95a54339",
   "metadata": {},
   "outputs": [
    {
     "name": "stdout",
     "output_type": "stream",
     "text": [
      "Eliminados 0 duplicados de URL. Total ahora: 3703\n",
      "Dominios únicos: 3210\n"
     ]
    }
   ],
   "source": [
    "# 7) Eliminar duplicados exactos de URL\n",
    "antes = len(df)\n",
    "df = df.drop_duplicates(subset=[\"url\"])\n",
    "print(f\"Eliminados {antes - len(df)} duplicados de URL. Total ahora: {len(df)}\")\n",
    "\n",
    "# También podemos ver cuántos dominios únicos quedan\n",
    "print(\"Dominios únicos:\", df[\"dominio\"].nunique())\n"
   ]
  },
  {
   "cell_type": "code",
   "execution_count": 21,
   "id": "727489bb-7045-4735-8136-43658a8dc3d8",
   "metadata": {},
   "outputs": [
    {
     "name": "stdout",
     "output_type": "stream",
     "text": [
      "Top 10 dominios más frecuentes:\n",
      "dominio\n",
      "keensalmon.org                             38\n",
      "ipfs.io                                    31\n",
      "financialalertsystem.com                   23\n",
      "tts7324.webmo.fr                           21\n",
      "bet63sss.com                               19\n",
      "bdoonline.personal-device.workers.dev      17\n",
      "www.kkinstagram.com                        16\n",
      "mybdoonline.device-personal.workers.dev    16\n",
      "bet73091.com                                9\n",
      "steamcommunllity.com                        9\n",
      "Name: count, dtype: int64\n"
     ]
    }
   ],
   "source": [
    "# 8) Contar frecuencia de dominios\n",
    "dominios_freq = df[\"dominio\"].value_counts()\n",
    "\n",
    "print(\"Top 10 dominios más frecuentes:\")\n",
    "print(dominios_freq.head(10))\n",
    "\n",
    "# Guardar para referencia completa\n",
    "dominios_freq.to_csv(\"data/processed/openphish_dominios_frecuencia.csv\")\n"
   ]
  },
  {
   "cell_type": "code",
   "execution_count": 22,
   "id": "3d9f055a-6891-4ec9-a841-fc6c40098c1e",
   "metadata": {},
   "outputs": [
    {
     "name": "stdout",
     "output_type": "stream",
     "text": [
      "Ejemplos tras normalización:\n",
      "                                        dominio  \\\n",
      "0           monday.kimberlywoodrich.workers.dev   \n",
      "1       mybdoonline.device-personal.workers.dev   \n",
      "2                bruker.directsmailsolution.com   \n",
      "3                                  avisou.click   \n",
      "4                bdo-app.sbdoonline.workers.dev   \n",
      "5         bdoonline.personal-device.workers.dev   \n",
      "6   bccalumni.buenavistacommunitycollege.edu.ph   \n",
      "7         bdoonline.personal-device.workers.dev   \n",
      "8         bdoonline.personal-device.workers.dev   \n",
      "9         bdoonline.personal-device.workers.dev   \n",
      "10                                      ipfs.io   \n",
      "11  onlinebdopersonal.mobile-device.workers.dev   \n",
      "12              site-345fe5t4l.godaddysites.com   \n",
      "13  onlinebdopersonal.mobile-device.workers.dev   \n",
      "14  onlinebdopersonal.mobile-device.workers.dev   \n",
      "\n",
      "                                   dominio_norm  \n",
      "0                                   workers.dev  \n",
      "1                                   workers.dev  \n",
      "2                bruker.directsmailsolution.com  \n",
      "3                                  avisou.click  \n",
      "4                                   workers.dev  \n",
      "5                                   workers.dev  \n",
      "6   bccalumni.buenavistacommunitycollege.edu.ph  \n",
      "7                                   workers.dev  \n",
      "8                                   workers.dev  \n",
      "9                                   workers.dev  \n",
      "10                                      ipfs.io  \n",
      "11                                  workers.dev  \n",
      "12                             godaddysites.com  \n",
      "13                                  workers.dev  \n",
      "14                                  workers.dev  \n",
      "\n",
      "Top 10 dominios normalizados:\n",
      "dominio_norm\n",
      "godaddysites.com            120\n",
      "workers.dev                 108\n",
      "keensalmon.org               38\n",
      "ipfs.io                      32\n",
      "financialalertsystem.com     23\n",
      "tts7324.webmo.fr             21\n",
      "bet63sss.com                 19\n",
      "www.kkinstagram.com          16\n",
      "bet73091.com                  9\n",
      "steamcommunllity.com          9\n",
      "Name: count, dtype: int64\n"
     ]
    }
   ],
   "source": [
    "# 9) Normalizar dominios de plataformas conocidas\n",
    "plataformas = [\"workers.dev\", \"ipfs.io\", \"godaddysites.com\"]\n",
    "\n",
    "def normalizar_dominio(d):\n",
    "    for base in plataformas:\n",
    "        if d.endswith(base):\n",
    "            return base\n",
    "    return d\n",
    "\n",
    "df[\"dominio_norm\"] = df[\"dominio\"].map(normalizar_dominio)\n",
    "\n",
    "print(\"Ejemplos tras normalización:\")\n",
    "print(df[[\"dominio\", \"dominio_norm\"]].head(15))\n",
    "\n",
    "print(\"\\nTop 10 dominios normalizados:\")\n",
    "print(df[\"dominio_norm\"].value_counts().head(10))\n"
   ]
  },
  {
   "cell_type": "code",
   "execution_count": 23,
   "id": "224afedd-db0a-4bca-bd5d-b8556ddc1b57",
   "metadata": {},
   "outputs": [],
   "source": [
    "entidades_es = {\n",
    "    \"bancos\": [\n",
    "        \"bbva\", \"santander\", \"caixabank\", \"bankia\", \"cajamar\", \n",
    "        \"bankinter\", \"unicaja\", \"kutxabank\", \"sabadell\", \"ibercaja\",\n",
    "        \"evo\", \"openbank\", \"abanca\"\n",
    "    ],\n",
    "    \"telcos\": [\n",
    "        \"movistar\", \"telefonica\", \"vodafone\", \"orange\", \"yoigo\", \n",
    "        \"masmovil\", \"jazztel\", \"simyo\", \"lowi\", \"pepephone\"\n",
    "    ],\n",
    "    \"servicios\": [\n",
    "        \"correos\", \"renfe\", \"iberia\", \"endesa\", \"naturgy\", \"repsol\",\n",
    "        \"mapfre\", \"seguro\", \"dgt\", \"aeat\", \"seg-social\"\n",
    "    ],\n",
    "    \"ecommerce\": [\n",
    "        \"corteingles\", \"zara\", \"mercadona\", \"ikea\", \"carrefour\", \n",
    "        \"aliexpress\", \"amazon.es\", \"pccomponentes\", \"mediamarkt\"\n",
    "    ]\n",
    "}\n"
   ]
  },
  {
   "cell_type": "code",
   "execution_count": 24,
   "id": "74e58f9c-948a-49d6-83bc-ed57e5dad73d",
   "metadata": {
    "scrolled": true
   },
   "outputs": [
    {
     "name": "stdout",
     "output_type": "stream",
     "text": [
      "URLs con score_es >= 1: 8\n"
     ]
    },
    {
     "data": {
      "text/html": [
       "<div>\n",
       "<style scoped>\n",
       "    .dataframe tbody tr th:only-of-type {\n",
       "        vertical-align: middle;\n",
       "    }\n",
       "\n",
       "    .dataframe tbody tr th {\n",
       "        vertical-align: top;\n",
       "    }\n",
       "\n",
       "    .dataframe thead th {\n",
       "        text-align: right;\n",
       "    }\n",
       "</style>\n",
       "<table border=\"1\" class=\"dataframe\">\n",
       "  <thead>\n",
       "    <tr style=\"text-align: right;\">\n",
       "      <th></th>\n",
       "      <th>url</th>\n",
       "      <th>fuente</th>\n",
       "      <th>fecha_hora_recoleccion</th>\n",
       "      <th>__source_file</th>\n",
       "      <th>dominio</th>\n",
       "      <th>dominio_norm</th>\n",
       "      <th>score_es</th>\n",
       "    </tr>\n",
       "  </thead>\n",
       "  <tbody>\n",
       "    <tr>\n",
       "      <th>1431</th>\n",
       "      <td>https://www.santander.learn-on-demand.co.uk</td>\n",
       "      <td>OpenPhish</td>\n",
       "      <td>20250728_145936</td>\n",
       "      <td>openphish_20250728_145936.csv</td>\n",
       "      <td>www.santander.learn-on-demand.co.uk</td>\n",
       "      <td>www.santander.learn-on-demand.co.uk</td>\n",
       "      <td>1</td>\n",
       "    </tr>\n",
       "    <tr>\n",
       "      <th>2119</th>\n",
       "      <td>https://www.bbva.stockbrokers.com.mx</td>\n",
       "      <td>OpenPhish</td>\n",
       "      <td>2025-07-31 23:00:05</td>\n",
       "      <td>openphish_online_20250731_230005.csv</td>\n",
       "      <td>www.bbva.stockbrokers.com.mx</td>\n",
       "      <td>www.bbva.stockbrokers.com.mx</td>\n",
       "      <td>1</td>\n",
       "    </tr>\n",
       "    <tr>\n",
       "      <th>2137</th>\n",
       "      <td>https://bbva.stockbrokers.com.mx</td>\n",
       "      <td>OpenPhish</td>\n",
       "      <td>2025-07-31 23:00:05</td>\n",
       "      <td>openphish_online_20250731_230005.csv</td>\n",
       "      <td>bbva.stockbrokers.com.mx</td>\n",
       "      <td>bbva.stockbrokers.com.mx</td>\n",
       "      <td>1</td>\n",
       "    </tr>\n",
       "    <tr>\n",
       "      <th>2726</th>\n",
       "      <td>https://www.headabovetherim.com/orange/orange0...</td>\n",
       "      <td>OpenPhish</td>\n",
       "      <td>2025-08-11 23:00:07</td>\n",
       "      <td>openphish_online_20250811_230007.csv</td>\n",
       "      <td>www.headabovetherim.com</td>\n",
       "      <td>www.headabovetherim.com</td>\n",
       "      <td>1</td>\n",
       "    </tr>\n",
       "    <tr>\n",
       "      <th>2729</th>\n",
       "      <td>https://orangefr9.wixsite.com/orange</td>\n",
       "      <td>OpenPhish</td>\n",
       "      <td>2025-08-11 23:00:07</td>\n",
       "      <td>openphish_online_20250811_230007.csv</td>\n",
       "      <td>orangefr9.wixsite.com</td>\n",
       "      <td>orangefr9.wixsite.com</td>\n",
       "      <td>1</td>\n",
       "    </tr>\n",
       "    <tr>\n",
       "      <th>2814</th>\n",
       "      <td>https://santander.learn-on-demand.co.uk/favico...</td>\n",
       "      <td>OpenPhish</td>\n",
       "      <td>2025-08-11 23:00:07</td>\n",
       "      <td>openphish_online_20250811_230007.csv</td>\n",
       "      <td>santander.learn-on-demand.co.uk</td>\n",
       "      <td>santander.learn-on-demand.co.uk</td>\n",
       "      <td>1</td>\n",
       "    </tr>\n",
       "    <tr>\n",
       "      <th>2818</th>\n",
       "      <td>https://zarejestrujnumer.blue.pl/orange</td>\n",
       "      <td>OpenPhish</td>\n",
       "      <td>2025-08-11 23:00:07</td>\n",
       "      <td>openphish_online_20250811_230007.csv</td>\n",
       "      <td>zarejestrujnumer.blue.pl</td>\n",
       "      <td>zarejestrujnumer.blue.pl</td>\n",
       "      <td>1</td>\n",
       "    </tr>\n",
       "    <tr>\n",
       "      <th>3598</th>\n",
       "      <td>https://vodafone-lauf.de</td>\n",
       "      <td>OpenPhish</td>\n",
       "      <td>2025-08-16 23:00:04</td>\n",
       "      <td>openphish_online_20250816_230004.csv</td>\n",
       "      <td>vodafone-lauf.de</td>\n",
       "      <td>vodafone-lauf.de</td>\n",
       "      <td>1</td>\n",
       "    </tr>\n",
       "  </tbody>\n",
       "</table>\n",
       "</div>"
      ],
      "text/plain": [
       "                                                    url     fuente  \\\n",
       "1431        https://www.santander.learn-on-demand.co.uk  OpenPhish   \n",
       "2119               https://www.bbva.stockbrokers.com.mx  OpenPhish   \n",
       "2137                   https://bbva.stockbrokers.com.mx  OpenPhish   \n",
       "2726  https://www.headabovetherim.com/orange/orange0...  OpenPhish   \n",
       "2729               https://orangefr9.wixsite.com/orange  OpenPhish   \n",
       "2814  https://santander.learn-on-demand.co.uk/favico...  OpenPhish   \n",
       "2818            https://zarejestrujnumer.blue.pl/orange  OpenPhish   \n",
       "3598                           https://vodafone-lauf.de  OpenPhish   \n",
       "\n",
       "     fecha_hora_recoleccion                         __source_file  \\\n",
       "1431        20250728_145936         openphish_20250728_145936.csv   \n",
       "2119    2025-07-31 23:00:05  openphish_online_20250731_230005.csv   \n",
       "2137    2025-07-31 23:00:05  openphish_online_20250731_230005.csv   \n",
       "2726    2025-08-11 23:00:07  openphish_online_20250811_230007.csv   \n",
       "2729    2025-08-11 23:00:07  openphish_online_20250811_230007.csv   \n",
       "2814    2025-08-11 23:00:07  openphish_online_20250811_230007.csv   \n",
       "2818    2025-08-11 23:00:07  openphish_online_20250811_230007.csv   \n",
       "3598    2025-08-16 23:00:04  openphish_online_20250816_230004.csv   \n",
       "\n",
       "                                  dominio  \\\n",
       "1431  www.santander.learn-on-demand.co.uk   \n",
       "2119         www.bbva.stockbrokers.com.mx   \n",
       "2137             bbva.stockbrokers.com.mx   \n",
       "2726              www.headabovetherim.com   \n",
       "2729                orangefr9.wixsite.com   \n",
       "2814      santander.learn-on-demand.co.uk   \n",
       "2818             zarejestrujnumer.blue.pl   \n",
       "3598                     vodafone-lauf.de   \n",
       "\n",
       "                             dominio_norm  score_es  \n",
       "1431  www.santander.learn-on-demand.co.uk         1  \n",
       "2119         www.bbva.stockbrokers.com.mx         1  \n",
       "2137             bbva.stockbrokers.com.mx         1  \n",
       "2726              www.headabovetherim.com         1  \n",
       "2729                orangefr9.wixsite.com         1  \n",
       "2814      santander.learn-on-demand.co.uk         1  \n",
       "2818             zarejestrujnumer.blue.pl         1  \n",
       "3598                     vodafone-lauf.de         1  "
      ]
     },
     "execution_count": 24,
     "metadata": {},
     "output_type": "execute_result"
    }
   ],
   "source": [
    "# 9) Filtrar URLs con contexto español\n",
    "import re\n",
    "\n",
    "def score_es(url, entidades):\n",
    "    url_lower = url.lower()\n",
    "    score = 0\n",
    "    for categoria, lista in entidades.items():\n",
    "        for entidad in lista:\n",
    "            if re.search(rf\"\\b{entidad}\\b\", url_lower):\n",
    "                score += 1\n",
    "    return score\n",
    "\n",
    "df[\"score_es\"] = df[\"url\"].map(lambda x: score_es(x, entidades_es))\n",
    "\n",
    "print(\"URLs con score_es >= 1:\", (df[\"score_es\"] >= 1).sum())\n",
    "df[df[\"score_es\"] >= 1].head(10)\n"
   ]
  },
  {
   "cell_type": "code",
   "execution_count": 25,
   "id": "fd55e56c-3655-436a-a4a4-744f983bff6b",
   "metadata": {},
   "outputs": [
    {
     "name": "stdout",
     "output_type": "stream",
     "text": [
      "Guardadas 8 filas en data/processed/openphish_es.csv\n"
     ]
    }
   ],
   "source": [
    "# 10) Guardar solo las URLs con contexto español\n",
    "out_es = Path(\"data/processed/openphish_es.csv\")\n",
    "df_es = df[df[\"score_es\"] >= 1].copy()\n",
    "\n",
    "df_es.to_csv(out_es, index=False)\n",
    "print(f\"Guardadas {len(df_es)} filas en {out_es}\")\n"
   ]
  }
 ],
 "metadata": {
  "kernelspec": {
   "display_name": "Python 3 (ipykernel)",
   "language": "python",
   "name": "python3"
  },
  "language_info": {
   "codemirror_mode": {
    "name": "ipython",
    "version": 3
   },
   "file_extension": ".py",
   "mimetype": "text/x-python",
   "name": "python",
   "nbconvert_exporter": "python",
   "pygments_lexer": "ipython3",
   "version": "3.10.18"
  }
 },
 "nbformat": 4,
 "nbformat_minor": 5
}
