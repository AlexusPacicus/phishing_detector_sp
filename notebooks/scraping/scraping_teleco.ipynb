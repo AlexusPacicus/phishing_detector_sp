{
 "cells": [
  {
   "cell_type": "markdown",
   "id": "50fbc185-493a-42d8-9238-e672de139eb6",
   "metadata": {},
   "source": [
    "# Telecomunicaciones: Scraping de URLs legítimas\n",
    "\n",
    "**Fecha de ejecución:** 22/07/2025  \n",
    "**Empresas objetivo:**  \n",
    "Movistar, Vodafone, Orange, MásMóvil, Yoigo, Pepephone, Digi, Euskaltel\n",
    "\n",
    "---\n"
   ]
  },
  {
   "cell_type": "markdown",
   "id": "39998f25-3e02-4f75-97ca-d84f2f16b656",
   "metadata": {},
   "source": [
    "| Empresa     | URLs únicas | Fecha      | Estado / Observaciones                |\n",
    "|-------------|------------|------------|---------------------------------------|\n",
    "| Vodafone    |   106      | 22/07/2025 | OK                                    |\n",
    "| Yoigo       |    55      | 22/07/2025 | OK                                    |\n",
    "| Pepephone   |    54      | 22/07/2025 | OK                                    |\n",
    "| MásMóvil    |    49      | 22/07/2025 | OK                                    |\n",
    "| Movistar    |    48      | 22/07/2025 | OK                                    |\n",
    "| Digi        |    46      | 22/07/2025 | OK                                    |\n",
    "| Euskaltel   |    43      | 22/07/2025 | OK                                    |\n",
    "| Orange      |    29      | 22/07/2025 | OK                                    |\n"
   ]
  },
  {
   "cell_type": "code",
   "execution_count": 1,
   "id": "4d413386-80d6-494a-b5eb-cd3335a0cfc2",
   "metadata": {},
   "outputs": [],
   "source": [
    "# Importamos las librerías necesarias para el scraping y el análisis de datos\n",
    "import requests                             # Para hacer peticiones HTTP a las webs\n",
    "from bs4 import BeautifulSoup               # Para parsear el HTML de la página web\n",
    "from urllib.parse import urlparse, urljoin  # Para trabajar con URLs y dominios\n",
    "import pandas as pd                         # Para almacenar y exportar los datos en DataFrame\n",
    "import time                                 # Para pausar entre peticiones y evitar bloqueos\n"
   ]
  },
  {
   "cell_type": "code",
   "execution_count": 6,
   "id": "074bfaab-6ad2-4136-8cfd-4cb6211bc8be",
   "metadata": {},
   "outputs": [],
   "source": [
    "def obtener_urls(base_url, delay=1):\n",
    "    \"\"\"\n",
    "    Descarga la página principal de una web y extrae todas las URLs internas.\n",
    "    Solo añade URLs que pertenezcan al dominio principal o subdominios de la empresa.\n",
    "    - base_url: URL principal de la empresa\n",
    "    - delay: segundos de espera tras cada request para evitar bloqueos\n",
    "    \"\"\"\n",
    "    try:\n",
    "        # Definimos un User-Agent \"realista\" para que el servidor no bloquee la petición por bot\n",
    "        headers = {\n",
    "            \"User-Agent\": (\n",
    "                \"Mozilla/5.0 (Windows NT 10.0; Win64; x64) \"\n",
    "                \"AppleWebKit/537.36 (KHTML, like Gecko) \"\n",
    "                \"Chrome/91.0.4472.124 Safari/537.36\"\n",
    "            )\n",
    "        }\n",
    "        # Hacemos la petición HTTP a la web (con timeout de 10 segundos)\n",
    "        response = requests.get(base_url, timeout=10, headers=headers)\n",
    "\n",
    "        # Parseamos el HTML recibido con BeautifulSoup\n",
    "        soup = BeautifulSoup(response.text, 'html.parser')\n",
    "\n",
    "        # Extraemos el dominio principal (ej: 'amazon.es' de 'www.amazon.es')\n",
    "        dominio_empresa = urlparse(base_url).netloc\n",
    "        if dominio_empresa.startswith('www.'):\n",
    "            dominio_base = dominio_empresa[4:]\n",
    "        else:\n",
    "            dominio_base = dominio_empresa\n",
    "\n",
    "        # Creamos un set para guardar solo URLs únicas\n",
    "        urls = set()\n",
    "\n",
    "        # Buscamos todos los enlaces <a> que tengan atributo href\n",
    "        for link in soup.find_all('a', href=True):\n",
    "            href = link['href']                  # Obtenemos el href\n",
    "            href = urljoin(base_url, href)       # Convertimos a URL absoluta\n",
    "            dominio_href = urlparse(href).netloc # Dominio del enlace\n",
    "\n",
    "            # Eliminamos 'www.' para comparar dominios correctamente\n",
    "            if dominio_href.startswith('www.'):\n",
    "                dominio_href_base = dominio_href[4:]\n",
    "            else:\n",
    "                dominio_href_base = dominio_href\n",
    "\n",
    "            # Añadimos solo si es del dominio principal o subdominio\n",
    "            if dominio_href_base == dominio_base or dominio_href_base.endswith('.' + dominio_base):\n",
    "                urls.add(href)\n",
    "\n",
    "        # Esperamos el tiempo indicado (para no ser bloqueados por el servidor)\n",
    "        time.sleep(delay)\n",
    "\n",
    "        # Devolvemos la lista de URLs y un estado \"OK\"\n",
    "        return list(urls), \"OK\"\n",
    "\n",
    "    except Exception as e:\n",
    "        # Si hay error, lo devolvemos como estado y lista vacía de URLs\n",
    "        return [], str(e)\n"
   ]
  },
  {
   "cell_type": "code",
   "execution_count": 5,
   "id": "3343fc23-84f5-4a6b-9173-4ab1ceea1026",
   "metadata": {},
   "outputs": [],
   "source": [
    "empresas_telecom = {\n",
    "    \"Movistar\": \"https://www.movistar.es\",\n",
    "    \"Vodafone\": \"https://www.vodafone.es\",\n",
    "    \"Orange\": \"https://www.orange.es\",\n",
    "    \"MásMóvil\": \"https://www.masmovil.es\",\n",
    "    \"Yoigo\": \"https://www.yoigo.com\",\n",
    "    \"Pepephone\": \"https://www.pepephone.com\",\n",
    "    \"Digi\": \"https://www.digimobil.es\",\n",
    "    \"Euskaltel\": \"https://www.euskaltel.com\"\n",
    "}\n"
   ]
  },
  {
   "cell_type": "code",
   "execution_count": 7,
   "id": "d5a0c055-d78e-48a7-b9a2-abc4977f293e",
   "metadata": {},
   "outputs": [
    {
     "name": "stdout",
     "output_type": "stream",
     "text": [
      "Scraping empresa: Movistar\n",
      "Scraping empresa: Vodafone\n",
      "Scraping empresa: Orange\n",
      "Scraping empresa: MásMóvil\n",
      "Scraping empresa: Yoigo\n",
      "Scraping empresa: Pepephone\n",
      "Scraping empresa: Digi\n",
      "Scraping empresa: Euskaltel\n",
      "    empresa                                               url       fecha  \\\n",
      "0  Movistar  https://www.movistar.es/tarifas-moviles/roaming/  22/07/2025   \n",
      "1  Movistar       https://www.movistar.es/compramos-tu-movil/  22/07/2025   \n",
      "2  Movistar                     https://comunidad.movistar.es  22/07/2025   \n",
      "3  Movistar      https://www.movistar.es/tv/agenda-deportiva/  22/07/2025   \n",
      "4  Movistar                https://www.movistar.es/tv/futbol/  22/07/2025   \n",
      "\n",
      "  estado  \n",
      "0     OK  \n",
      "1     OK  \n",
      "2     OK  \n",
      "3     OK  \n",
      "4     OK  \n"
     ]
    }
   ],
   "source": [
    "# Lista donde almacenaremos los resultados de todas las empresas\n",
    "resultados = []\n",
    "\n",
    "# Guardamos la fecha actual \n",
    "fecha = pd.Timestamp.today().strftime(\"%d/%m/%Y\")\n",
    "\n",
    "# Iteramos sobre cada empresa y su URL\n",
    "for nombre, url_base in empresas_telecom.items():\n",
    "    print(f'Scraping empresa: {nombre}')                # Log para saber el progreso\n",
    "    urls, estado = obtener_urls(url_base)               # Llamamos a la función de scraping\n",
    "    if urls:\n",
    "        # Si hay URLs, añadimos cada una como fila en los resultados\n",
    "        for url in urls:\n",
    "            resultados.append({\n",
    "                'empresa': nombre,\n",
    "                'url': url,\n",
    "                'fecha': fecha,\n",
    "                'estado': estado\n",
    "            })\n",
    "    else:\n",
    "        # Si falla o no hay URLs, registramos igualmente el intento\n",
    "        resultados.append({\n",
    "            'empresa': nombre,\n",
    "            'url': '',\n",
    "            'fecha': fecha,\n",
    "            'estado': estado\n",
    "        })\n",
    "\n",
    "# Convertimos la lista de resultados en un DataFrame de pandas\n",
    "df_scrap = pd.DataFrame(resultados)\n",
    "\n",
    "# Guardamos el DataFrame como CSV en la carpeta correspondiente (cambia el nombre por sector)\n",
    "df_scrap.to_csv('../data/raw/teleco_legitimas_crudo.csv', index=False)\n",
    "\n",
    "# Mostramos por pantalla las primeras filas del DataFrame para revisión rápida\n",
    "print(df_scrap.head())\n"
   ]
  },
  {
   "cell_type": "code",
   "execution_count": 8,
   "id": "48ae84d6-3dfa-4f0c-a300-e5cca98b7de6",
   "metadata": {},
   "outputs": [
    {
     "name": "stdout",
     "output_type": "stream",
     "text": [
      "empresa\n",
      "Vodafone     106\n",
      "Yoigo         55\n",
      "Pepephone     54\n",
      "MásMóvil      49\n",
      "Movistar      48\n",
      "Digi          46\n",
      "Euskaltel     43\n",
      "Orange        29\n",
      "Name: count, dtype: int64\n"
     ]
    }
   ],
   "source": [
    "print(df_scrap['empresa'].value_counts())\n",
    "\n",
    "\n"
   ]
  },
  {
   "cell_type": "markdown",
   "id": "b51ccc11-7786-4f5d-a1f1-80c9d0a2df7d",
   "metadata": {},
   "source": [
    "- **Empresas scrapeadas:** 8\n",
    "- **Total URLs obtenidas:** 430\n",
    "- **Observaciones:**\n",
    "    - Todas las webs han permitido scraping básico y han devuelto una cantidad razonable de URLs.\n",
    "    - Vodafone destaca con el mayor número de enlaces únicos; Orange es la que menos expone.\n",
    "    - Ningún error ni bloqueo detectado, lo que indica poca protección anti-bot en las homes de las telecos.\n",
    "- **Siguientes pasos:**\n",
    "    - Si interesa, scrapear páginas internas de Orange para ampliar cobertura.\n",
    "    - Continuar con el siguiente sector (Energía / Utilities).\n"
   ]
  }
 ],
 "metadata": {
  "kernelspec": {
   "display_name": "Python (phishing-env)",
   "language": "python",
   "name": "phishing-env"
  },
  "language_info": {
   "codemirror_mode": {
    "name": "ipython",
    "version": 3
   },
   "file_extension": ".py",
   "mimetype": "text/x-python",
   "name": "python",
   "nbconvert_exporter": "python",
   "pygments_lexer": "ipython3",
   "version": "3.10.18"
  }
 },
 "nbformat": 4,
 "nbformat_minor": 5
}
