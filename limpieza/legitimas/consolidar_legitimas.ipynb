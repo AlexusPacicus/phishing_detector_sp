{
 "cells": [
  {
   "cell_type": "code",
   "execution_count": 15,
   "id": "18de8154-c316-4def-9340-df3fe8194710",
   "metadata": {},
   "outputs": [],
   "source": [
    "from __future__ import annotations\n",
    "import pandas as pd\n",
    "from pathlib import Path\n",
    "from datetime import datetime\n",
    "import os"
   ]
  },
  {
   "cell_type": "code",
   "execution_count": 16,
   "id": "a69611eb-b6f0-418b-9978-9ca6a3bbec6a",
   "metadata": {},
   "outputs": [
    {
     "name": "stdout",
     "output_type": "stream",
     "text": [
      "CWD = /Users/test/Desktop/phishing-detector\n",
      "Archivos faltantes: Ninguno\n"
     ]
    }
   ],
   "source": [
    "BASE = Path(\"/Users/test/Desktop/phishing-detector\")\n",
    "INPUTS = [\n",
    "    (BASE / \"data/processed/legitimas/banca/legitimas_banca_limpio.csv\", \"banca\"),\n",
    "    (BASE / \"data/processed/legitimas/cripto/legitimas_cripto_limpio.csv\", \"cripto\"),\n",
    "    (BASE / \"data/processed/legitimas/ecommerce/legitimas_ecommerce_limpio.csv\", \"ecommerce\"),\n",
    "    (BASE / \"data/processed/legitimas/energia/legitimas_energia_limpio.csv\", \"energia\"),\n",
    "]\n",
    "\n",
    "\n",
    "OUTDIR = Path(\"data/processed\")\n",
    "OUTFILE = OUTDIR / \"legitimas_consolidado_prototipo1.csv\"\n",
    "os.chdir(\"..\")  \n",
    "print(\"CWD =\", Path.cwd())\n",
    "# Verificación rápida de rutas (evita perder tiempo con typos)\n",
    "missing = [p for p, _ in INPUTS if not Path(p).exists()]\n",
    "print(\"Archivos faltantes:\", missing if missing else \"Ninguno\")"
   ]
  },
  {
   "cell_type": "code",
   "execution_count": 8,
   "id": "f83c5c05-a9bf-4d15-9fd6-ae513c263041",
   "metadata": {},
   "outputs": [],
   "source": [
    "def load_one(path: str, sector: str) -> pd.DataFrame:\n",
    "    p = Path(path)\n",
    "    if not p.exists():\n",
    "        raise FileNotFoundError(f\"No existe: {p}\")\n",
    "    df = pd.read_csv(p)\n",
    "    # Detectar columna URL (ajusta si en algún CSV se llama distinto)\n",
    "    lower = {c.lower(): c for c in df.columns}\n",
    "    if \"url\" in lower:\n",
    "        url_col = lower[\"url\"]\n",
    "    elif \"url_relevante\" in lower:\n",
    "        url_col = lower[\"url_relevante\"]\n",
    "        df = df.rename(columns={url_col: \"url\"})\n",
    "        url_col = \"url\"\n",
    "    else:\n",
    "        raise ValueError(f\"{p} sin columna URL. Columnas: {df.columns.tolist()}\")\n",
    "\n",
    "    # Normalización mínima\n",
    "    df[\"url\"] = df[url_col].astype(str).str.strip()\n",
    "    df = df[df[\"url\"].str.startswith((\"http://\", \"https://\"), na=False)]\n",
    "\n",
    "    # Añadir trazabilidad\n",
    "    df[\"sector\"] = sector\n",
    "    df[\"__source_file\"] = p.name\n",
    "\n",
    "    return df[[\"url\", \"sector\", \"__source_file\"]]\n"
   ]
  },
  {
   "cell_type": "code",
   "execution_count": 10,
   "id": "5000ea1f-dd27-4628-adfc-a6d3938b87fe",
   "metadata": {},
   "outputs": [
    {
     "name": "stdout",
     "output_type": "stream",
     "text": [
      "Filas cargadas: 1111\n",
      "Columnas: ['url', 'sector', '__source_file']\n"
     ]
    },
    {
     "data": {
      "text/html": [
       "<div>\n",
       "<style scoped>\n",
       "    .dataframe tbody tr th:only-of-type {\n",
       "        vertical-align: middle;\n",
       "    }\n",
       "\n",
       "    .dataframe tbody tr th {\n",
       "        vertical-align: top;\n",
       "    }\n",
       "\n",
       "    .dataframe thead th {\n",
       "        text-align: right;\n",
       "    }\n",
       "</style>\n",
       "<table border=\"1\" class=\"dataframe\">\n",
       "  <thead>\n",
       "    <tr style=\"text-align: right;\">\n",
       "      <th></th>\n",
       "      <th>url</th>\n",
       "      <th>sector</th>\n",
       "      <th>__source_file</th>\n",
       "    </tr>\n",
       "  </thead>\n",
       "  <tbody>\n",
       "    <tr>\n",
       "      <th>0</th>\n",
       "      <td>https://www.caixabank.es/particular/home/parti...</td>\n",
       "      <td>banca</td>\n",
       "      <td>legitimas_banca_limpio.csv</td>\n",
       "    </tr>\n",
       "    <tr>\n",
       "      <th>1</th>\n",
       "      <td>https://www.caixabank.es/particular/general/co...</td>\n",
       "      <td>banca</td>\n",
       "      <td>legitimas_banca_limpio.csv</td>\n",
       "    </tr>\n",
       "    <tr>\n",
       "      <th>2</th>\n",
       "      <td>https://uniblog.unicajabanco.es</td>\n",
       "      <td>banca</td>\n",
       "      <td>legitimas_banca_limpio.csv</td>\n",
       "    </tr>\n",
       "    <tr>\n",
       "      <th>3</th>\n",
       "      <td>https://www.unicajabanco.es/es/particulares/cu...</td>\n",
       "      <td>banca</td>\n",
       "      <td>legitimas_banca_limpio.csv</td>\n",
       "    </tr>\n",
       "    <tr>\n",
       "      <th>4</th>\n",
       "      <td>https://www.unicajabanco.es/es/particulares/cu...</td>\n",
       "      <td>banca</td>\n",
       "      <td>legitimas_banca_limpio.csv</td>\n",
       "    </tr>\n",
       "  </tbody>\n",
       "</table>\n",
       "</div>"
      ],
      "text/plain": [
       "                                                 url sector  \\\n",
       "0  https://www.caixabank.es/particular/home/parti...  banca   \n",
       "1  https://www.caixabank.es/particular/general/co...  banca   \n",
       "2                    https://uniblog.unicajabanco.es  banca   \n",
       "3  https://www.unicajabanco.es/es/particulares/cu...  banca   \n",
       "4  https://www.unicajabanco.es/es/particulares/cu...  banca   \n",
       "\n",
       "                __source_file  \n",
       "0  legitimas_banca_limpio.csv  \n",
       "1  legitimas_banca_limpio.csv  \n",
       "2  legitimas_banca_limpio.csv  \n",
       "3  legitimas_banca_limpio.csv  \n",
       "4  legitimas_banca_limpio.csv  "
      ]
     },
     "execution_count": 10,
     "metadata": {},
     "output_type": "execute_result"
    }
   ],
   "source": [
    "# CELDA 3: prueba con el CSV de banca\n",
    "\n",
    "test_path = (BASE / \"data/processed/legitimas/banca/legitimas_banca_limpio.csv\") \n",
    "df_banca = load_one(test_path, sector=\"banca\")\n",
    "\n",
    "print(\"Filas cargadas:\", len(df_banca))\n",
    "print(\"Columnas:\", df_banca.columns.tolist())\n",
    "df_banca.head(5)\n"
   ]
  },
  {
   "cell_type": "code",
   "execution_count": 11,
   "id": "a352f9c0-a1fa-4a42-8cb8-26865f581ba2",
   "metadata": {},
   "outputs": [
    {
     "name": "stdout",
     "output_type": "stream",
     "text": [
      "Archivos faltantes: Ninguno\n"
     ]
    }
   ],
   "source": [
    "# CELDA 4: definir INPUTS y verificar que existen todas las rutas\n",
    "\n",
    "INPUTS = [\n",
    "    (BASE / \"data/processed/legitimas/banca/legitimas_banca_limpio.csv\", \"banca\"),\n",
    "    (BASE / \"data/processed/legitimas/cripto/legitimas_cripto_limpio.csv\", \"cripto\"),\n",
    "    (BASE / \"data/processed/legitimas/ecommerce/legitimas_ecommerce_limpio.csv\", \"ecommerce\"),\n",
    "    (BASE / \"data/processed/legitimas/energia/legitimas_energia_limpio.csv\", \"energia\"),\n",
    "]\n",
    "faltan = [p for p, _ in INPUTS if not Path(p).exists()]\n",
    "print(\"Archivos faltantes:\", faltan if faltan else \"Ninguno\")"
   ]
  },
  {
   "cell_type": "code",
   "execution_count": 12,
   "id": "2f012b4a-4333-41cf-9825-27a8be2aaf8f",
   "metadata": {},
   "outputs": [
    {
     "name": "stdout",
     "output_type": "stream",
     "text": [
      "[OK] banca: 1111 filas\n",
      "[OK] cripto: 205 filas\n",
      "[OK] ecommerce: 929 filas\n",
      "[OK] energia: 817 filas\n",
      "\n",
      "Filas totales tras consolidar: 3062\n",
      "Duplicados eliminados: 0\n"
     ]
    },
    {
     "data": {
      "text/html": [
       "<div>\n",
       "<style scoped>\n",
       "    .dataframe tbody tr th:only-of-type {\n",
       "        vertical-align: middle;\n",
       "    }\n",
       "\n",
       "    .dataframe tbody tr th {\n",
       "        vertical-align: top;\n",
       "    }\n",
       "\n",
       "    .dataframe thead th {\n",
       "        text-align: right;\n",
       "    }\n",
       "</style>\n",
       "<table border=\"1\" class=\"dataframe\">\n",
       "  <thead>\n",
       "    <tr style=\"text-align: right;\">\n",
       "      <th></th>\n",
       "      <th>url</th>\n",
       "      <th>sector</th>\n",
       "      <th>__source_file</th>\n",
       "    </tr>\n",
       "  </thead>\n",
       "  <tbody>\n",
       "    <tr>\n",
       "      <th>0</th>\n",
       "      <td>https://www.caixabank.es/particular/home/parti...</td>\n",
       "      <td>banca</td>\n",
       "      <td>legitimas_banca_limpio.csv</td>\n",
       "    </tr>\n",
       "    <tr>\n",
       "      <th>1</th>\n",
       "      <td>https://www.caixabank.es/particular/general/co...</td>\n",
       "      <td>banca</td>\n",
       "      <td>legitimas_banca_limpio.csv</td>\n",
       "    </tr>\n",
       "    <tr>\n",
       "      <th>2</th>\n",
       "      <td>https://uniblog.unicajabanco.es</td>\n",
       "      <td>banca</td>\n",
       "      <td>legitimas_banca_limpio.csv</td>\n",
       "    </tr>\n",
       "    <tr>\n",
       "      <th>3</th>\n",
       "      <td>https://www.unicajabanco.es/es/particulares/cu...</td>\n",
       "      <td>banca</td>\n",
       "      <td>legitimas_banca_limpio.csv</td>\n",
       "    </tr>\n",
       "    <tr>\n",
       "      <th>4</th>\n",
       "      <td>https://www.unicajabanco.es/es/particulares/cu...</td>\n",
       "      <td>banca</td>\n",
       "      <td>legitimas_banca_limpio.csv</td>\n",
       "    </tr>\n",
       "  </tbody>\n",
       "</table>\n",
       "</div>"
      ],
      "text/plain": [
       "                                                 url sector  \\\n",
       "0  https://www.caixabank.es/particular/home/parti...  banca   \n",
       "1  https://www.caixabank.es/particular/general/co...  banca   \n",
       "2                    https://uniblog.unicajabanco.es  banca   \n",
       "3  https://www.unicajabanco.es/es/particulares/cu...  banca   \n",
       "4  https://www.unicajabanco.es/es/particulares/cu...  banca   \n",
       "\n",
       "                __source_file  \n",
       "0  legitimas_banca_limpio.csv  \n",
       "1  legitimas_banca_limpio.csv  \n",
       "2  legitimas_banca_limpio.csv  \n",
       "3  legitimas_banca_limpio.csv  \n",
       "4  legitimas_banca_limpio.csv  "
      ]
     },
     "execution_count": 12,
     "metadata": {},
     "output_type": "execute_result"
    }
   ],
   "source": [
    "# CELDA 5: consolidar datasets de todos los sectores\n",
    "\n",
    "frames = []\n",
    "for path, sector in INPUTS:\n",
    "    df = load_one(path, sector)\n",
    "    print(f\"[OK] {sector}: {len(df)} filas\")\n",
    "    frames.append(df)\n",
    "\n",
    "legit = pd.concat(frames, ignore_index=True)\n",
    "\n",
    "# De-duplicado por (url, sector)\n",
    "before = len(legit)\n",
    "legit = legit.drop_duplicates(subset=[\"url\", \"sector\"]).reset_index(drop=True)\n",
    "removed = before - len(legit)\n",
    "\n",
    "print(f\"\\nFilas totales tras consolidar: {len(legit)}\")\n",
    "print(f\"Duplicados eliminados: {removed}\")\n",
    "legit.head()\n"
   ]
  },
  {
   "cell_type": "code",
   "execution_count": 13,
   "id": "9174c587-8637-4e05-b641-97c16567f6f5",
   "metadata": {},
   "outputs": [
    {
     "name": "stdout",
     "output_type": "stream",
     "text": [
      "✅ Guardado: data/processed/legitimas_consolidado.csv\n",
      "Filas: 3062 | Columnas: ['url', 'sector', '__source_file', 'ts_ingesta']\n"
     ]
    }
   ],
   "source": [
    "OUTDIR = Path(\"data/processed\"); OUTDIR.mkdir(parents=True, exist_ok=True)\n",
    "OUTFILE = OUTDIR / \"legitimas_consolidado.csv\"\n",
    "\n",
    "# añade timestamp de ingesta\n",
    "legit[\"ts_ingesta\"] = datetime.utcnow().isoformat(timespec=\"seconds\") + \"Z\"\n",
    "\n",
    "# checks mínimos (DoD)\n",
    "assert {\"url\",\"sector\",\"__source_file\",\"ts_ingesta\"}.issubset(set(legit.columns)), \"Faltan columnas mínimas\"\n",
    "assert legit[\"url\"].str.startswith((\"http://\",\"https://\")).all(), \"Hay URLs sin http(s)://\"\n",
    "\n",
    "# guardar\n",
    "legit.to_csv(OUTFILE, index=False)\n",
    "\n",
    "print(f\"✅ Guardado: {OUTFILE}\")\n",
    "print(f\"Filas: {len(legit)} | Columnas: {legit.columns.tolist()}\")\n"
   ]
  },
  {
   "cell_type": "code",
   "execution_count": null,
   "id": "d3e33bd7-b7db-40d7-a625-ab06e420bfa3",
   "metadata": {},
   "outputs": [],
   "source": []
  }
 ],
 "metadata": {
  "kernelspec": {
   "display_name": "Python (phishing-env)",
   "language": "python",
   "name": "phishing-env"
  },
  "language_info": {
   "codemirror_mode": {
    "name": "ipython",
    "version": 3
   },
   "file_extension": ".py",
   "mimetype": "text/x-python",
   "name": "python",
   "nbconvert_exporter": "python",
   "pygments_lexer": "ipython3",
   "version": "3.10.18"
  }
 },
 "nbformat": 4,
 "nbformat_minor": 5
}
