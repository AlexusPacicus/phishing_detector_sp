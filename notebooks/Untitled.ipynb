{
 "cells": [
  {
   "cell_type": "code",
   "execution_count": 2,
   "id": "ba13fc13-d204-4632-9e11-50fbf104239f",
   "metadata": {},
   "outputs": [
    {
     "name": "stdout",
     "output_type": "stream",
     "text": [
      "Collecting gitpython\n",
      "  Downloading gitpython-3.1.45-py3-none-any.whl.metadata (13 kB)\n",
      "Collecting gitdb<5,>=4.0.1 (from gitpython)\n",
      "  Downloading gitdb-4.0.12-py3-none-any.whl.metadata (1.2 kB)\n",
      "Collecting smmap<6,>=3.0.1 (from gitdb<5,>=4.0.1->gitpython)\n",
      "  Downloading smmap-5.0.2-py3-none-any.whl.metadata (4.3 kB)\n",
      "Downloading gitpython-3.1.45-py3-none-any.whl (208 kB)\n",
      "Downloading gitdb-4.0.12-py3-none-any.whl (62 kB)\n",
      "Downloading smmap-5.0.2-py3-none-any.whl (24 kB)\n",
      "Installing collected packages: smmap, gitdb, gitpython\n",
      "\u001b[2K   \u001b[90m━━━━━━━━━━━━━━━━━━━━━━━━━━━━━━━━━━━━━━━━\u001b[0m \u001b[32m3/3\u001b[0m [gitpython]\n",
      "\u001b[1A\u001b[2KSuccessfully installed gitdb-4.0.12 gitpython-3.1.45 smmap-5.0.2\n",
      "\n",
      "\u001b[1m[\u001b[0m\u001b[34;49mnotice\u001b[0m\u001b[1;39;49m]\u001b[0m\u001b[39;49m A new release of pip is available: \u001b[0m\u001b[31;49m25.1.1\u001b[0m\u001b[39;49m -> \u001b[0m\u001b[32;49m25.2\u001b[0m\n",
      "\u001b[1m[\u001b[0m\u001b[34;49mnotice\u001b[0m\u001b[1;39;49m]\u001b[0m\u001b[39;49m To update, run: \u001b[0m\u001b[32;49mpip install --upgrade pip\u001b[0m\n"
     ]
    }
   ],
   "source": [
    "# Instalamos la librería GitPython para gestionar repositorios Git desde Python\n",
    "!pip install gitpython\n"
   ]
  },
  {
   "cell_type": "code",
   "execution_count": 7,
   "id": "13292729-69bc-4cbd-8506-f431d6390cf9",
   "metadata": {},
   "outputs": [],
   "source": [
    "# Importamos librerías necesarias\n",
    "from git import Repo\n",
    "import os\n",
    "import pandas as pd\n",
    "\n",
    "# Definimos la URL del repositorio y la ruta local donde se clonará\n",
    "repo_url = 'https://github.com/0xDanielLopez/TweetFeed.git'\n",
    "local_path = './TweetFeed'\n"
   ]
  },
  {
   "cell_type": "code",
   "execution_count": 4,
   "id": "a8745121-9d48-4a28-bede-9849302fd40e",
   "metadata": {},
   "outputs": [
    {
     "name": "stdout",
     "output_type": "stream",
     "text": [
      "Clonando repositorio...\n",
      "Repositorio clonado con éxito\n"
     ]
    }
   ],
   "source": [
    "# Comprobamos si la carpeta del repositorio ya existe localmente\n",
    "if not os.path.exists(local_path):\n",
    "    print(\"Clonando repositorio...\")\n",
    "    Repo.clone_from(repo_url, local_path)\n",
    "    print(\"Repositorio clonado con éxito\")\n",
    "else:\n",
    "    print(\"Repositorio ya existe localmente, no se clona\")\n"
   ]
  },
  {
   "cell_type": "code",
   "execution_count": 5,
   "id": "1d25ad27-e199-4aad-b0a4-ca107962d670",
   "metadata": {},
   "outputs": [
    {
     "name": "stdout",
     "output_type": "stream",
     "text": [
      "Actualizando repositorio...\n",
      "Repositorio actualizado con éxito\n"
     ]
    }
   ],
   "source": [
    "# Actualizamos el repositorio para tener los datos más recientes\n",
    "repo = Repo(local_path)\n",
    "origin = repo.remotes.origin\n",
    "print(\"Actualizando repositorio...\")\n",
    "origin.pull()\n",
    "print(\"Repositorio actualizado con éxito\")\n"
   ]
  },
  {
   "cell_type": "code",
   "execution_count": 11,
   "id": "4ac2e825-7826-4ba0-bd5f-6add50004181",
   "metadata": {},
   "outputs": [
    {
     "name": "stdout",
     "output_type": "stream",
     "text": [
      "Directorio base detectado: /Users/test/Desktop/phishing-detector\n",
      "Directorio de datos: /Users/test/Desktop/phishing-detector/data/raw/phishing\n",
      "Filtrado completado. URLs phishing guardadas en /Users/test/Desktop/phishing-detector/data/raw/phishing/phishing_urls_year.csv. Filas: 68921\n"
     ]
    }
   ],
   "source": [
    "\n",
    "try:\n",
    "    # En scripts normales, __file__ está definido\n",
    "    BASE_DIR = os.path.dirname(os.path.dirname(os.path.abspath(__file__)))\n",
    "except NameError:\n",
    "    # En Jupyter notebooks __file__ no está definido\n",
    "    # Usamos la carpeta padre del directorio actual de trabajo\n",
    "    BASE_DIR = os.path.abspath(os.path.join(os.getcwd(), '..'))\n",
    "\n",
    "DATA_DIR = os.path.join(BASE_DIR, 'data', 'raw', 'phishing')\n",
    "\n",
    "# Crear directorio si no existe\n",
    "os.makedirs(DATA_DIR, exist_ok=True)\n",
    "\n",
    "print(f\"Directorio base detectado: {BASE_DIR}\")\n",
    "print(f\"Directorio de datos: {DATA_DIR}\")\n",
    "\n",
    "# Crear carpeta si no existe\n",
    "os.makedirs(DATA_DIR, exist_ok=True)\n",
    "\n",
    "# Ruta donde guardar el archivo\n",
    "output_file = os.path.join(DATA_DIR, 'phishing_urls_year.csv')\n",
    "\n",
    "# Ruta al CSV clonado\n",
    "csv_path = os.path.join(local_path, 'year.csv')\n",
    "\n",
    "# Leer CSV\n",
    "df = pd.read_csv(csv_path, header=None)\n",
    "\n",
    "# Filtrar solo URLs\n",
    "df_urls = df[df[2] == 'url']\n",
    "\n",
    "# Guardar archivo en la ruta absoluta\n",
    "df_urls.to_csv(output_file, index=False, header=False)\n",
    "\n",
    "print(f\"Filtrado completado. URLs phishing guardadas en {output_file}. Filas: {len(df_urls)}\")\n"
   ]
  }
 ],
 "metadata": {
  "kernelspec": {
   "display_name": "Python (phishing-env)",
   "language": "python",
   "name": "phishing-env"
  },
  "language_info": {
   "codemirror_mode": {
    "name": "ipython",
    "version": 3
   },
   "file_extension": ".py",
   "mimetype": "text/x-python",
   "name": "python",
   "nbconvert_exporter": "python",
   "pygments_lexer": "ipython3",
   "version": "3.10.18"
  }
 },
 "nbformat": 4,
 "nbformat_minor": 5
}
