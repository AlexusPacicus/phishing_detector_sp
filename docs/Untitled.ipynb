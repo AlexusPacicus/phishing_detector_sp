{
 "cells": [
  {
   "cell_type": "markdown",
   "id": "5677c88a-1958-4405-8439-77c9a5ff084f",
   "metadata": {},
   "source": [
    "Regla 1: Mantener solo URLs con etiqueta #phishing. Esto reduce ruido de campañas de malware/infrastructura que no son phishing web."
   ]
  },
  {
   "cell_type": "markdown",
   "id": "fb8ae0e1-f7a9-471a-84d5-f4cf885b2afe",
   "metadata": {},
   "source": [
    "Regla 2: Mantener solo URLs con etiqueta #phishing. Resultado: ~39k URLs de un total de ~69k. Se descarta ~45% de ruido inicial."
   ]
  }
 ],
 "metadata": {
  "kernelspec": {
   "display_name": "Python 3 (ipykernel)",
   "language": "python",
   "name": "python3"
  },
  "language_info": {
   "codemirror_mode": {
    "name": "ipython",
    "version": 3
   },
   "file_extension": ".py",
   "mimetype": "text/x-python",
   "name": "python",
   "nbconvert_exporter": "python",
   "pygments_lexer": "ipython3",
   "version": "3.10.18"
  }
 },
 "nbformat": 4,
 "nbformat_minor": 5
}
