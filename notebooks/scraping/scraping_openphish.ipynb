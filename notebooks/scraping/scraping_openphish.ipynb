{
 "cells": [
  {
   "cell_type": "code",
   "execution_count": 11,
   "id": "b7aa4fbf-fb46-498c-bd3f-5c058b5d91a6",
   "metadata": {},
   "outputs": [],
   "source": [
    "# recolector_phishing.py\n",
    "# Autor: Alexis Zapico Fernández\n",
    "# Fecha: 2025-07-23\n",
    "# Objetivo: Automatizar la descarga periódica de URLs de phishing del Community Feed de OpenPhish.\n",
    "# Guardar cada recolección en data/raw/phishing/ con timestamp y logs.\n",
    "# No realiza limpieza ni enriquecimiento, solo guarda URLs en crudo."
   ]
  },
  {
   "cell_type": "code",
   "execution_count": 12,
   "id": "f7060e76-0386-44ba-83b8-aeea346401e0",
   "metadata": {},
   "outputs": [],
   "source": [
    "import requests                # Para hacer la descarga HTTP del feed\n",
    "import pandas as pd            # Para manipulación de datos y guardado en CSV\n",
    "from datetime import datetime  # Para generar timestamp único por cada descarga\n",
    "import os                      # Para gestionar rutas y carpetas\n",
    "import logging                 # Para dejar logs de lo ocurrido (errores, avisos)\n"
   ]
  },
  {
   "cell_type": "markdown",
   "id": "da81f747-3d44-4207-9398-14fd0e75bc01",
   "metadata": {},
   "source": [
    "### Configuración de rutas"
   ]
  },
  {
   "cell_type": "code",
   "execution_count": 13,
   "id": "603e301f-f07f-499a-8bc7-5f7e3438e7e1",
   "metadata": {},
   "outputs": [],
   "source": [
    "BASE_DIR = os.getcwd()\n",
    "# BASE_DIR: calcula la ruta raíz del proyecto desde la ubicación actual del script\n",
    "DATA_DIR = os.path.join(BASE_DIR, 'data', 'raw', 'phishing')\n",
    "# DATA_DIR: carpeta donde se guardarán los CSV descargados\n",
    "LOGS_DIR = os.path.join(BASE_DIR, 'logs')\n",
    "# LOGS_DIR: carpeta donde se guardará el archivo de log\n",
    "os.makedirs(DATA_DIR, exist_ok=True)\n",
    "# Si la carpeta de datos no existe, la crea\n",
    "os.makedirs(LOGS_DIR, exist_ok=True)\n",
    "# Si la carpeta de logs no existe, la crea\n"
   ]
  },
  {
   "cell_type": "markdown",
   "id": "7620ab3d-879d-45a1-981c-0545f310643f",
   "metadata": {},
   "source": [
    "### Configuración de logging"
   ]
  },
  {
   "cell_type": "code",
   "execution_count": 14,
   "id": "7bffebb2-f5f0-4069-8d08-13b9761884b4",
   "metadata": {},
   "outputs": [],
   "source": [
    "# --- Configuración de logging ---\n",
    "logging.basicConfig(\n",
    "    filename=os.path.join(LOGS_DIR, 'recolector_phishing.log'),  # Nombre del archivo de log\n",
    "    level=logging.INFO,                                          # Graba mensajes INFO y errores\n",
    "    format='%(asctime)s - %(levelname)s - %(message)s'           # Formato de cada línea de log\n",
    ")\n"
   ]
  },
  {
   "cell_type": "markdown",
   "id": "5c773433-79e9-49fc-ad9b-c8a4ce2deb8f",
   "metadata": {},
   "source": [
    "### Fuente"
   ]
  },
  {
   "cell_type": "code",
   "execution_count": 15,
   "id": "ebfa5027-f589-401b-938d-cba459db88f4",
   "metadata": {},
   "outputs": [],
   "source": [
    "FEED_URL = \"https://openphish.com/feed.txt\""
   ]
  },
  {
   "cell_type": "code",
   "execution_count": 16,
   "id": "765b948b-60bb-4f07-9c94-ac191f3aaad2",
   "metadata": {},
   "outputs": [],
   "source": [
    "def obtener_datos_openphish(url=FEED_URL):\n",
    "    \"\"\"\n",
    "Descarga el feed de OpenFish.\n",
    "Si tiene éxito, devuelve una lista de URLs\n",
    "Si hay error, lo graba en el log y devuelve una lista vacía\n",
    "\"\"\"\n",
    "    try:\n",
    "        response = requests.get(url, timeout=30) # petición HTTP con un timeout de 30s\n",
    "        response.raise_for_status() # Error si la respueseta no es 200\n",
    "        urls = response.text.strip().split('\\n') # Divide el texto en líneas\n",
    "        logging.info(f\"Descargadas {len(urls)} URLs de OpenPhish.\") #Guarda en el log\n",
    "        return urls\n",
    "    except Exception as e:\n",
    "        logging.error(f'Error descargando datos de OpenPhish: {e}') # Si falla, graba el error en el log\n",
    "        return []\n",
    "    "
   ]
  },
  {
   "cell_type": "code",
   "execution_count": 17,
   "id": "958a5720-7747-4b7b-b162-da0738e08eff",
   "metadata": {},
   "outputs": [],
   "source": [
    "def procesar_datos(urls):\n",
    "    \"\"\"\n",
    "    Toma la lista de URLs y las pasa a un DataFrame de pandas.\n",
    "    Añade las columnas extra para facilitar análisis futuro.\n",
    "    \"\"\"\n",
    "    fecha_hora = datetime.now().strftime(\"%Y%m%d_%H%M%S\") # Obtiene la fecha/hora actual como string\n",
    "    datos = []\n",
    "    for url in urls:\n",
    "        datos.append({\n",
    "            'url': url,\n",
    "            'fecha_hora_recoleccion': fecha_hora,\n",
    "            'fuente': 'OpenPhish',\n",
    "            'observaciones': ''\n",
    "        })\n",
    "    return pd.DataFrame(datos)\n",
    "\n",
    "    "
   ]
  },
  {
   "cell_type": "code",
   "execution_count": 18,
   "id": "ce397e06-2f02-4bef-aff7-0a07cc5621bd",
   "metadata": {},
   "outputs": [
    {
     "name": "stdout",
     "output_type": "stream",
     "text": [
      "                                                 url fecha_hora_recoleccion  \\\n",
      "0                    http://xgfchjkghfdrt.pages.dev/        20250723_153958   \n",
      "1           https://star-koala-hcy9.squarespace.com/        20250723_153958   \n",
      "2  https://account-explanation-id-face-7spz.verce...        20250723_153958   \n",
      "3  https://bdoonline.faqs-recommended.workers.dev...        20250723_153958   \n",
      "4  https://seabreezef.vercel.app/managerment/aBdx...        20250723_153958   \n",
      "\n",
      "      fuente observaciones  \n",
      "0  OpenPhish                \n",
      "1  OpenPhish                \n",
      "2  OpenPhish                \n",
      "3  OpenPhish                \n",
      "4  OpenPhish                \n"
     ]
    }
   ],
   "source": [
    "# Paso 1: Descargar URLs\n",
    "urls = obtener_datos_openphish()\n",
    "# Paso 2: Procesar\n",
    "if urls:\n",
    "    df = procesar_datos(urls)\n",
    "    print(df.head())  # Visualiza las primeras filas\n",
    "    guardar_datos(df)\n",
    "else:\n",
    "    print(\"No se han descargado URLs. Revisa la conexión o la fuente.\")\n"
   ]
  },
  {
   "cell_type": "code",
   "execution_count": 19,
   "id": "5d916195-3811-4923-ace3-266ab8cba6b4",
   "metadata": {},
   "outputs": [],
   "source": [
    "def guardar_datos(df):\n",
    "    \"\"\"\n",
    "    Guarda el DataFrame de pandas como archivo CSV\n",
    "    También guarda en el log cuántos datos se han guardado y en qué archivo\n",
    "    \"\"\"\n",
    "    fecha_hora = datetime.now().strftime(\"%Y%m%d_%H%M%S\") # Fecha/hora para el nombre del archivo\n",
    "    nombre_archivo = f'openphish_{fecha_hora}.csv'        # Nombre del archivo con el formato fecha/hora\n",
    "    ruta_archivo = os.path.join(DATA_DIR, nombre_archivo) # Ruta completa del archivo\n",
    "    df.to_csv(ruta_archivo, index=False)                  # Guarda el DataFrame en CSV, sin índice\n",
    "    logging.info(f\"Guardados {len(df)} registros en {ruta_archivo}.\") # Lo registra en el log\n"
   ]
  },
  {
   "cell_type": "code",
   "execution_count": 22,
   "id": "8e712660-362d-4782-be91-f1bc7354950e",
   "metadata": {},
   "outputs": [
    {
     "name": "stdout",
     "output_type": "stream",
     "text": [
      "[INFO] Guardadas 300 URLs en /Users/test/Desktop/phishing-detector/scripts/data/raw/phishing\n"
     ]
    }
   ],
   "source": [
    "if __name__ == \"__main__\":\n",
    "    \"\"\"\n",
    "    Bloque principal del script: ejecuta todo el flujo si se lanza directamente.\n",
    "    \"\"\"\n",
    "    urls = obtener_datos_openphish()                # Descarga el feed de OpenPhish\n",
    "    if urls:                                        # Si la lista no está vacía\n",
    "        df_urls = procesar_datos(urls)              # Procesa las URLs y crea el DataFrame\n",
    "        guardar_datos(df_urls)                      # Guarda el DataFrame como CSV\n",
    "        print(f\"[INFO] Guardadas {len(df_urls)} URLs en {DATA_DIR}\")  # Mensaje en consola\n",
    "    else:\n",
    "        print(\"[WARNING] No se han descargado datos de OpenPhish. Ver logs para más información.\") # Aviso si no se pudo descargar"
   ]
  }
 ],
 "metadata": {
  "kernelspec": {
   "display_name": "Python (phishing-env)",
   "language": "python",
   "name": "phishing-env"
  },
  "language_info": {
   "codemirror_mode": {
    "name": "ipython",
    "version": 3
   },
   "file_extension": ".py",
   "mimetype": "text/x-python",
   "name": "python",
   "nbconvert_exporter": "python",
   "pygments_lexer": "ipython3",
   "version": "3.10.18"
  }
 },
 "nbformat": 4,
 "nbformat_minor": 5
}
