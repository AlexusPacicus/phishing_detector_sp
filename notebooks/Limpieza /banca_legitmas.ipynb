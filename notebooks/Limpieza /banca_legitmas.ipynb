{
 "cells": [
  {
   "cell_type": "code",
   "execution_count": 2,
   "id": "f2eb81cb-a057-4524-86df-62058daabb8f",
   "metadata": {},
   "outputs": [
    {
     "name": "stdout",
     "output_type": "stream",
     "text": [
      "Filas totales tras unir: 1242\n",
      "Archivo banca_legitimas_unificado.csv guardado.\n"
     ]
    }
   ],
   "source": [
    "import pandas as pd\n",
    "import os\n",
    "\n",
    "base_path = '/Users/test/Desktop/phishing-detector/data/raw/legitimas'\n",
    "\n",
    "archivos_banca = [\n",
    "    'legitimas_banca.csv',\n",
    "    'urls_legitimas_22_07_2025.csv',\n",
    "    'urls_legitimas_crudo.csv'\n",
    "]\n",
    "\n",
    "dfs = []\n",
    "for archivo in archivos_banca:\n",
    "    ruta = os.path.join(base_path, archivo)\n",
    "    df = pd.read_csv(ruta)\n",
    "    dfs.append(df)\n",
    "\n",
    "# Concatenar todos los dataframes\n",
    "df_banca_unificado = pd.concat(dfs, ignore_index=True)\n",
    "\n",
    "# Eliminar duplicados completos\n",
    "df_banca_unificado = df_banca_unificado.drop_duplicates()\n",
    "\n",
    "print(f\"Filas totales tras unir: {len(df_banca_unificado)}\")\n",
    "\n",
    "# Guardar CSV unificado\n",
    "df_banca_unificado.to_csv(os.path.join(base_path, 'banca_legitimas_unificado.csv'), index=False)\n",
    "print(\"Archivo banca_legitimas_unificado.csv guardado.\")\n"
   ]
  }
 ],
 "metadata": {
  "kernelspec": {
   "display_name": "Python (phishing-env)",
   "language": "python",
   "name": "phishing-env"
  },
  "language_info": {
   "codemirror_mode": {
    "name": "ipython",
    "version": 3
   },
   "file_extension": ".py",
   "mimetype": "text/x-python",
   "name": "python",
   "nbconvert_exporter": "python",
   "pygments_lexer": "ipython3",
   "version": "3.10.18"
  }
 },
 "nbformat": 4,
 "nbformat_minor": 5
}
