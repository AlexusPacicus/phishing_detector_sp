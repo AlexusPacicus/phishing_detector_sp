{
 "cells": [
  {
   "cell_type": "code",
   "execution_count": 4,
   "id": "5cf4e912-c225-448a-b585-8a416933523d",
   "metadata": {},
   "outputs": [
    {
     "name": "stdout",
     "output_type": "stream",
     "text": [
      "✅ Modelo cargado correctamente: <class 'sklearn.pipeline.Pipeline'>\n",
      "✅ Predicciones guardadas en: predicciones_model_local.csv\n",
      "                                                 url  prob_model_phishing  \\\n",
      "0  http://0c4d4e6.wcomhost.com/banco-santander/pa...             0.971697   \n",
      "1  http://0c4d4e6.wcomhost.com/Banco-Santander/pa...             0.971697   \n",
      "2  http://actividadesinusuales-santander-tarjetas...             0.999560   \n",
      "3  http://alerta-caixabank1.serveirc.com/caixa-vb...             0.957273   \n",
      "4  http://alerta-caixabank1.serveirc.com/caixa-vb...             0.957273   \n",
      "5  http://alerta-caixabank1.serveirc.com/caixa-vb...             0.957273   \n",
      "6  http://alsheharymedical.com.ye/retail.santande...             0.999829   \n",
      "7             http://bancosantanderspain.blogspot.tw             0.987297   \n",
      "8   http://bbva.aviso-vigente.com/tarjetas/alert.php             0.992809   \n",
      "9              http://bbva-ingress-seger-2-z.hstn.me             0.932586   \n",
      "\n",
      "   label_model  \n",
      "0            1  \n",
      "1            1  \n",
      "2            1  \n",
      "3            1  \n",
      "4            1  \n",
      "5            1  \n",
      "6            1  \n",
      "7            1  \n",
      "8            1  \n",
      "9            1  \n"
     ]
    }
   ],
   "source": [
    "# run_model_local.py\n",
    "import joblib\n",
    "import pandas as pd\n",
    "from features.features import extract_features\n",
    "\n",
    "# === Rutas ===\n",
    "MODEL_PATH = \"models/logreg_phishing_final.joblib\"\n",
    "DATA_PATH = \"limpieza/phishing/scoring/dataset_es_signal_strong.csv\"\n",
    "OUT_PATH = \"predicciones_model_local.csv\"\n",
    "THRESHOLD = 0.425  # umbral del prototipo\n",
    "\n",
    "# === Cargar modelo ===\n",
    "model_data = joblib.load(MODEL_PATH)\n",
    "if isinstance(model_data, dict):\n",
    "    model = model_data.get(\"model\") or model_data.get(\"pipeline\")\n",
    "else:\n",
    "    model = model_data\n",
    "\n",
    "print(\"✅ Modelo cargado correctamente:\", type(model))\n",
    "\n",
    "# === Cargar dataset ===\n",
    "df = pd.read_csv(DATA_PATH)\n",
    "\n",
    "# === Extraer features para todas las URLs ===\n",
    "features_list = []\n",
    "for url in df[\"url\"]:\n",
    "    try:\n",
    "        feats = extract_features(url)\n",
    "        features_list.append(feats)\n",
    "    except Exception as e:\n",
    "        print(f\"[WARN] Error procesando {url}: {e}\")\n",
    "        features_list.append({key: 0 for key in [\n",
    "            \"domain_length\",\"domain_entropy\",\"num_params\",\"trusted_path_token\",\n",
    "            \"contains_percent\",\"contains_equal\",\"protocol\",\"suspicious_path_token\",\n",
    "            \"free_hosting\",\"tld_group\"\n",
    "        ]})\n",
    "\n",
    "X = pd.DataFrame(features_list)\n",
    "\n",
    "# === Predicciones ===\n",
    "probs = model.predict_proba(X)[:, 1]\n",
    "df[\"prob_model_phishing\"] = probs\n",
    "df[\"label_model\"] = (probs >= THRESHOLD).astype(int)\n",
    "\n",
    "# === Guardar salida ===\n",
    "df.to_csv(OUT_PATH, index=False)\n",
    "print(f\"✅ Predicciones guardadas en: {OUT_PATH}\")\n",
    "print(df[[\"url\", \"prob_model_phishing\", \"label_model\"]].head(10))\n"
   ]
  }
 ],
 "metadata": {
  "kernelspec": {
   "display_name": "Python (phishing-env)",
   "language": "python",
   "name": "phishing-env"
  },
  "language_info": {
   "codemirror_mode": {
    "name": "ipython",
    "version": 3
   },
   "file_extension": ".py",
   "mimetype": "text/x-python",
   "name": "python",
   "nbconvert_exporter": "python",
   "pygments_lexer": "ipython3",
   "version": "3.10.18"
  }
 },
 "nbformat": 4,
 "nbformat_minor": 5
}
