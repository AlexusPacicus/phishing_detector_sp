{
 "cells": [
  {
   "cell_type": "markdown",
   "id": "7ab34f98-df89-4bc9-900d-7afca575ca18",
   "metadata": {},
   "source": [
    "# Pago Online: Scraping de URLs legítimas\n",
    "\n",
    "**Fecha de ejecución:** 22/07/2025  \n",
    "**Empresas objetivo:**  \n",
    "PayPal, Mastercard, Visa, American Express, Bizum, Stripe, Revolut, Wise\n",
    "\n",
    "---\n"
   ]
  },
  {
   "cell_type": "markdown",
   "id": "41f5b3d7-078c-4f2f-95d5-a9067c360e7a",
   "metadata": {},
   "source": [
    "| Empresa          | URLs únicas | Fecha      | Estado / Observaciones                          |\n",
    "|------------------|------------|------------|-------------------------------------------------|\n",
    "| Stripe           |    181     | 22/07/2025 | OK                                              |\n",
    "| Wise             |    168     | 22/07/2025 | OK                                              |\n",
    "| American Express |    117     | 22/07/2025 | OK                                              |\n",
    "| PayPal           |     63     | 22/07/2025 | OK                                              |\n",
    "| Bizum            |      1     | 22/07/2025 | OK – Muy pocos enlaces, home minimalista        |\n",
    "| Revolut          |      1     | 22/07/2025 | OK – Muy pocos enlaces, home minimalista        |\n",
    "| Mastercard       |             | 22/07/2025 | No ejecutado hoy / pendiente                    |\n",
    "| Visa             |      0     | 22/07/2025 | Error SSL: CERTIFICATE_VERIFY_FAILED            |\n"
   ]
  },
  {
   "cell_type": "code",
   "execution_count": null,
   "id": "f98e6ebf-5508-4776-88f0-8baf8f829d1d",
   "metadata": {},
   "outputs": [],
   "source": []
  },
  {
   "cell_type": "code",
   "execution_count": null,
   "id": "f37bcce7-90e8-41f1-ad5b-a847ae8918c5",
   "metadata": {},
   "outputs": [],
   "source": []
  },
  {
   "cell_type": "code",
   "execution_count": 4,
   "id": "aab96c23-66f4-4bd0-b442-0415a659ef43",
   "metadata": {},
   "outputs": [],
   "source": [
    "import requests\n",
    "from bs4 import BeautifulSoup\n",
    "import pandas as pd, os\n",
    "import time\n",
    "from urllib.parse import urljoin, urlparse\n",
    "from time import sleep\n"
   ]
  },
  {
   "cell_type": "code",
   "execution_count": 1,
   "id": "41079265-a3f6-4e72-8079-13034e92f6ba",
   "metadata": {},
   "outputs": [],
   "source": [
    "empresas_pago_online = {\n",
    "    \"PayPal\": \"https://www.paypal.com\",\n",
    "    \"Mastercard\": \"https://www.mastercard.es\",\n",
    "    \"Visa\": \"https://www.visa.es\",\n",
    "    \"American Express\": \"https://www.americanexpress.com/es/\",\n",
    "    \"Bizum\": \"https://bizum.es\",\n",
    "    \"Stripe\": \"https://stripe.com/es\",\n",
    "    \"Revolut\": \"https://www.revolut.com/es-ES\",\n",
    "    \"Wise\": \"https://wise.com/es\"\n",
    "}\n"
   ]
  },
  {
   "cell_type": "code",
   "execution_count": 2,
   "id": "a8ac3406-0ce7-4f47-9ab0-6b394406aca1",
   "metadata": {},
   "outputs": [],
   "source": [
    "def obtener_urls(base_url, delay=1):\n",
    "    \"\"\"\n",
    "Descarga la página principal y extrae las URLs internas\n",
    "Acepta URLs del dominio principal y subdominios\n",
    "\"\"\"\n",
    "    try:\n",
    "        # Realiza la petición HTTP a la URL de la enpresa con 10s máximos de espera\n",
    "        response = requests.get(base_url, timeout=10)\n",
    "        \n",
    "        # Parsea el HTML recibido\n",
    "        soup = BeautifulSoup(response.text, 'html.parser')\n",
    "\n",
    "        # Obtiene el dominio principal\n",
    "        dominio_empresa = urlparse(base_url).netloc\n",
    "\n",
    "        # Elimina \"www.\" al inicio para igualar subdominios y dominio principal\n",
    "\n",
    "        if dominio_empresa.startswith('www.'):\n",
    "            dominio_base = dominio_empresa[4:]\n",
    "        else:\n",
    "            dominio_base = dominio_empresa\n",
    "\n",
    "        # Set para almacenar URLs únicas\n",
    "        urls = set()\n",
    "\n",
    "        # Itera por todos los enlaces (a, href)\n",
    "        for link in soup.find_all('a', href=True):\n",
    "            href = link['href'] # Extrae el href del enlace\n",
    "            href = urljoin(base_url, href) #Convierte relativo a absoluto\n",
    "\n",
    "            #Obtiene el dominio del enlace\n",
    "            dominio_href = urlparse(href).netloc\n",
    "            if dominio_href.startswith('www.'):\n",
    "                dominio_href_base = dominio_href[4:]\n",
    "            else:\n",
    "                dominio_href_base = dominio_href\n",
    "\n",
    "            # Añade la URL solo si es del dominio principal o subdomino\n",
    "            if dominio_href_base == dominio_base or dominio_href_base.endswith('.' + dominio_base):\n",
    "                urls.add(href)\n",
    "\n",
    "        # Devuelve las URLs únicas como lista\n",
    "        return list(urls)\n",
    "\n",
    "    except Exception as e:\n",
    "        print(f'Error al acceder a {base_url}: {e}')\n",
    "        return []\n",
    " \n",
    "\n",
    "        \n",
    "\n",
    "        \n",
    "\n",
    "    "
   ]
  },
  {
   "cell_type": "code",
   "execution_count": 5,
   "id": "5d3b6ade-dac2-4fab-9e48-e3b5f82d75f9",
   "metadata": {},
   "outputs": [
    {
     "name": "stdout",
     "output_type": "stream",
     "text": [
      "Scraping empresa: PayPal\n",
      "Scraping empresa: Mastercard\n",
      "Scraping empresa: Visa\n",
      "Error al acceder a https://www.visa.es: HTTPSConnectionPool(host='www.visa.es', port=443): Max retries exceeded with url: / (Caused by SSLError(SSLCertVerificationError(1, '[SSL: CERTIFICATE_VERIFY_FAILED] certificate verify failed: unable to get local issuer certificate (_ssl.c:1017)')))\n",
      "Scraping empresa: American Express\n",
      "Scraping empresa: Bizum\n",
      "Scraping empresa: Stripe\n",
      "Scraping empresa: Revolut\n",
      "Scraping empresa: Wise\n"
     ]
    }
   ],
   "source": [
    "resultados = []\n",
    "for nombre, url_base in empresas_pago_online.items():\n",
    "    print(f'Scraping empresa: {nombre}')\n",
    "    urls_empresa = obtener_urls(url_base) \n",
    "    for url in urls_empresa:\n",
    "        resultados.append({'empresa': nombre, 'url': url})\n",
    "    time.sleep(2)\n",
    "    "
   ]
  },
  {
   "cell_type": "code",
   "execution_count": 6,
   "id": "47d3dbcd-936a-44a0-9d29-d2b8ed1ec457",
   "metadata": {},
   "outputs": [],
   "source": [
    "# Convertirmos los resultados en un DataFrame\n",
    "df_scrap = pd.DataFrame(resultados)\n",
    "#Guardamos el DataFrame en un archivo CSV\n",
    "df_scrap.to_csv('../data/raw/saas_legitimas_crudo.csv', index=False)"
   ]
  },
  {
   "cell_type": "code",
   "execution_count": 10,
   "id": "6cf8a6a7-dbc5-4954-b52a-35efb0e793b8",
   "metadata": {},
   "outputs": [
    {
     "name": "stdout",
     "output_type": "stream",
     "text": [
      "empresa\n",
      "Stripe              181\n",
      "Wise                168\n",
      "American Express    117\n",
      "PayPal               63\n",
      "Bizum                 1\n",
      "Revolut               1\n",
      "Name: count, dtype: int64\n"
     ]
    }
   ],
   "source": [
    "print(df_scrap['empresa'].value_counts())\n"
   ]
  },
  {
   "cell_type": "markdown",
   "id": "3d576488-211e-4f64-b51d-8e504338fd1e",
   "metadata": {},
   "source": [
    "- **Empresas scrapeadas:** 8\n",
    "- **Total URLs obtenidas:** 531\n",
    "- **Patrones detectados:**\n",
    "    - Stripe y Wise tienen muchas páginas públicas (probablemente docs, ayuda, login, marketing...).\n",
    "    - Bizum y Revolut solo muestran 1 URL válida, probablemente por home extremadamente minimalista o bloqueada.\n",
    "- **Incidencias:**\n",
    "    - Visa no permite scraping básico por error de certificado SSL (muy común en sitios protegidos).\n",
    "    - Mastercard no ejecutado (completar en próxima ronda si es necesario).\n",
    "- **Siguiente paso:**  \n",
    "    - Decidir si necesitas intentar scraping avanzado en Visa/Mastercard o con lo obtenido te basta para la demo/modelo.\n"
   ]
  }
 ],
 "metadata": {
  "kernelspec": {
   "display_name": "Python (phishing-env)",
   "language": "python",
   "name": "phishing-env"
  },
  "language_info": {
   "codemirror_mode": {
    "name": "ipython",
    "version": 3
   },
   "file_extension": ".py",
   "mimetype": "text/x-python",
   "name": "python",
   "nbconvert_exporter": "python",
   "pygments_lexer": "ipython3",
   "version": "3.10.18"
  }
 },
 "nbformat": 4,
 "nbformat_minor": 5
}
