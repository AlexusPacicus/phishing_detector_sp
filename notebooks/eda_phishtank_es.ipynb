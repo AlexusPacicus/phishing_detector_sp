{
 "cells": [
  {
   "cell_type": "markdown",
   "id": "5475f980-96ee-434f-bcee-f784a7233099",
   "metadata": {},
   "source": [
    "# Introducción\n",
    "\n",
    "Este notebook realiza el análisis exploratorio, limpieza y preparación del dataset de URLs de phishing en el contexto español, como primer paso del pipeline de modelado. \n",
    "\n",
    "### Contexto y limitaciones\n",
    "El dataset original procede de PhishTank y se ha filtrado usando palabras clave asociadas a entidades españolas (bancos, telcos, administración, etc.).  \n",
    "Este método **no garantiza** que todas las URLs sean campañas realmente dirigidas a España:  \n",
    "- Pueden aparecer campañas internacionales o falsos positivos.\n",
    "- El volumen final de datos locales es bajo, lo que limita el potencial de un modelo específico para España.\n",
    "\n",
    "Aun así, el proceso sirve como primer acercamiento práctico y como base para ampliar y mejorar la recogida de datos en el futuro.\n",
    "\n",
    "En futuros trabajos, se ampliará la recopilación y validación de datos para lograr una mayor adaptación."
   ]
  },
  {
   "cell_type": "markdown",
   "id": "22a34751-ce87-48a5-9ab9-3e9022a24d48",
   "metadata": {},
   "source": [
    "# HH"
   ]
  },
  {
   "cell_type": "code",
   "execution_count": 18,
   "id": "18111be8-1f21-4107-b131-985fea5eff04",
   "metadata": {},
   "outputs": [],
   "source": [
    "import pandas as pd\n",
    "import matplotlib.pyplot as plt\n",
    "import seaborn as sns\n",
    "import numpy as np\n",
    "\n",
    "pd.set_option('display.max_columns', 50)\n",
    "%matplotlib inline"
   ]
  },
  {
   "cell_type": "markdown",
   "id": "d460541d-4293-4f90-bd38-4cfc0a415361",
   "metadata": {},
   "source": [
    "## 2. Carga y exploración inicial de los datos\n",
    "\n",
    "Cargamos el dataset filtrado de PhishTank y revisamos su estructura, tamaño y primeras filas para entender su contenido y posibles problemas iniciales.\n"
   ]
  },
  {
   "cell_type": "code",
   "execution_count": 3,
   "id": "9f2089a0-f3ea-4ae7-90e4-3abb64d50396",
   "metadata": {},
   "outputs": [
    {
     "name": "stdout",
     "output_type": "stream",
     "text": [
      "Datos cargados correctamente.\n"
     ]
    }
   ],
   "source": [
    "# Carga de datos PhishTank ES\n",
    "try:\n",
    "    df = pd.read_csv('phishtank_es.csv')\n",
    "    print('Datos cargados correctamente.')\n",
    "except FileNotFoundError:\n",
    "    print('Archivo no encontrado. Verifica el nombre o la ubicación.')\n"
   ]
  },
  {
   "cell_type": "markdown",
   "id": "6a22c267-8b15-4e06-9c79-6c2bb14c126a",
   "metadata": {},
   "source": [
    "### Descripción del Dataset\n",
    "\n",
    "En este análisis utilizo el dataset 'phishtank_es.csv', extraído de Phishtank.\n",
    "\n",
    "Fecha de descarga: 11/07/2025\n"
   ]
  },
  {
   "cell_type": "code",
   "execution_count": 4,
   "id": "8cf65391-6724-49df-8b02-13325c66609e",
   "metadata": {},
   "outputs": [
    {
     "name": "stdout",
     "output_type": "stream",
     "text": [
      "   phish_id                                                url  \\\n",
      "0   9152757  https://interiakastliveresvbrokers.com/?token=...   \n",
      "1   9152752                    http://accessrevoke1.vercel.app   \n",
      "2   9152753                  https://accessrevoke1.vercel.app/   \n",
      "3   9152737       https://interiakastliverescbrokers.com/login   \n",
      "4   9152736  https://interiakastliverescbrokers.com/?token=...   \n",
      "\n",
      "                                    phish_detail_url  \\\n",
      "0  http://www.phishtank.com/phish_detail.php?phis...   \n",
      "1  http://www.phishtank.com/phish_detail.php?phis...   \n",
      "2  http://www.phishtank.com/phish_detail.php?phis...   \n",
      "3  http://www.phishtank.com/phish_detail.php?phis...   \n",
      "4  http://www.phishtank.com/phish_detail.php?phis...   \n",
      "\n",
      "             submission_time verified          verification_time online target  \n",
      "0  2025-07-11T09:46:33+00:00      yes  2025-07-11T09:52:02+00:00    yes  Other  \n",
      "1  2025-07-11T09:09:45+00:00      yes  2025-07-11T09:21:34+00:00    yes  Other  \n",
      "2  2025-07-11T09:09:45+00:00      yes  2025-07-11T09:21:34+00:00    yes  Other  \n",
      "3  2025-07-11T08:45:45+00:00      yes  2025-07-11T08:52:00+00:00    yes  Other  \n",
      "4  2025-07-11T08:45:38+00:00      yes  2025-07-11T08:52:00+00:00    yes  Other  \n"
     ]
    }
   ],
   "source": [
    "# Ver las primeras filas #\n",
    "print(df.head())"
   ]
  },
  {
   "cell_type": "code",
   "execution_count": 5,
   "id": "4e383460-27a1-4e05-8afa-072f1f5f2cd6",
   "metadata": {},
   "outputs": [
    {
     "name": "stdout",
     "output_type": "stream",
     "text": [
      "<class 'pandas.core.frame.DataFrame'>\n",
      "RangeIndex: 12689 entries, 0 to 12688\n",
      "Data columns (total 8 columns):\n",
      " #   Column             Non-Null Count  Dtype \n",
      "---  ------             --------------  ----- \n",
      " 0   phish_id           12689 non-null  int64 \n",
      " 1   url                12689 non-null  object\n",
      " 2   phish_detail_url   12689 non-null  object\n",
      " 3   submission_time    12689 non-null  object\n",
      " 4   verified           12689 non-null  object\n",
      " 5   verification_time  12689 non-null  object\n",
      " 6   online             12689 non-null  object\n",
      " 7   target             12689 non-null  object\n",
      "dtypes: int64(1), object(7)\n",
      "memory usage: 793.2+ KB\n",
      "None\n"
     ]
    }
   ],
   "source": [
    "# Ver las columnas presentes y tipos de datos #\n",
    "print(df.info())"
   ]
  },
  {
   "cell_type": "code",
   "execution_count": 6,
   "id": "5b4b8485-d0f3-480d-848a-b8469cb17981",
   "metadata": {},
   "outputs": [
    {
     "name": "stdout",
     "output_type": "stream",
     "text": [
      "(12689, 8)\n"
     ]
    }
   ],
   "source": [
    "# Ver el número de filas y columnas #\n",
    "print(df.shape)"
   ]
  },
  {
   "cell_type": "markdown",
   "id": "fc334c3a-f348-4548-a5c4-ac45b9126272",
   "metadata": {},
   "source": [
    "## 3. Limpieza de datos\n",
    "\n",
    "Buscamos y, en su caso, eliminamos URLs duplicadas para evitar que el modelo aprenda varias veces el mismo patrón de phishing.\n"
   ]
  },
  {
   "cell_type": "code",
   "execution_count": 7,
   "id": "b4b2a783-111e-4558-b404-45cc0f87b1cf",
   "metadata": {},
   "outputs": [
    {
     "name": "stdout",
     "output_type": "stream",
     "text": [
      "Duplicados por url: 0\n"
     ]
    }
   ],
   "source": [
    "# Número de datos duplicados por URL #\n",
    "print('Duplicados por url:', df['url'].duplicated().sum())"
   ]
  },
  {
   "cell_type": "code",
   "execution_count": null,
   "id": "2c4a7786-5f0c-4774-972c-e7d50f6ae110",
   "metadata": {},
   "outputs": [],
   "source": []
  },
  {
   "cell_type": "code",
   "execution_count": null,
   "id": "4847779d-0cd0-4c49-8ec9-a270ee8b1b99",
   "metadata": {},
   "outputs": [],
   "source": []
  },
  {
   "cell_type": "markdown",
   "id": "d593aaa0-4ec5-4627-a426-ad62057d8eb7",
   "metadata": {},
   "source": [
    "### Análisis y filtrado por veracidad\n",
    "\n",
    "Inspeccionamos el campo `verified` para garantizar que solo usamos URLs confirmadas como phishing real.  \n",
    "Se filtran las filas para quedarnos únicamente con aquellas con `verified = 'yes'`.\n"
   ]
  },
  {
   "cell_type": "code",
   "execution_count": 8,
   "id": "5ef4c164-f424-4670-b586-38ddaa4b808b",
   "metadata": {},
   "outputs": [
    {
     "name": "stdout",
     "output_type": "stream",
     "text": [
      "verified\n",
      "yes    12689\n",
      "Name: count, dtype: int64\n"
     ]
    }
   ],
   "source": [
    "# Seleccionamos las URLs que han sido verificadas como phishing real #\n",
    "print(df['verified'].value_counts())"
   ]
  },
  {
   "cell_type": "markdown",
   "id": "8d266027-2ab3-4a26-8b5a-b044a3969799",
   "metadata": {},
   "source": [
    "### Análisis y decisión sobre las columnas útiles\n",
    "\n",
    "Decidimos qué columnas conservar para el modelado (normalmente solo `url` y, en el futuro, `label`).  \n",
    "El resto de columnas se eliminan para simplificar el dataset y evitar ruido innecesario.\n"
   ]
  },
  {
   "cell_type": "code",
   "execution_count": 9,
   "id": "7211cda3-d579-4b99-ab85-f977ee1af6dc",
   "metadata": {},
   "outputs": [],
   "source": [
    "# Copiamos únicamente la columnad e \"url\" #\n",
    "df_model = df[['url']].copy()"
   ]
  },
  {
   "cell_type": "code",
   "execution_count": 10,
   "id": "65034f79-cfd6-4779-91cc-33e738392445",
   "metadata": {},
   "outputs": [],
   "source": [
    "# Añadimos la columna \"label\", más adelante se añadirán url's legítimas #\n",
    "df_model['label'] = 1"
   ]
  },
  {
   "cell_type": "code",
   "execution_count": 11,
   "id": "f70ac095-fdd9-4e17-b628-a98376f3e33d",
   "metadata": {},
   "outputs": [
    {
     "data": {
      "text/html": [
       "<div>\n",
       "<style scoped>\n",
       "    .dataframe tbody tr th:only-of-type {\n",
       "        vertical-align: middle;\n",
       "    }\n",
       "\n",
       "    .dataframe tbody tr th {\n",
       "        vertical-align: top;\n",
       "    }\n",
       "\n",
       "    .dataframe thead th {\n",
       "        text-align: right;\n",
       "    }\n",
       "</style>\n",
       "<table border=\"1\" class=\"dataframe\">\n",
       "  <thead>\n",
       "    <tr style=\"text-align: right;\">\n",
       "      <th></th>\n",
       "      <th>url</th>\n",
       "      <th>label</th>\n",
       "    </tr>\n",
       "  </thead>\n",
       "  <tbody>\n",
       "    <tr>\n",
       "      <th>0</th>\n",
       "      <td>https://interiakastliveresvbrokers.com/?token=...</td>\n",
       "      <td>1</td>\n",
       "    </tr>\n",
       "    <tr>\n",
       "      <th>1</th>\n",
       "      <td>http://accessrevoke1.vercel.app</td>\n",
       "      <td>1</td>\n",
       "    </tr>\n",
       "    <tr>\n",
       "      <th>2</th>\n",
       "      <td>https://accessrevoke1.vercel.app/</td>\n",
       "      <td>1</td>\n",
       "    </tr>\n",
       "    <tr>\n",
       "      <th>3</th>\n",
       "      <td>https://interiakastliverescbrokers.com/login</td>\n",
       "      <td>1</td>\n",
       "    </tr>\n",
       "    <tr>\n",
       "      <th>4</th>\n",
       "      <td>https://interiakastliverescbrokers.com/?token=...</td>\n",
       "      <td>1</td>\n",
       "    </tr>\n",
       "  </tbody>\n",
       "</table>\n",
       "</div>"
      ],
      "text/plain": [
       "                                                 url  label\n",
       "0  https://interiakastliveresvbrokers.com/?token=...      1\n",
       "1                    http://accessrevoke1.vercel.app      1\n",
       "2                  https://accessrevoke1.vercel.app/      1\n",
       "3       https://interiakastliverescbrokers.com/login      1\n",
       "4  https://interiakastliverescbrokers.com/?token=...      1"
      ]
     },
     "execution_count": 11,
     "metadata": {},
     "output_type": "execute_result"
    }
   ],
   "source": [
    "df_model.head()"
   ]
  },
  {
   "cell_type": "markdown",
   "id": "77720929-5ec1-4f65-aac4-2e8c8b848d90",
   "metadata": {},
   "source": [
    "###  Guardado del dataset limpio\n",
    "\n",
    "Guardamos el dataset final limpio y reducido en la carpeta `/data/processed/`, listo para su uso en el pipeline de entrenamiento y validación de modelos.\n"
   ]
  },
  {
   "cell_type": "code",
   "execution_count": 12,
   "id": "e795b7d1-9195-4a6a-aac3-7fb50d56dc28",
   "metadata": {},
   "outputs": [],
   "source": [
    "# Guardamos el dataset limpio #\n",
    "df_model.to_csv('../data/processed/phishtank_es_limpio.csv', index=False)\n"
   ]
  },
  {
   "cell_type": "code",
   "execution_count": null,
   "id": "8955718e-c100-4c4e-833c-e66508aa3cf1",
   "metadata": {},
   "outputs": [],
   "source": []
  },
  {
   "cell_type": "code",
   "execution_count": 13,
   "id": "70e91434-74ad-43e5-af57-3d6a8cdd8428",
   "metadata": {
    "scrolled": true
   },
   "outputs": [
    {
     "name": "stdout",
     "output_type": "stream",
     "text": [
      "6929     https://sites.google.com/view/asistenciabanrur...\n",
      "5440     https://docs.google.com/presentation/d/e/2PACX...\n",
      "4601     https://docs.google.com/presentation/d/1JtKtd3...\n",
      "3128     https://docs.google.com/presentation/d/e/2PACX...\n",
      "3160        https://my-business-105409-104969.square.site/\n",
      "8861     https://new.express.adobe.com/webpage/6LnyPvAz...\n",
      "7104     https://docs.google.com/presentation/d/e/2PACX...\n",
      "9447     https://docs.google.com/presentation/d/e/2PACX...\n",
      "3798     https://docs.google.com/presentation/d/e/2PACX...\n",
      "7879     https://docs.google.com/forms/d/e/1FAIpQLSeI3B...\n",
      "6571     https://docs.google.com/presentation/d/e/2PACX...\n",
      "1655                      https://correoserv25.weebly.com/\n",
      "7897     https://docs.google.com/presentation/d/e/2PACX...\n",
      "3894     https://docs.google.com/presentation/d/e/2PACX...\n",
      "538      http://86324.quickfixpm.com/17230/verify.php?c...\n",
      "6860           https://cpanel-webmail-bt3b20ettx.pages.dev\n",
      "2167            https://www.grwebsites.com/free/urheje/bte\n",
      "4336     https://firebasestorage.googleapis.com/v0/b/up...\n",
      "5421     https://docs.google.com/presentation/d/e/2PACX...\n",
      "7030     https://docs.google.com/presentation/d/e/2PACX...\n",
      "5226     https://docs.google.com/presentation/d/e/2PACX...\n",
      "11463    https://docs.google.com/presentation/d/e/2PACX...\n",
      "2751                   https://currentlyaccess.weebly.com/\n",
      "11349    https://367b6313-2b32-47dc-96e6-6c230801acdc.u...\n",
      "10141    https://new.express.adobe.com/webpage/0FbEDmOJ...\n",
      "11467    https://docs.google.com/presentation/d/e/2PACX...\n",
      "9963     https://new.express.adobe.com/webpage/Lj0Jm6ls...\n",
      "8196     https://forms.office.com/Pages/ResponsePage.as...\n",
      "763                                https://bancobest.life/\n",
      "8487     https://docs.google.com/presentation/d/e/2PACX...\n",
      "720      https://www.linamejias.com/wp-includes/interac...\n",
      "2527                https://representacoesfenix.com/update\n",
      "6392     https://forms.office.com/Pages/ResponsePage.as...\n",
      "3615     https://docs.google.com/presentation/d/e/2PACX...\n",
      "12283                   https://finlesuvr.firebaseapp.com/\n",
      "8630     https://docs.google.com/presentation/d/e/2PACX...\n",
      "9161                       https://druhklsjgsri.urest.org/\n",
      "3107        https://bussinesscenters-helppolicy.pages.dev/\n",
      "12390    https://docs.google.com/presentation/d/e/2PACX...\n",
      "10400                      https://atenciones-gt.biz.site/\n",
      "8679     https://l.wl.co/l?u=https://logsprocess.blogsp...\n",
      "6714     https://docs.google.com/presentation/d/e/2PACX...\n",
      "4110     https://docs.google.com/presentation/d/1msnQSQ...\n",
      "8327                    http://bsiteonline01.w3spaces.com/\n",
      "8156              https://bonheursources.godaddysites.com/\n",
      "6383     https://docs.google.com/presentation/d/e/2PACX...\n",
      "12006    http://38.209.148.132.host.secureserver.net/re...\n",
      "12247               https://htmlonlinloes.firebaseapp.com/\n",
      "2477        https://9kuponbri.bubbleapps.io/version-test/d\n",
      "7937     https://docs.google.com/presentation/d/e/2PACX...\n",
      "Name: url, dtype: object\n"
     ]
    }
   ],
   "source": [
    "#Mostramos 50 ejemplos para comprobar su pertenecencia al contexto español#\n",
    "muestra = df.sample(50, random_state = 42)\n",
    "print(muestra['url'])"
   ]
  },
  {
   "cell_type": "markdown",
   "id": "3ccef5ac-718d-4676-b9a9-3cd1b6fe8f71",
   "metadata": {},
   "source": [
    "## Análisis esploratorio"
   ]
  },
  {
   "cell_type": "markdown",
   "id": "6a6db4d4-dc76-46e7-b83e-0c446bbc71ff",
   "metadata": {},
   "source": [
    "**Filtrado avanzado por entidades españolas**\n",
    "\n",
    "Para evitar falsos positivos debidos a la presencia del `.es`, se eliminó de la lista de palabras clave.  \n",
    "El filtrado ahora solo considera referencias explícitas a bancos, operadores de telefonía, y organismos/servicios españoles, lo que reduce drásticamente el número de URLs seleccionadas pero incrementa la especificidad y la calidad del dataset para el contexto nacional.\n"
   ]
  },
  {
   "cell_type": "code",
   "execution_count": 14,
   "id": "b2d407a2-2cf9-47b7-80a8-6326704d388e",
   "metadata": {},
   "outputs": [
    {
     "name": "stdout",
     "output_type": "stream",
     "text": [
      "426\n",
      "     phish_id                                                url  \\\n",
      "7     9152687        http://allegrolokalnie.5483o23-3828n12.rest   \n",
      "51    9152177  https://pettenonxtrader.com.br/painel/includes...   \n",
      "81    9151754  https://docs.google.com/presentation/d/e/2PACX...   \n",
      "236   9149334     https://prevenciones-de-bloqueo2025.weebly.com   \n",
      "280   9148054  https://docs.google.com/presentation/d/e/2PACX...   \n",
      "437   9145504            https://facturation-autoroutes.com/pay/   \n",
      "492   9144146  https://idt.oc.cuenta.lonos-facturacion-1and1....   \n",
      "532   9143219  https://idt.oc.cuenta.lonos-facturacion-1and1....   \n",
      "576   9141721  https://kerstinc.org/es/?facturacion=314735738...   \n",
      "632   9140538              https://orangeinfos.godaddysites.com/   \n",
      "\n",
      "                                      phish_detail_url  \\\n",
      "7    http://www.phishtank.com/phish_detail.php?phis...   \n",
      "51   http://www.phishtank.com/phish_detail.php?phis...   \n",
      "81   http://www.phishtank.com/phish_detail.php?phis...   \n",
      "236  http://www.phishtank.com/phish_detail.php?phis...   \n",
      "280  http://www.phishtank.com/phish_detail.php?phis...   \n",
      "437  http://www.phishtank.com/phish_detail.php?phis...   \n",
      "492  http://www.phishtank.com/phish_detail.php?phis...   \n",
      "532  http://www.phishtank.com/phish_detail.php?phis...   \n",
      "576  http://www.phishtank.com/phish_detail.php?phis...   \n",
      "632  http://www.phishtank.com/phish_detail.php?phis...   \n",
      "\n",
      "               submission_time verified          verification_time online  \\\n",
      "7    2025-07-11T07:23:16+00:00      yes  2025-07-11T07:32:38+00:00    yes   \n",
      "51   2025-07-10T15:16:10+00:00      yes  2025-07-10T15:21:46+00:00    yes   \n",
      "81   2025-07-10T00:51:35+00:00      yes  2025-07-10T01:22:04+00:00    yes   \n",
      "236  2025-07-07T19:29:13+00:00      yes  2025-07-07T20:22:02+00:00    yes   \n",
      "280  2025-07-06T04:50:59+00:00      yes  2025-07-06T05:03:10+00:00    yes   \n",
      "437  2025-07-03T13:20:19+00:00      yes  2025-07-03T14:52:11+00:00    yes   \n",
      "492  2025-07-02T11:08:15+00:00      yes  2025-07-02T11:11:52+00:00    yes   \n",
      "532  2025-07-01T12:54:30+00:00      yes  2025-07-01T13:02:57+00:00    yes   \n",
      "576  2025-06-30T04:05:17+00:00      yes  2025-06-30T04:11:50+00:00    yes   \n",
      "632  2025-06-28T01:19:32+00:00      yes  2025-06-28T01:32:31+00:00    yes   \n",
      "\n",
      "      target  \n",
      "7    Allegro  \n",
      "51     Other  \n",
      "81     Other  \n",
      "236    Other  \n",
      "280    Other  \n",
      "437    Other  \n",
      "492    Other  \n",
      "532    Other  \n",
      "576    Other  \n",
      "632    Other  \n"
     ]
    }
   ],
   "source": [
    "#Aplicamos el filtro de palabras clave#\n",
    "palabras_clave = [\n",
    "    # Bancos\n",
    "    'caixabank', 'bbva', 'santander', 'bankinter', 'sabadell', 'unicaja', 'openbank', 'iberCaja',\n",
    "    # Telcos\n",
    "    'orange', 'movistar', 'vodafone', 'jazztel', 'masmovil', 'yoigo', 'telecable', 'lowi', 'o2',\n",
    "    # Servicios y administración\n",
    "    'correos', 'sepe', 'mapfre', 'aeat', 'renfe', 'iberdrola', 'suma', 'factura', 'dgt', 'hacienda', 'seg-social', 'salud', 'inss'\n",
    "]\n",
    "\n",
    "mask = df['url'].str.contains('|'.join(palabras_clave), case = False, na = False)\n",
    "print(mask.sum()) #Número de urls que cumplen el filtro#\n",
    "df_filtrado = df[mask]\n",
    "print(df_filtrado.head(10))\n",
    "\n",
    "#Seleccionamos las columnas necesarias\n",
    "df_util = df_filtrado[['url']].copy()\n",
    "df_util['label'] = 1 #Son todas phishing#\n",
    "\n",
    "# 3. Guardamos el DataFrame limpio\n",
    "df_util.to_csv('../data/processed/phishing_espanol_estricto.csv', index=False)\n"
   ]
  },
  {
   "cell_type": "markdown",
   "id": "5b14a949-0d69-4ae1-87af-817b0b1f3a94",
   "metadata": {},
   "source": [
    "### Resumen del filtrado y análisis de resultados\n",
    "Tras aplicar el filtrado por palabras clave, el número de URLs se ha reducido considerablemente.\n",
    "\n",
    "A continuación se presenta una gráfica con el número de URLs para cada entidad."
   ]
  },
  {
   "cell_type": "code",
   "execution_count": 15,
   "id": "7ec780a5-dca8-470b-b3ea-0f9893f21347",
   "metadata": {},
   "outputs": [
    {
     "name": "stdout",
     "output_type": "stream",
     "text": [
      "caixabank: 2 URLs\n",
      "bbva: 6 URLs\n",
      "santander: 2 URLs\n",
      "bankinter: 0 URLs\n",
      "sabadell: 0 URLs\n",
      "unicaja: 0 URLs\n",
      "openbank: 0 URLs\n",
      "iberCaja: 0 URLs\n",
      "orange: 76 URLs\n",
      "movistar: 0 URLs\n",
      "vodafone: 0 URLs\n",
      "jazztel: 0 URLs\n",
      "masmovil: 0 URLs\n",
      "yoigo: 0 URLs\n",
      "telecable: 0 URLs\n",
      "lowi: 0 URLs\n",
      "o2: 270 URLs\n",
      "correos: 18 URLs\n",
      "sepe: 3 URLs\n",
      "mapfre: 0 URLs\n",
      "aeat: 0 URLs\n",
      "renfe: 0 URLs\n",
      "iberdrola: 0 URLs\n",
      "suma: 1 URLs\n",
      "factura: 7 URLs\n",
      "dgt: 40 URLs\n",
      "hacienda: 0 URLs\n",
      "seg-social: 0 URLs\n",
      "salud: 1 URLs\n",
      "inss: 0 URLs\n"
     ]
    }
   ],
   "source": [
    "conteos = {}\n",
    "for palabra in palabras_clave:\n",
    "    n = df[df['url'].str.contains(palabra, case=False, na=False)].shape[0]\n",
    "    conteos[palabra] = n\n",
    "    print(f\"{palabra}: {n} URLs\")\n"
   ]
  },
  {
   "cell_type": "markdown",
   "id": "50530286-6951-4b37-a23f-a27824c2b730",
   "metadata": {},
   "source": [
    "## Visualización"
   ]
  },
  {
   "cell_type": "code",
   "execution_count": 16,
   "id": "a6d458ff-caf4-4b13-8cb6-815008074621",
   "metadata": {},
   "outputs": [
    {
     "data": {
      "image/png": "[encoded data removed]",
      "text/plain": [
       "<Figure size 1000x500 with 1 Axes>"
      ]
     },
     "metadata": {},
     "output_type": "display_data"
    }
   ],
   "source": [
    "# Gráfico de barras para frecuencia de entidades\n",
    "import matplotlib.pyplot as plt\n",
    "\n",
    "df_empresas = pd.DataFrame(list(conteos.items()), columns=['Entidad', 'Nº URLs'])\n",
    "df_empresas = df_empresas[df_empresas['Nº URLs'] > 0].sort_values('Nº URLs', ascending=False)\n",
    "\n",
    "plt.figure(figsize=(10,5))\n",
    "plt.bar(df_empresas['Entidad'], df_empresas['Nº URLs'])\n",
    "plt.xticks(rotation=45)\n",
    "plt.title('Frecuencia de phishing por entidad española')\n",
    "plt.xlabel('Entidad')\n",
    "plt.ylabel('Nº de URLs')\n",
    "plt.tight_layout()\n",
    "plt.show()\n"
   ]
  },
  {
   "cell_type": "markdown",
   "id": "eb132cf2-e2a4-4fc7-83ce-10b63ae40869",
   "metadata": {},
   "source": [
    "> Se observa que entidades como Orange y O2 concentran la mayor parte de los casos detectados, mientras que la mayoría de bancos y otros servicios apenas tienen presencia.\n",
    "> Muchas de las URLs detectadas con la palabra clave \"o2\" pueden corresponder a campañas internacionales o estar dirigidas a usuarios fuera del contexto español. \n",
    "> Esto pone de manifiesto la escasez de datos específicamente españoles y la necesidad de buscar fuentes adicionales para futuras mejoras.\n"
   ]
  },
  {
   "cell_type": "markdown",
   "id": "7630bb8e-240e-4ba5-9d18-781432410fb4",
   "metadata": {},
   "source": [
    "## Conclusiones\n",
    "\n",
    "A pesar del filtrado por palabras clave, el número de URLs específicamente dirigidas a entidades españolas es muy reducido. Esto limita la capacidad del modelo para aprender patrones verdaderamente adaptados al contexto nacional. En futuros desarrollos, se recomienda:\n",
    "- Buscar feeds o repositorios españoles de phishing (INCIBE, CERT, foros, etc.).\n",
    "- Automatizar la recolección de campañas dirigidas a empresas/servicios en España.\n",
    "- Implementar revisión manual o colaborativa para anotar casos dudosos.\n"
   ]
  }
 ],
 "metadata": {
  "kernelspec": {
   "display_name": "Python (phishing-env)",
   "language": "python",
   "name": "phishing-env"
  },
  "language_info": {
   "codemirror_mode": {
    "name": "ipython",
    "version": 3
   },
   "file_extension": ".py",
   "mimetype": "text/x-python",
   "name": "python",
   "nbconvert_exporter": "python",
   "pygments_lexer": "ipython3",
   "version": "3.10.18"
  }
 },
 "nbformat": 4,
 "nbformat_minor": 5
}
