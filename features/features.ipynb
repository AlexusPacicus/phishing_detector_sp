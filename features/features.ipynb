{
 "cells": [
  {
   "cell_type": "code",
   "execution_count": 37,
   "id": "2cb614ff-3e7d-4607-97d8-d3031bdbd3e7",
   "metadata": {},
   "outputs": [
    {
     "data": {
      "text/html": [
       "<div>\n",
       "<style scoped>\n",
       "    .dataframe tbody tr th:only-of-type {\n",
       "        vertical-align: middle;\n",
       "    }\n",
       "\n",
       "    .dataframe tbody tr th {\n",
       "        vertical-align: top;\n",
       "    }\n",
       "\n",
       "    .dataframe thead th {\n",
       "        text-align: right;\n",
       "    }\n",
       "</style>\n",
       "<table border=\"1\" class=\"dataframe\">\n",
       "  <thead>\n",
       "    <tr style=\"text-align: right;\">\n",
       "      <th></th>\n",
       "      <th>url</th>\n",
       "      <th>label</th>\n",
       "      <th>categoria</th>\n",
       "      <th>matched_target</th>\n",
       "      <th>notas</th>\n",
       "      <th>campaign</th>\n",
       "    </tr>\n",
       "  </thead>\n",
       "  <tbody>\n",
       "    <tr>\n",
       "      <th>0</th>\n",
       "      <td>https://www.caixabank.es/particular/banca-digi...</td>\n",
       "      <td>0</td>\n",
       "      <td>banca</td>\n",
       "      <td>caixabank</td>\n",
       "      <td>home bancaria oficial</td>\n",
       "      <td>NaN</td>\n",
       "    </tr>\n",
       "    <tr>\n",
       "      <th>1</th>\n",
       "      <td>https://accounts.google.com/ServiceLogin?servi...</td>\n",
       "      <td>0</td>\n",
       "      <td>saas</td>\n",
       "      <td>google</td>\n",
       "      <td>login Google oficial</td>\n",
       "      <td>NaN</td>\n",
       "    </tr>\n",
       "    <tr>\n",
       "      <th>2</th>\n",
       "      <td>https://www.roblox.com/es/upgrades/robux?ctx=n...</td>\n",
       "      <td>0</td>\n",
       "      <td>gaming</td>\n",
       "      <td>roblox</td>\n",
       "      <td>portal Roblox oficial</td>\n",
       "      <td>NaN</td>\n",
       "    </tr>\n",
       "    <tr>\n",
       "      <th>3</th>\n",
       "      <td>https://zoom.us/es/join</td>\n",
       "      <td>0</td>\n",
       "      <td>saas</td>\n",
       "      <td>zoom</td>\n",
       "      <td>página de reuniones Zoom oficial</td>\n",
       "      <td>NaN</td>\n",
       "    </tr>\n",
       "    <tr>\n",
       "      <th>4</th>\n",
       "      <td>https://www.roblox.com/es/login</td>\n",
       "      <td>0</td>\n",
       "      <td>gaming</td>\n",
       "      <td>roblox</td>\n",
       "      <td>login Roblox oficial</td>\n",
       "      <td>NaN</td>\n",
       "    </tr>\n",
       "  </tbody>\n",
       "</table>\n",
       "</div>"
      ],
      "text/plain": [
       "                                                 url  label categoria  \\\n",
       "0  https://www.caixabank.es/particular/banca-digi...      0     banca   \n",
       "1  https://accounts.google.com/ServiceLogin?servi...      0      saas   \n",
       "2  https://www.roblox.com/es/upgrades/robux?ctx=n...      0    gaming   \n",
       "3                            https://zoom.us/es/join      0      saas   \n",
       "4                    https://www.roblox.com/es/login      0    gaming   \n",
       "\n",
       "  matched_target                             notas campaign  \n",
       "0      caixabank             home bancaria oficial      NaN  \n",
       "1         google              login Google oficial      NaN  \n",
       "2         roblox             portal Roblox oficial      NaN  \n",
       "3           zoom  página de reuniones Zoom oficial      NaN  \n",
       "4         roblox              login Roblox oficial      NaN  "
      ]
     },
     "execution_count": 37,
     "metadata": {},
     "output_type": "execute_result"
    }
   ],
   "source": [
    "#  Introducción\n",
    "\"\"\"\n",
    "Feature Engineering – Prototipo Phishing\n",
    "Objetivo: probar primeras features en dataset balanceado (100 phishing, 100 legítimas).\n",
    "\"\"\"\n",
    "\n",
    "import pandas as pd\n",
    "import numpy as np\n",
    "import tldextract\n",
    "from collections import Counter\n",
    "import math\n",
    "\n",
    "# Cargar dataset\n",
    "df = pd.read_csv(\"../data/dataset/dataset_prototipo.csv\")\n",
    "df.head()\n"
   ]
  },
  {
   "cell_type": "code",
   "execution_count": 2,
   "id": "c48dfa14-11f6-410e-b865-0bee7615c25e",
   "metadata": {},
   "outputs": [],
   "source": [
    "# 2. Funciones auxiliares\n",
    "\n",
    "def domain_entropy(domain: str) -> float:\n",
    "    \"\"\"Calcula la entropía de un dominio.\"\"\"\n",
    "    counter = Counter(domain)\n",
    "    probs = [freq/len(domain) for freq in counter.values()]\n",
    "    return -sum(p * math.log2(p) for p in probs)\n"
   ]
  },
  {
   "cell_type": "code",
   "execution_count": 3,
   "id": "81f1f6a1-3cf8-4117-bcec-f80dfad53d63",
   "metadata": {},
   "outputs": [
    {
     "name": "stdout",
     "output_type": "stream",
     "text": [
      "Distribución longitud de dominio:\n",
      "       count   mean       std  min  25%   50%   75%   max\n",
      "label                                                    \n",
      "0      100.0   8.14  3.840297  3.0  5.0   8.0  10.0  23.0\n",
      "1      100.0  11.27  5.116531  2.0  7.0  11.0  14.0  24.0\n"
     ]
    }
   ],
   "source": [
    "# 3. Feature: longitud de dominio\n",
    "df[\"domain\"] = df[\"url\"].apply(lambda x: tldextract.extract(x).domain)\n",
    "df[\"domain_length\"] = df[\"domain\"].str.len()\n",
    "\n",
    "print(\"Distribución longitud de dominio:\")\n",
    "print(df.groupby(\"label\")[\"domain_length\"].describe())\n"
   ]
  },
  {
   "cell_type": "code",
   "execution_count": 4,
   "id": "5de490a5-2a4f-4ab3-93af-8a1d199c602b",
   "metadata": {},
   "outputs": [
    {
     "name": "stdout",
     "output_type": "stream",
     "text": [
      "Distribución profundidad de ruta:\n",
      "       count  mean       std  min  25%  50%  75%  max\n",
      "label                                                \n",
      "0      100.0  4.18  1.472852  2.0  3.0  4.0  5.0  9.0\n",
      "1      100.0  3.32  1.081338  2.0  3.0  3.0  4.0  7.0\n"
     ]
    }
   ],
   "source": [
    "# 4. Feature: profundidad de ruta\n",
    "df[\"path_depth\"] = df[\"url\"].apply(lambda x: x.count(\"/\"))\n",
    "print(\"Distribución profundidad de ruta:\")\n",
    "print(df.groupby(\"label\")[\"path_depth\"].describe())\n"
   ]
  },
  {
   "cell_type": "code",
   "execution_count": 5,
   "id": "cdd73d68-6df5-4780-9bc1-c86d63b06ffa",
   "metadata": {},
   "outputs": [
    {
     "name": "stdout",
     "output_type": "stream",
     "text": [
      "Conteo de '@' por clase:\n",
      "label\n",
      "0    0\n",
      "1    2\n",
      "Name: contains_at, dtype: int64\n"
     ]
    }
   ],
   "source": [
    "# 5. Feature: contiene @\n",
    "df[\"contains_at\"] = df[\"url\"].apply(lambda x: 1 if \"@\" in x else 0)\n",
    "\n",
    "print(\"Conteo de '@' por clase:\")\n",
    "print(df.groupby(\"label\")[\"contains_at\"].sum())\n"
   ]
  },
  {
   "cell_type": "code",
   "execution_count": 6,
   "id": "cf0e69de-5071-437b-9980-e5ac56ccc4ed",
   "metadata": {},
   "outputs": [
    {
     "name": "stdout",
     "output_type": "stream",
     "text": [
      "Distribución entropía de dominio:\n",
      "       count      mean       std  min       25%       50%       75%       max\n",
      "label                                                                        \n",
      "0      100.0  2.474852  0.554276  1.5  1.921928  2.643599  2.924248  3.414441\n",
      "1      100.0  2.891224  0.631226  1.0  2.584963  3.090379  3.277613  3.821928\n"
     ]
    }
   ],
   "source": [
    "# Feature: entropía del dominio\n",
    "df[\"domain_entropy\"] = df[\"domain\"].apply(domain_entropy)\n",
    "\n",
    "print(\"Distribución entropía de dominio:\")\n",
    "print(df.groupby(\"label\")[\"domain_entropy\"].describe())\n"
   ]
  },
  {
   "cell_type": "code",
   "execution_count": 7,
   "id": "2d97ce30-1214-46af-a066-0de62d267a6c",
   "metadata": {},
   "outputs": [
    {
     "name": "stdout",
     "output_type": "stream",
     "text": [
      "Distribución de número de parámetros:\n",
      "       count  mean       std  min  25%  50%  75%  max\n",
      "label                                                \n",
      "0      100.0  0.04  0.242878  0.0  0.0  0.0  0.0  2.0\n",
      "1      100.0  0.09  0.320826  0.0  0.0  0.0  0.0  2.0\n"
     ]
    }
   ],
   "source": [
    "# Feature: número de parámetros en query\n",
    "from urllib.parse import urlparse\n",
    "\n",
    "def count_params(url: str) -> int:\n",
    "    parsed = urlparse(url)\n",
    "    if parsed.query == \"\":\n",
    "        return 0\n",
    "    return len(parsed.query.split(\"&\"))\n",
    "\n",
    "df[\"num_params\"] = df[\"url\"].apply(count_params)\n",
    "\n",
    "print(\"Distribución de número de parámetros:\")\n",
    "print(df.groupby(\"label\")[\"num_params\"].describe())\n"
   ]
  },
  {
   "cell_type": "code",
   "execution_count": 8,
   "id": "58914056-fc6d-496e-8848-a4323d8bdde4",
   "metadata": {},
   "outputs": [
    {
     "name": "stdout",
     "output_type": "stream",
     "text": [
      "Conteo de '%' por clase:\n",
      "label\n",
      "0    0\n",
      "1    6\n",
      "Name: contains_percent, dtype: int64\n",
      "\n",
      "Distribución de '%' por clase:\n",
      "label\n",
      "0    0.00\n",
      "1    0.06\n",
      "Name: contains_percent, dtype: float64\n"
     ]
    }
   ],
   "source": [
    "# Feature: contiene '%'\n",
    "df[\"contains_percent\"] = df[\"url\"].apply(lambda x: 1 if \"%\" in x else 0)\n",
    "\n",
    "print(\"Conteo de '%' por clase:\")\n",
    "print(df.groupby(\"label\")[\"contains_percent\"].sum())\n",
    "\n",
    "print(\"\\nDistribución de '%' por clase:\")\n",
    "print(df.groupby(\"label\")[\"contains_percent\"].mean())\n"
   ]
  },
  {
   "cell_type": "code",
   "execution_count": 9,
   "id": "b1eec210-71dd-4514-9957-1e442be1c75c",
   "metadata": {},
   "outputs": [
    {
     "name": "stdout",
     "output_type": "stream",
     "text": [
      "Distribución de puntos en URL completa:\n",
      "       count  mean       std  min   25%  50%  75%  max\n",
      "label                                                 \n",
      "0      100.0  2.12  0.477367  1.0  2.00  2.0  2.0  4.0\n",
      "1      100.0  1.96  0.777460  1.0  1.75  2.0  2.0  5.0\n"
     ]
    }
   ],
   "source": [
    "# Feature: número de '.' en toda la URL\n",
    "df[\"dots_in_url\"] = df[\"url\"].apply(lambda x: x.count(\".\"))\n",
    "\n",
    "print(\"Distribución de puntos en URL completa:\")\n",
    "print(df.groupby(\"label\")[\"dots_in_url\"].describe())\n"
   ]
  },
  {
   "cell_type": "code",
   "execution_count": 10,
   "id": "c3e3dd8c-b1ae-4111-a9d0-8e1a3058a7a7",
   "metadata": {},
   "outputs": [
    {
     "name": "stdout",
     "output_type": "stream",
     "text": [
      "Distribución de puntos en dominio:\n",
      "       count  mean       std  min  25%  50%  75%  max\n",
      "label                                                \n",
      "0      100.0  0.97  0.264193  0.0  1.0  1.0  1.0  2.0\n",
      "1      100.0  0.69  0.706321  0.0  0.0  1.0  1.0  4.0\n"
     ]
    }
   ],
   "source": [
    "# Feature: número de puntos en el dominio\n",
    "df[\"dots_in_domain\"] = df[\"url\"].apply(lambda x: tldextract.extract(x).subdomain.count(\".\") + 1 if tldextract.extract(x).subdomain else 0)\n",
    "\n",
    "print(\"Distribución de puntos en dominio:\")\n",
    "print(df.groupby(\"label\")[\"dots_in_domain\"].describe())\n"
   ]
  },
  {
   "cell_type": "code",
   "execution_count": 11,
   "id": "1ea58f1a-8c07-4758-b6ab-f1e978489566",
   "metadata": {},
   "outputs": [
    {
     "name": "stdout",
     "output_type": "stream",
     "text": [
      "Conteo de '=' por clase:\n",
      "label\n",
      "0    3\n",
      "1    8\n",
      "Name: contains_equal, dtype: int64\n",
      "\n",
      "Distribución de '=' por clase:\n",
      "label\n",
      "0    0.03\n",
      "1    0.08\n",
      "Name: contains_equal, dtype: float64\n"
     ]
    }
   ],
   "source": [
    "# Feature: contiene '='\n",
    "df[\"contains_equal\"] = df[\"url\"].apply(lambda x: 1 if \"=\" in x else 0)\n",
    "\n",
    "print(\"Conteo de '=' por clase:\")\n",
    "print(df.groupby(\"label\")[\"contains_equal\"].sum())\n",
    "\n",
    "print(\"\\nDistribución de '=' por clase:\")\n",
    "print(df.groupby(\"label\")[\"contains_equal\"].mean())\n"
   ]
  },
  {
   "cell_type": "code",
   "execution_count": 12,
   "id": "b8a6a1b3-35a9-418e-b897-905e1acc9d1f",
   "metadata": {},
   "outputs": [
    {
     "name": "stdout",
     "output_type": "stream",
     "text": [
      "Conteo de protocolos por clase:\n",
      "label  protocol\n",
      "0      1           100\n",
      "1      1            85\n",
      "       0            15\n",
      "Name: count, dtype: int64\n",
      "\n",
      "Distribución de https por clase:\n",
      "label\n",
      "0    1.00\n",
      "1    0.85\n",
      "Name: protocol, dtype: float64\n"
     ]
    }
   ],
   "source": [
    "# Feature: protocolo (http = 0, https = 1)\n",
    "df[\"protocol\"] = df[\"url\"].apply(lambda x: 1 if x.startswith(\"https\") else 0)\n",
    "\n",
    "print(\"Conteo de protocolos por clase:\")\n",
    "print(df.groupby(\"label\")[\"protocol\"].value_counts())\n",
    "\n",
    "print(\"\\nDistribución de https por clase:\")\n",
    "print(df.groupby(\"label\")[\"protocol\"].mean())\n"
   ]
  },
  {
   "cell_type": "code",
   "execution_count": 13,
   "id": "8c9b086a-f8d8-4371-951b-62e432f172e7",
   "metadata": {},
   "outputs": [
    {
     "name": "stdout",
     "output_type": "stream",
     "text": [
      "Top TLDs en legítimas:\n",
      "tld\n",
      "es         59\n",
      "com        34\n",
      "gob.es      4\n",
      "us          1\n",
      "network     1\n",
      "net         1\n",
      "Name: count, dtype: int64\n",
      "\n",
      "Top TLDs en phishing:\n",
      "tld\n",
      "com        44\n",
      "es         15\n",
      "me          5\n",
      "app         5\n",
      "com.es      5\n",
      "net         4\n",
      "digital     4\n",
      "info        3\n",
      "io          2\n",
      "top         2\n",
      "Name: count, dtype: int64\n"
     ]
    }
   ],
   "source": [
    "# Feature: TLD de la URL\n",
    "df[\"tld\"] = df[\"url\"].apply(lambda x: tldextract.extract(x).suffix)\n",
    "\n",
    "print(\"Top TLDs en legítimas:\")\n",
    "print(df[df[\"label\"] == 0][\"tld\"].value_counts().head(10))\n",
    "\n",
    "print(\"\\nTop TLDs en phishing:\")\n",
    "print(df[df[\"label\"] == 1][\"tld\"].value_counts().head(10))\n"
   ]
  },
  {
   "cell_type": "code",
   "execution_count": 14,
   "id": "227d6600-0f5b-4361-bd1b-9940027b9858",
   "metadata": {},
   "outputs": [
    {
     "name": "stdout",
     "output_type": "stream",
     "text": [
      "\n",
      "Distribución de TLD agrupados por clase:\n",
      "label  tld_group\n",
      "0      es           0.59\n",
      "       com          0.34\n",
      "       otros        0.07\n",
      "1      com          0.44\n",
      "       otros        0.41\n",
      "       es           0.15\n",
      "Name: proportion, dtype: float64\n"
     ]
    }
   ],
   "source": [
    "# Agrupamos en \"es\", \"com\" y \"otros\"\n",
    "def tld_group(tld: str) -> str:\n",
    "    if tld == \"es\":\n",
    "        return \"es\"\n",
    "    elif tld == \"com\":\n",
    "        return \"com\"\n",
    "    else:\n",
    "        return \"otros\"\n",
    "\n",
    "df[\"tld_group\"] = df[\"tld\"].apply(tld_group)\n",
    "\n",
    "print(\"\\nDistribución de TLD agrupados por clase:\")\n",
    "print(df.groupby(\"label\")[\"tld_group\"].value_counts(normalize=True))\n"
   ]
  },
  {
   "cell_type": "code",
   "execution_count": 15,
   "id": "a8e49944-ae9f-4f4b-95f0-7ab2a6657726",
   "metadata": {},
   "outputs": [
    {
     "name": "stdout",
     "output_type": "stream",
     "text": [
      "Conteo de tokens sospechosos en ruta por clase:\n",
      "label\n",
      "0    10\n",
      "1    20\n",
      "Name: suspicious_path_token, dtype: int64\n",
      "\n",
      "Distribución de tokens sospechosos en ruta por clase:\n",
      "label\n",
      "0    0.1\n",
      "1    0.2\n",
      "Name: suspicious_path_token, dtype: float64\n"
     ]
    }
   ],
   "source": [
    "# Feature: tokens sospechosos en la ruta\n",
    "SUSPICIOUS_TOKENS = [\"php\", \"html\", \"index\", \"view\", \"principal\"]\n",
    "\n",
    "def has_suspicious_token(url: str) -> int:\n",
    "    path = urlparse(url).path.lower()\n",
    "    return 1 if any(tok in path for tok in SUSPICIOUS_TOKENS) else 0\n",
    "\n",
    "df[\"suspicious_path_token\"] = df[\"url\"].apply(has_suspicious_token)\n",
    "\n",
    "print(\"Conteo de tokens sospechosos en ruta por clase:\")\n",
    "print(df.groupby(\"label\")[\"suspicious_path_token\"].sum())\n",
    "\n",
    "print(\"\\nDistribución de tokens sospechosos en ruta por clase:\")\n",
    "print(df.groupby(\"label\")[\"suspicious_path_token\"].mean())\n"
   ]
  },
  {
   "cell_type": "code",
   "execution_count": 16,
   "id": "bb5dc3dd-651e-46c1-8c48-fe40765f5e47",
   "metadata": {},
   "outputs": [
    {
     "name": "stdout",
     "output_type": "stream",
     "text": [
      "       count  mean       std  min  25%  50%  75%  max\n",
      "label                                                \n",
      "0      100.0  5.16  0.443129  5.0  5.0  5.0  5.0  7.0\n",
      "1      100.0  5.29  0.807728  4.0  5.0  5.0  6.0  8.0\n"
     ]
    }
   ],
   "source": [
    "feature_cols = [\"domain_length\", \"path_depth\", \"domain_entropy\", \n",
    "                \"num_params\", \"contains_at\", \"contains_percent\", \n",
    "                \"contains_equal\", \"protocol\", \"tld_group\", \n",
    "                \"suspicious_path_token\"]\n",
    "\n",
    "df[\"features_sum\"] = df[feature_cols].apply(lambda row: sum([1 if v != 0 else 0 for v in row]), axis=1)\n",
    "\n",
    "print(df.groupby(\"label\")[\"features_sum\"].describe())\n"
   ]
  },
  {
   "cell_type": "code",
   "execution_count": 17,
   "id": "f7be43ee-2605-4aff-9548-c624b7c16d96",
   "metadata": {},
   "outputs": [
    {
     "name": "stdout",
     "output_type": "stream",
     "text": [
      "✅ Features exportadas a features/features_prototipo.csv\n",
      "Shape final: (200, 12)\n"
     ]
    },
    {
     "data": {
      "text/html": [
       "<div>\n",
       "<style scoped>\n",
       "    .dataframe tbody tr th:only-of-type {\n",
       "        vertical-align: middle;\n",
       "    }\n",
       "\n",
       "    .dataframe tbody tr th {\n",
       "        vertical-align: top;\n",
       "    }\n",
       "\n",
       "    .dataframe thead th {\n",
       "        text-align: right;\n",
       "    }\n",
       "</style>\n",
       "<table border=\"1\" class=\"dataframe\">\n",
       "  <thead>\n",
       "    <tr style=\"text-align: right;\">\n",
       "      <th></th>\n",
       "      <th>url</th>\n",
       "      <th>label</th>\n",
       "      <th>domain_length</th>\n",
       "      <th>path_depth</th>\n",
       "      <th>domain_entropy</th>\n",
       "      <th>num_params</th>\n",
       "      <th>contains_at</th>\n",
       "      <th>contains_percent</th>\n",
       "      <th>contains_equal</th>\n",
       "      <th>protocol</th>\n",
       "      <th>tld_group</th>\n",
       "      <th>suspicious_path_token</th>\n",
       "    </tr>\n",
       "  </thead>\n",
       "  <tbody>\n",
       "    <tr>\n",
       "      <th>0</th>\n",
       "      <td>https://www.caixabank.es/particular/banca-digi...</td>\n",
       "      <td>0</td>\n",
       "      <td>9</td>\n",
       "      <td>4</td>\n",
       "      <td>2.641604</td>\n",
       "      <td>0</td>\n",
       "      <td>0</td>\n",
       "      <td>0</td>\n",
       "      <td>0</td>\n",
       "      <td>1</td>\n",
       "      <td>es</td>\n",
       "      <td>1</td>\n",
       "    </tr>\n",
       "    <tr>\n",
       "      <th>1</th>\n",
       "      <td>https://accounts.google.com/ServiceLogin?servi...</td>\n",
       "      <td>0</td>\n",
       "      <td>6</td>\n",
       "      <td>3</td>\n",
       "      <td>1.918296</td>\n",
       "      <td>1</td>\n",
       "      <td>0</td>\n",
       "      <td>0</td>\n",
       "      <td>1</td>\n",
       "      <td>1</td>\n",
       "      <td>com</td>\n",
       "      <td>0</td>\n",
       "    </tr>\n",
       "    <tr>\n",
       "      <th>2</th>\n",
       "      <td>https://www.roblox.com/es/upgrades/robux?ctx=n...</td>\n",
       "      <td>0</td>\n",
       "      <td>6</td>\n",
       "      <td>5</td>\n",
       "      <td>2.251629</td>\n",
       "      <td>1</td>\n",
       "      <td>0</td>\n",
       "      <td>0</td>\n",
       "      <td>1</td>\n",
       "      <td>1</td>\n",
       "      <td>com</td>\n",
       "      <td>0</td>\n",
       "    </tr>\n",
       "    <tr>\n",
       "      <th>3</th>\n",
       "      <td>https://zoom.us/es/join</td>\n",
       "      <td>0</td>\n",
       "      <td>4</td>\n",
       "      <td>4</td>\n",
       "      <td>1.500000</td>\n",
       "      <td>0</td>\n",
       "      <td>0</td>\n",
       "      <td>0</td>\n",
       "      <td>0</td>\n",
       "      <td>1</td>\n",
       "      <td>otros</td>\n",
       "      <td>0</td>\n",
       "    </tr>\n",
       "    <tr>\n",
       "      <th>4</th>\n",
       "      <td>https://www.roblox.com/es/login</td>\n",
       "      <td>0</td>\n",
       "      <td>6</td>\n",
       "      <td>4</td>\n",
       "      <td>2.251629</td>\n",
       "      <td>0</td>\n",
       "      <td>0</td>\n",
       "      <td>0</td>\n",
       "      <td>0</td>\n",
       "      <td>1</td>\n",
       "      <td>com</td>\n",
       "      <td>0</td>\n",
       "    </tr>\n",
       "  </tbody>\n",
       "</table>\n",
       "</div>"
      ],
      "text/plain": [
       "                                                 url  label  domain_length  \\\n",
       "0  https://www.caixabank.es/particular/banca-digi...      0              9   \n",
       "1  https://accounts.google.com/ServiceLogin?servi...      0              6   \n",
       "2  https://www.roblox.com/es/upgrades/robux?ctx=n...      0              6   \n",
       "3                            https://zoom.us/es/join      0              4   \n",
       "4                    https://www.roblox.com/es/login      0              6   \n",
       "\n",
       "   path_depth  domain_entropy  num_params  contains_at  contains_percent  \\\n",
       "0           4        2.641604           0            0                 0   \n",
       "1           3        1.918296           1            0                 0   \n",
       "2           5        2.251629           1            0                 0   \n",
       "3           4        1.500000           0            0                 0   \n",
       "4           4        2.251629           0            0                 0   \n",
       "\n",
       "   contains_equal  protocol tld_group  suspicious_path_token  \n",
       "0               0         1        es                      1  \n",
       "1               1         1       com                      0  \n",
       "2               1         1       com                      0  \n",
       "3               0         1     otros                      0  \n",
       "4               0         1       com                      0  "
      ]
     },
     "execution_count": 17,
     "metadata": {},
     "output_type": "execute_result"
    }
   ],
   "source": [
    "# Selección de columnas finales\n",
    "feature_cols = [\n",
    "    \"domain_length\",\n",
    "    \"path_depth\",\n",
    "    \"domain_entropy\",\n",
    "    \"num_params\",\n",
    "    \"contains_at\",\n",
    "    \"contains_percent\",\n",
    "    \"contains_equal\",\n",
    "    \"protocol\",\n",
    "    \"tld_group\",\n",
    "    \"suspicious_path_token\"\n",
    "]\n",
    "\n",
    "# Dataset con features + label + url\n",
    "features_final = df[[\"url\", \"label\"] + feature_cols]\n",
    "\n",
    "print(\"✅ Features exportadas a features/features_prototipo.csv\")\n",
    "print(\"Shape final:\", features_final.shape)\n",
    "features_final.head()\n"
   ]
  },
  {
   "cell_type": "code",
   "execution_count": 19,
   "id": "c90fd29c-e53a-4dca-acef-41de6a792015",
   "metadata": {},
   "outputs": [],
   "source": [
    "import matplotlib.pyplot as plt\n",
    "import seaborn as sns\n",
    "\n",
    "numeric_features = [\"domain_length\", \"path_depth\", \"domain_entropy\", \"num_params\"]\n",
    "\n",
    "for col in numeric_features:\n",
    "    plt.figure(figsize=(6,4))\n",
    "    sns.boxplot(x=\"label\", y=col, data=features_final)\n",
    "    plt.title(f\"Distribución de {col} por clase (0=legítima, 1=phishing)\")\n",
    "    plt.savefig(f\"features/img/{col}_boxplot.png\", dpi=120, bbox_inches=\"tight\")\n",
    "    plt.close()\n"
   ]
  },
  {
   "cell_type": "code",
   "execution_count": 20,
   "id": "ec75efbd-9002-47c7-967e-e2ce875ce6e0",
   "metadata": {},
   "outputs": [],
   "source": [
    "binary_features = [\"contains_at\", \"contains_percent\", \"contains_equal\", \n",
    "                   \"protocol\", \"tld_group\", \"suspicious_path_token\"]\n",
    "\n",
    "for col in binary_features:\n",
    "    plt.figure(figsize=(6,4))\n",
    "    sns.countplot(x=col, hue=\"label\", data=features_final)\n",
    "    plt.title(f\"{col} por clase (0=legítima, 1=phishing)\")\n",
    "    plt.savefig(f\"features/img/{col}_barplot.png\", dpi=120, bbox_inches=\"tight\")\n",
    "    plt.close()\n"
   ]
  },
  {
   "cell_type": "code",
   "execution_count": 22,
   "id": "cff2771c-439b-4707-9c79-10752b425079",
   "metadata": {},
   "outputs": [
    {
     "name": "stdout",
     "output_type": "stream",
     "text": [
      "Conteo de free_hosting por clase:\n",
      "label\n",
      "0     0\n",
      "1    22\n",
      "Name: free_hosting, dtype: int64\n",
      "\n",
      "Distribución de free_hosting por clase:\n",
      "label\n",
      "0    0.00\n",
      "1    0.22\n",
      "Name: free_hosting, dtype: float64\n"
     ]
    },
    {
     "name": "stderr",
     "output_type": "stream",
     "text": [
      "/var/folders/fc/53j7mrrs40j5jvl09zqzrcqw0000gn/T/ipykernel_71788/1130617163.py:10: DeprecationWarning: The 'registered_domain' property is deprecated and will be removed in the next major version. Use 'top_domain_under_public_suffix' instead, which has the same behavior but a more accurate name.\n",
      "  domain = tldextract.extract(url).registered_domain.lower()\n"
     ]
    }
   ],
   "source": [
    "# Lista de dominios/hostings gratuitos comunes en phishing\n",
    "FREE_HOSTINGS = [\n",
    "    \"webcindario.com\", \"000webhostapp.com\", \"rf.gd\", \"hol.es\", \"biz.nf\",\n",
    "    \"blogspot.com\", \"wordpress.com\", \"weebly.com\", \"wix.com\",\n",
    "    \"web.app\", \"firebaseapp.com\", \"sites.google.com\", \"godaddysites.com\",\n",
    "    \"ead.me\", \"ucoz.net\", \"tk\", \"ml\", \"ga\", \"cf\", \"gq\"\n",
    "]\n",
    "\n",
    "def is_free_hosting(url: str) -> int:\n",
    "    domain = tldextract.extract(url).registered_domain.lower()\n",
    "    return 1 if any(host in domain for host in FREE_HOSTINGS) else 0\n",
    "\n",
    "df[\"free_hosting\"] = df[\"url\"].apply(is_free_hosting)\n",
    "\n",
    "print(\"Conteo de free_hosting por clase:\")\n",
    "print(df.groupby(\"label\")[\"free_hosting\"].sum())\n",
    "\n",
    "print(\"\\nDistribución de free_hosting por clase:\")\n",
    "print(df.groupby(\"label\")[\"free_hosting\"].mean())\n"
   ]
  },
  {
   "cell_type": "code",
   "execution_count": 23,
   "id": "4977e8f3-8330-4537-a9cf-6302e47a2404",
   "metadata": {},
   "outputs": [
    {
     "name": "stdout",
     "output_type": "stream",
     "text": [
      "✅ CSV actualizado con free_hosting guardado en features/features_prototipo.csv\n",
      "Shape final: (200, 12)\n"
     ]
    },
    {
     "data": {
      "text/html": [
       "<div>\n",
       "<style scoped>\n",
       "    .dataframe tbody tr th:only-of-type {\n",
       "        vertical-align: middle;\n",
       "    }\n",
       "\n",
       "    .dataframe tbody tr th {\n",
       "        vertical-align: top;\n",
       "    }\n",
       "\n",
       "    .dataframe thead th {\n",
       "        text-align: right;\n",
       "    }\n",
       "</style>\n",
       "<table border=\"1\" class=\"dataframe\">\n",
       "  <thead>\n",
       "    <tr style=\"text-align: right;\">\n",
       "      <th></th>\n",
       "      <th>url</th>\n",
       "      <th>label</th>\n",
       "      <th>domain_length</th>\n",
       "      <th>domain_entropy</th>\n",
       "      <th>num_params</th>\n",
       "      <th>contains_at</th>\n",
       "      <th>contains_percent</th>\n",
       "      <th>contains_equal</th>\n",
       "      <th>protocol</th>\n",
       "      <th>tld_group</th>\n",
       "      <th>suspicious_path_token</th>\n",
       "      <th>free_hosting</th>\n",
       "    </tr>\n",
       "  </thead>\n",
       "  <tbody>\n",
       "    <tr>\n",
       "      <th>0</th>\n",
       "      <td>https://www.caixabank.es/particular/banca-digi...</td>\n",
       "      <td>0</td>\n",
       "      <td>9</td>\n",
       "      <td>2.641604</td>\n",
       "      <td>0</td>\n",
       "      <td>0</td>\n",
       "      <td>0</td>\n",
       "      <td>0</td>\n",
       "      <td>1</td>\n",
       "      <td>es</td>\n",
       "      <td>1</td>\n",
       "      <td>0</td>\n",
       "    </tr>\n",
       "    <tr>\n",
       "      <th>1</th>\n",
       "      <td>https://accounts.google.com/ServiceLogin?servi...</td>\n",
       "      <td>0</td>\n",
       "      <td>6</td>\n",
       "      <td>1.918296</td>\n",
       "      <td>1</td>\n",
       "      <td>0</td>\n",
       "      <td>0</td>\n",
       "      <td>1</td>\n",
       "      <td>1</td>\n",
       "      <td>com</td>\n",
       "      <td>0</td>\n",
       "      <td>0</td>\n",
       "    </tr>\n",
       "    <tr>\n",
       "      <th>2</th>\n",
       "      <td>https://www.roblox.com/es/upgrades/robux?ctx=n...</td>\n",
       "      <td>0</td>\n",
       "      <td>6</td>\n",
       "      <td>2.251629</td>\n",
       "      <td>1</td>\n",
       "      <td>0</td>\n",
       "      <td>0</td>\n",
       "      <td>1</td>\n",
       "      <td>1</td>\n",
       "      <td>com</td>\n",
       "      <td>0</td>\n",
       "      <td>0</td>\n",
       "    </tr>\n",
       "    <tr>\n",
       "      <th>3</th>\n",
       "      <td>https://zoom.us/es/join</td>\n",
       "      <td>0</td>\n",
       "      <td>4</td>\n",
       "      <td>1.500000</td>\n",
       "      <td>0</td>\n",
       "      <td>0</td>\n",
       "      <td>0</td>\n",
       "      <td>0</td>\n",
       "      <td>1</td>\n",
       "      <td>otros</td>\n",
       "      <td>0</td>\n",
       "      <td>0</td>\n",
       "    </tr>\n",
       "    <tr>\n",
       "      <th>4</th>\n",
       "      <td>https://www.roblox.com/es/login</td>\n",
       "      <td>0</td>\n",
       "      <td>6</td>\n",
       "      <td>2.251629</td>\n",
       "      <td>0</td>\n",
       "      <td>0</td>\n",
       "      <td>0</td>\n",
       "      <td>0</td>\n",
       "      <td>1</td>\n",
       "      <td>com</td>\n",
       "      <td>0</td>\n",
       "      <td>0</td>\n",
       "    </tr>\n",
       "  </tbody>\n",
       "</table>\n",
       "</div>"
      ],
      "text/plain": [
       "                                                 url  label  domain_length  \\\n",
       "0  https://www.caixabank.es/particular/banca-digi...      0              9   \n",
       "1  https://accounts.google.com/ServiceLogin?servi...      0              6   \n",
       "2  https://www.roblox.com/es/upgrades/robux?ctx=n...      0              6   \n",
       "3                            https://zoom.us/es/join      0              4   \n",
       "4                    https://www.roblox.com/es/login      0              6   \n",
       "\n",
       "   domain_entropy  num_params  contains_at  contains_percent  contains_equal  \\\n",
       "0        2.641604           0            0                 0               0   \n",
       "1        1.918296           1            0                 0               1   \n",
       "2        2.251629           1            0                 0               1   \n",
       "3        1.500000           0            0                 0               0   \n",
       "4        2.251629           0            0                 0               0   \n",
       "\n",
       "   protocol tld_group  suspicious_path_token  free_hosting  \n",
       "0         1        es                      1             0  \n",
       "1         1       com                      0             0  \n",
       "2         1       com                      0             0  \n",
       "3         1     otros                      0             0  \n",
       "4         1       com                      0             0  "
      ]
     },
     "execution_count": 23,
     "metadata": {},
     "output_type": "execute_result"
    }
   ],
   "source": [
    "# Añadir la columna free_hosting al dataset final de features\n",
    "features_final = df[[\n",
    "    \"url\", \"label\", \"domain_length\", \"domain_entropy\", \"num_params\",\n",
    "    \"contains_at\", \"contains_percent\", \"contains_equal\",\n",
    "    \"protocol\", \"tld_group\", \"suspicious_path_token\", \"free_hosting\"\n",
    "]]\n",
    "\n",
    "# Guardar el CSV actualizado\n",
    "features_final.to_csv(\"features/features_prototipo.csv\", index=False)\n",
    "\n",
    "print(\"✅ CSV actualizado con free_hosting guardado en features/features_prototipo.csv\")\n",
    "print(\"Shape final:\", features_final.shape)\n",
    "features_final.head()\n"
   ]
  },
  {
   "cell_type": "code",
   "execution_count": 24,
   "id": "0f0f1dc9-eb2a-4da0-89c7-dcd106a168e6",
   "metadata": {},
   "outputs": [
    {
     "name": "stdout",
     "output_type": "stream",
     "text": [
      "Conteo de trusted_path_token por clase:\n",
      "label\n",
      "0    33\n",
      "1     5\n",
      "Name: trusted_path_token, dtype: int64\n",
      "\n",
      "Distribución de trusted_path_token por clase:\n",
      "label\n",
      "0    0.33\n",
      "1    0.05\n",
      "Name: trusted_path_token, dtype: float64\n"
     ]
    }
   ],
   "source": [
    "# Lista de tokens considerados \"legitimadores\"\n",
    "TRUSTED_TOKENS = [\"login\", \"clientes\", \"empresas\", \"banca\", \"seguridad\"]\n",
    "\n",
    "def has_trusted_token(url: str) -> int:\n",
    "    path = urlparse(url).path.lower()\n",
    "    return 1 if any(tok in path for tok in TRUSTED_TOKENS) else 0\n",
    "\n",
    "df[\"trusted_path_token\"] = df[\"url\"].apply(has_trusted_token)\n",
    "\n",
    "print(\"Conteo de trusted_path_token por clase:\")\n",
    "print(df.groupby(\"label\")[\"trusted_path_token\"].sum())\n",
    "\n",
    "print(\"\\nDistribución de trusted_path_token por clase:\")\n",
    "print(df.groupby(\"label\")[\"trusted_path_token\"].mean())"
   ]
  },
  {
   "cell_type": "code",
   "execution_count": 25,
   "id": "1972b58c-af85-4f55-ada1-eaea3665362c",
   "metadata": {},
   "outputs": [
    {
     "name": "stdout",
     "output_type": "stream",
     "text": [
      "✅ CSV actualizado con trusted_path_token guardado en features/features_prototipo.csv\n",
      "Shape final: (200, 13)\n"
     ]
    },
    {
     "data": {
      "text/html": [
       "<div>\n",
       "<style scoped>\n",
       "    .dataframe tbody tr th:only-of-type {\n",
       "        vertical-align: middle;\n",
       "    }\n",
       "\n",
       "    .dataframe tbody tr th {\n",
       "        vertical-align: top;\n",
       "    }\n",
       "\n",
       "    .dataframe thead th {\n",
       "        text-align: right;\n",
       "    }\n",
       "</style>\n",
       "<table border=\"1\" class=\"dataframe\">\n",
       "  <thead>\n",
       "    <tr style=\"text-align: right;\">\n",
       "      <th></th>\n",
       "      <th>url</th>\n",
       "      <th>label</th>\n",
       "      <th>domain_length</th>\n",
       "      <th>domain_entropy</th>\n",
       "      <th>num_params</th>\n",
       "      <th>contains_at</th>\n",
       "      <th>contains_percent</th>\n",
       "      <th>contains_equal</th>\n",
       "      <th>protocol</th>\n",
       "      <th>tld_group</th>\n",
       "      <th>suspicious_path_token</th>\n",
       "      <th>free_hosting</th>\n",
       "      <th>trusted_path_token</th>\n",
       "    </tr>\n",
       "  </thead>\n",
       "  <tbody>\n",
       "    <tr>\n",
       "      <th>0</th>\n",
       "      <td>https://www.caixabank.es/particular/banca-digi...</td>\n",
       "      <td>0</td>\n",
       "      <td>9</td>\n",
       "      <td>2.641604</td>\n",
       "      <td>0</td>\n",
       "      <td>0</td>\n",
       "      <td>0</td>\n",
       "      <td>0</td>\n",
       "      <td>1</td>\n",
       "      <td>es</td>\n",
       "      <td>1</td>\n",
       "      <td>0</td>\n",
       "      <td>1</td>\n",
       "    </tr>\n",
       "    <tr>\n",
       "      <th>1</th>\n",
       "      <td>https://accounts.google.com/ServiceLogin?servi...</td>\n",
       "      <td>0</td>\n",
       "      <td>6</td>\n",
       "      <td>1.918296</td>\n",
       "      <td>1</td>\n",
       "      <td>0</td>\n",
       "      <td>0</td>\n",
       "      <td>1</td>\n",
       "      <td>1</td>\n",
       "      <td>com</td>\n",
       "      <td>0</td>\n",
       "      <td>0</td>\n",
       "      <td>1</td>\n",
       "    </tr>\n",
       "    <tr>\n",
       "      <th>2</th>\n",
       "      <td>https://www.roblox.com/es/upgrades/robux?ctx=n...</td>\n",
       "      <td>0</td>\n",
       "      <td>6</td>\n",
       "      <td>2.251629</td>\n",
       "      <td>1</td>\n",
       "      <td>0</td>\n",
       "      <td>0</td>\n",
       "      <td>1</td>\n",
       "      <td>1</td>\n",
       "      <td>com</td>\n",
       "      <td>0</td>\n",
       "      <td>0</td>\n",
       "      <td>0</td>\n",
       "    </tr>\n",
       "    <tr>\n",
       "      <th>3</th>\n",
       "      <td>https://zoom.us/es/join</td>\n",
       "      <td>0</td>\n",
       "      <td>4</td>\n",
       "      <td>1.500000</td>\n",
       "      <td>0</td>\n",
       "      <td>0</td>\n",
       "      <td>0</td>\n",
       "      <td>0</td>\n",
       "      <td>1</td>\n",
       "      <td>otros</td>\n",
       "      <td>0</td>\n",
       "      <td>0</td>\n",
       "      <td>0</td>\n",
       "    </tr>\n",
       "    <tr>\n",
       "      <th>4</th>\n",
       "      <td>https://www.roblox.com/es/login</td>\n",
       "      <td>0</td>\n",
       "      <td>6</td>\n",
       "      <td>2.251629</td>\n",
       "      <td>0</td>\n",
       "      <td>0</td>\n",
       "      <td>0</td>\n",
       "      <td>0</td>\n",
       "      <td>1</td>\n",
       "      <td>com</td>\n",
       "      <td>0</td>\n",
       "      <td>0</td>\n",
       "      <td>1</td>\n",
       "    </tr>\n",
       "  </tbody>\n",
       "</table>\n",
       "</div>"
      ],
      "text/plain": [
       "                                                 url  label  domain_length  \\\n",
       "0  https://www.caixabank.es/particular/banca-digi...      0              9   \n",
       "1  https://accounts.google.com/ServiceLogin?servi...      0              6   \n",
       "2  https://www.roblox.com/es/upgrades/robux?ctx=n...      0              6   \n",
       "3                            https://zoom.us/es/join      0              4   \n",
       "4                    https://www.roblox.com/es/login      0              6   \n",
       "\n",
       "   domain_entropy  num_params  contains_at  contains_percent  contains_equal  \\\n",
       "0        2.641604           0            0                 0               0   \n",
       "1        1.918296           1            0                 0               1   \n",
       "2        2.251629           1            0                 0               1   \n",
       "3        1.500000           0            0                 0               0   \n",
       "4        2.251629           0            0                 0               0   \n",
       "\n",
       "   protocol tld_group  suspicious_path_token  free_hosting  trusted_path_token  \n",
       "0         1        es                      1             0                   1  \n",
       "1         1       com                      0             0                   1  \n",
       "2         1       com                      0             0                   0  \n",
       "3         1     otros                      0             0                   0  \n",
       "4         1       com                      0             0                   1  "
      ]
     },
     "execution_count": 25,
     "metadata": {},
     "output_type": "execute_result"
    }
   ],
   "source": [
    "# Añadir la columna trusted_path_token al dataset final de features\n",
    "features_final = df[[\n",
    "    \"url\", \"label\", \"domain_length\", \"domain_entropy\", \"num_params\",\n",
    "    \"contains_at\", \"contains_percent\", \"contains_equal\",\n",
    "    \"protocol\", \"tld_group\", \"suspicious_path_token\",\n",
    "    \"free_hosting\", \"trusted_path_token\"\n",
    "]]\n",
    "\n",
    "# Guardar el CSV actualizado\n",
    "features_final.to_csv(\"features/features_prototipo.csv\", index=False)\n",
    "\n",
    "print(\"✅ CSV actualizado con trusted_path_token guardado en features/features_prototipo.csv\")\n",
    "print(\"Shape final:\", features_final.shape)\n",
    "features_final.head()\n"
   ]
  },
  {
   "cell_type": "code",
   "execution_count": null,
   "id": "ec48a117-921d-4461-82bb-104bd9fbbf99",
   "metadata": {},
   "outputs": [],
   "source": []
  }
 ],
 "metadata": {
  "kernelspec": {
   "display_name": "Python (phishing-env)",
   "language": "python",
   "name": "phishing-env"
  },
  "language_info": {
   "codemirror_mode": {
    "name": "ipython",
    "version": 3
   },
   "file_extension": ".py",
   "mimetype": "text/x-python",
   "name": "python",
   "nbconvert_exporter": "python",
   "pygments_lexer": "ipython3",
   "version": "3.10.18"
  }
 },
 "nbformat": 4,
 "nbformat_minor": 5
}
